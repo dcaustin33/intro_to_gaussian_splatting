{
 "cells": [
  {
   "cell_type": "code",
   "execution_count": 1,
   "metadata": {},
   "outputs": [],
   "source": [
    "import matplotlib.pyplot as plt\n",
    "import numpy as np\n",
    "import torch\n",
    "import tqdm\n",
    "from PIL import Image\n",
    "\n",
    "from splat.gaussians import Gaussians\n",
    "\n",
    "from splat.custom_pytorch_implementation.create_image_auto import (\n",
    "    Camera,\n",
    "    Gaussian,\n",
    "    create_image_covariance_test_auto,\n",
    "    create_image_full_auto,\n",
    "    create_image_full_auto_multiple_gaussians,\n",
    "    create_image_full_auto_multiple_gaussians_with_splat_gaussians,\n",
    ")\n",
    "\n",
    "from splat.custom_pytorch_implementation.create_image_custom import (\n",
    "    create_image_full_custom_multiple_gaussians_with_splat_gaussians,\n",
    ")\n",
    "\n",
    "\n",
    "\n",
    "\n",
    "\n",
    "def return_gaussians() -> Gaussians:\n",
    "    point_3d1 = torch.tensor([[0.101, 0.1001, -4]], dtype=torch.float).requires_grad_(True)\n",
    "    r1 = torch.tensor([[0.5, 0.02, 0.03, 0.001]], dtype=torch.float).requires_grad_(True)\n",
    "    s1 = torch.tensor([[.1, .15, .2]], dtype=torch.float).requires_grad_(True)\n",
    "    color1 = torch.tensor([0.4, 0.6, 0.8], dtype=torch.float).requires_grad_(True)\n",
    "    opacity1 = torch.tensor([0.5], dtype=torch.float).requires_grad_(True)\n",
    "\n",
    "\n",
    "    point_3d2 = torch.tensor([[0.0999, 0.0999, -4.1]], dtype=torch.float).requires_grad_(True)\n",
    "    r2 = torch.tensor([[0.2, 0.04, 0.03, 0.001]], dtype=torch.float).requires_grad_(True)\n",
    "    s2 = torch.tensor([[.2, .16, .1]], dtype=torch.float).requires_grad_(True)\n",
    "    color2 = torch.tensor([0.1, 0.15, 0.2], dtype=torch.float).requires_grad_(True)\n",
    "    opacity2 = torch.tensor([0.9], dtype=torch.float).requires_grad_(True)\n",
    "\n",
    "    return Gaussians(\n",
    "        points=torch.stack([point_3d1, point_3d2]).squeeze(1),\n",
    "        colors=torch.stack([color1, color2]).squeeze(1),\n",
    "        scales=torch.stack([s1, s2]).squeeze(1),\n",
    "        quaternions=torch.stack([r1, r2]).squeeze(1),\n",
    "        opacity=torch.stack([opacity1, opacity2]).squeeze(1),\n",
    "        requires_grad=True\n",
    "    )\n",
    "\n",
    "def return_camera() -> Camera:\n",
    "    focal_x = torch.tensor([100.0])\n",
    "    focal_y = torch.tensor([100.0])\n",
    "    width = 32\n",
    "    height = 32\n",
    "    camera_rotation = torch.tensor([1, 0, 0, 0]).unsqueeze(0)\n",
    "    camera_translation = torch.tensor([[-0.1, -0.1, 0.0]])\n",
    "\n",
    "    return Camera(\n",
    "        focal_x=focal_x,\n",
    "        focal_y=focal_y,\n",
    "        c_x=0.0,\n",
    "        c_y=0.0,\n",
    "        width=width,\n",
    "        height=height,\n",
    "        camera_rotation=camera_rotation,\n",
    "        camera_translation=camera_translation,\n",
    "    )\n",
    "\n",
    "def return_gt_image() -> torch.Tensor:\n",
    "    gt_image = Image.open(\"/Users/derek/Desktop/intro_to_gaussian_splatting/splat/custom_pytorch_implementation/gt.png\")\n",
    "    gt_image = np.array(gt_image) / 255.0\n",
    "    return torch.tensor(gt_image)"
   ]
  },
  {
   "cell_type": "code",
   "execution_count": 3,
   "metadata": {},
   "outputs": [
    {
     "name": "stderr",
     "output_type": "stream",
     "text": [
      "/Users/derek/Desktop/intro_to_gaussian_splatting/splat/custom_pytorch_implementation/auto_functions.py:106: UserWarning: To copy construct from a tensor, it is recommended to use sourceTensor.clone().detach() or sourceTensor.clone().detach().requires_grad_(True), rather than torch.tensor(sourceTensor).\n",
      "  return final_color, torch.tensor(current_T)\n"
     ]
    },
    {
     "name": "stdout",
     "output_type": "stream",
     "text": [
      "mean_3d torch.Size([1, 4])\n",
      "extrinsic_matrix torch.Size([4, 4])\n",
      "mean_3d torch.Size([1, 4])\n",
      "extrinsic_matrix torch.Size([4, 4])\n"
     ]
    },
    {
     "data": {
      "image/png": "[encoded data removed]",
      "text/plain": [
       "<Figure size 640x480 with 1 Axes>"
      ]
     },
     "metadata": {},
     "output_type": "display_data"
    },
    {
     "data": {
      "image/png": "[encoded data removed]",
      "text/plain": [
       "<Figure size 640x480 with 1 Axes>"
      ]
     },
     "metadata": {},
     "output_type": "display_data"
    },
    {
     "name": "stdout",
     "output_type": "stream",
     "text": [
      "True\n"
     ]
    }
   ],
   "source": [
    "camera = return_camera()\n",
    "gaussians = return_gaussians()\n",
    "gt_image = return_gt_image()\n",
    "\n",
    "output_auto1 = create_image_full_auto_multiple_gaussians_with_splat_gaussians(camera, gaussians, camera.height, camera.width)\n",
    "output_auto2 = create_image_full_custom_multiple_gaussians_with_splat_gaussians(camera, gaussians, camera.height, camera.width)\n",
    "plt.imshow(output_auto1.detach().numpy())\n",
    "plt.show()\n",
    "plt.imshow(output_auto2.detach().numpy())\n",
    "plt.show()\n",
    "\n",
    "print(torch.allclose(output_auto1, output_auto2))\n",
    "\n",
    "# optimizer = torch.optim.Adam([r1, s1, point_3d1, color1, opacity1, r2, s2, point_3d2, color2, opacity2], lr=0.00005)\n",
    "\n",
    "\n",
    "\n",
    "\n",
    "\n",
    "# gaussians = Gaussians(\n",
    "#     points=torch.stack([point_3d1, point_3d2]),\n",
    "#     colors=torch.stack([color1, color2]),\n",
    "#     scales=torch.stack([s1, s2]),\n",
    "#     quaternions=torch.stack([r1, r2]),\n",
    "#     opacity=torch.stack([opacity1, opacity2]),\n",
    "# )\n",
    "\n",
    "# pbar = tqdm.tqdm(range(3))\n",
    "# for i in pbar:\n",
    "#     optimizer.zero_grad()\n",
    "\n",
    "#     output_auto = create_image_full_auto_multiple_gaussians(camera, [gaussian1, gaussian2], camera.height, camera.width)\n",
    "\n",
    "#     loss = (output_auto - gt_image).pow(2).mean()\n",
    "#     loss.backward(retain_graph=True)\n",
    "#     optimizer.step()\n",
    "#     pbar.set_postfix(loss=loss.item())\n",
    "#     print(\"loss\", loss)\n",
    "#     print(\"point_3d grad1\", point_3d1.grad)\n",
    "#     print(\"R grad1\", r1.grad)\n",
    "#     print(\"S grad1\", s1.grad)\n",
    "#     print(\"Color grad1\", color1.grad)\n",
    "#     print(\"Opacity grad1\", opacity1.grad)\n",
    "#     print(\"point_3d grad2\", point_3d2.grad)\n",
    "#     print(\"R grad2\", r2.grad)\n",
    "#     print(\"S grad2\", s2.grad)\n",
    "#     print(\"Color grad2\", color2.grad)\n",
    "#     print(\"Opacity grad2\", opacity2.grad)\n",
    "#     print(\"\\n\\n\")\n",
    "\n",
    "    \n",
    "# print(\"GT image\")\n",
    "# print(\"GT image\")\n",
    "# plt.imshow(gt_image)\n",
    "# plt.show()\n",
    "# print(\"Final image\")\n",
    "# plt.imshow(output_auto.detach().numpy())\n",
    "# plt.show()"
   ]
  }
 ],
 "metadata": {
  "kernelspec": {
   "display_name": ".venv",
   "language": "python",
   "name": "python3"
  },
  "language_info": {
   "codemirror_mode": {
    "name": "ipython",
    "version": 3
   },
   "file_extension": ".py",
   "mimetype": "text/x-python",
   "name": "python",
   "nbconvert_exporter": "python",
   "pygments_lexer": "ipython3",
   "version": "3.10.14"
  }
 },
 "nbformat": 4,
 "nbformat_minor": 2
}
