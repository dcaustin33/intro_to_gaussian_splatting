{
 "cells": [
  {
   "cell_type": "code",
   "execution_count": 1,
   "metadata": {},
   "outputs": [
    {
     "name": "stderr",
     "output_type": "stream",
     "text": [
      "/home/da2986/intro_to_gaussian_splatting/.venv/lib/python3.10/site-packages/tqdm/auto.py:21: TqdmWarning: IProgress not found. Please update jupyter and ipywidgets. See https://ipywidgets.readthedocs.io/en/stable/user_install.html\n",
      "  from .autonotebook import tqdm as notebook_tqdm\n"
     ]
    }
   ],
   "source": [
    "import matplotlib.pyplot as plt\n",
    "import numpy as np\n",
    "import torch\n",
    "import tqdm\n",
    "from PIL import Image\n",
    "\n",
    "from splat.custom_pytorch_implementation.create_image_auto import (\n",
    "    Camera,\n",
    "    create_image_full_auto_multiple_gaussians_with_splat_gaussians,\n",
    ")\n",
    "from splat.custom_pytorch_implementation.create_image_custom import (\n",
    "    create_image_full_custom_multiple_gaussians_with_splat_gaussians,\n",
    ")\n",
    "from splat.gaussians import Gaussians\n",
    "from splat.render_engine.gaussianScene2 import GaussianScene2\n",
    "\n",
    "\n",
    "def return_gaussians() -> Gaussians:\n",
    "    device = torch.device(\"cuda\" if torch.cuda.is_available() else \"cpu\")\n",
    "    point_3d1 = torch.tensor([[0.101, 0.1001, 4]], dtype=torch.float32, device=device).requires_grad_(\n",
    "        True\n",
    "    )\n",
    "    r1 = torch.tensor([[0.5, 0.02, 0.03, 0.001]], dtype=torch.float32, device=device).requires_grad_(\n",
    "        True\n",
    "    )\n",
    "    s1 = torch.tensor([[0.1, 0.15, 0.2]], dtype=torch.float32, device=device).requires_grad_(True)\n",
    "    color1 = torch.tensor([0.4, 0.6, 0.8], dtype=torch.float32, device=device).requires_grad_(True)\n",
    "    opacity1 = torch.tensor([0.5], dtype=torch.float32, device=device).requires_grad_(True)\n",
    "\n",
    "    point_3d2 = torch.tensor(\n",
    "        [[0.0999, 0.0999, 4.1]], dtype=torch.float32, device=device\n",
    "    ).requires_grad_(True)\n",
    "    r2 = torch.tensor([[0.2, 0.04, 0.03, 0.001]], dtype=torch.float32, device=device).requires_grad_(\n",
    "        True\n",
    "    )\n",
    "    s2 = torch.tensor([[0.2, 0.16, 0.1]], dtype=torch.float32, device=device).requires_grad_(True)\n",
    "    color2 = torch.tensor([0.1, 0.15, 0.2], dtype=torch.float32, device=device).requires_grad_(True)\n",
    "    opacity2 = torch.tensor([0.9], dtype=torch.float32, device=device).requires_grad_(True)\n",
    "\n",
    "    return Gaussians(\n",
    "        points=torch.stack([point_3d1, point_3d2]).squeeze(1),\n",
    "        colors=torch.stack([color1, color2]).squeeze(1),\n",
    "        scales=torch.stack([s1, s2]).squeeze(1),\n",
    "        quaternions=torch.stack([r1, r2]).squeeze(1),\n",
    "        opacity=torch.stack([opacity1, opacity2]).squeeze(1),\n",
    "        requires_grad=True\n",
    "    )\n",
    "\n",
    "\n",
    "def return_camera() -> Camera:\n",
    "    device = torch.device(\"cuda\" if torch.cuda.is_available() else \"cpu\")\n",
    "    focal_x = torch.tensor([100.0], device=device)\n",
    "    focal_y = torch.tensor([100.0], device=device)\n",
    "    width = 32\n",
    "    height = 32\n",
    "    camera_rotation = torch.tensor([1, 0, 0, 0], device=device).unsqueeze(0)\n",
    "    camera_translation = torch.tensor([[-0.1, -0.1, 0.0]], device=device)\n",
    "\n",
    "    return Camera(\n",
    "        focal_x=focal_x,\n",
    "        focal_y=focal_y,\n",
    "        c_x=0.0,\n",
    "        c_y=0.0,\n",
    "        width=width,\n",
    "        height=height,\n",
    "        camera_rotation=camera_rotation,\n",
    "        camera_translation=camera_translation,\n",
    "        device=device\n",
    "    )\n",
    "\n",
    "\n",
    "def return_gt_image() -> torch.Tensor:\n",
    "    gt_image = Image.open(\"gt.png\")\n",
    "    gt_image = np.array(gt_image) / 255.0\n",
    "    return torch.tensor(gt_image)\n",
    "\n",
    "\n",
    "def preprocess_for_gaussian_scene(camera: Camera, gaussian_scene: GaussianScene2) -> Gaussians:\n",
    "    extrinsic_matrix = camera.extrinsic_matrix\n",
    "    intrinsic_matrix = camera.intrinsic_matrix\n",
    "    focal_x = camera.focal_x\n",
    "    focal_y = camera.focal_y\n",
    "    width = camera.width\n",
    "    height = camera.height\n",
    "    tile_size = 16\n",
    "    preprocessed_gaussians = gaussian_scene.preprocess(\n",
    "        extrinsic_matrix=extrinsic_matrix,\n",
    "        intrinsic_matrix=intrinsic_matrix,\n",
    "        focal_x=focal_x,\n",
    "        focal_y=focal_y,\n",
    "        width=width,\n",
    "        height=height,\n",
    "        tile_size=tile_size,\n",
    "    )\n",
    "    return preprocessed_gaussians"
   ]
  },
  {
   "cell_type": "code",
   "execution_count": 2,
   "metadata": {},
   "outputs": [
    {
     "name": "stdout",
     "output_type": "stream",
     "text": [
      "all_final_means_2d [tensor([[ 3.3907, 14.2891,  5.0000]], device='cuda:0', grad_fn=<CatBackward0>), tensor([[16.6814, 16.6814,  5.1000]], device='cuda:0', grad_fn=<CatBackward0>)]\n",
      "all_opacity [tensor([0.5000], device='cuda:0', grad_fn=<SliceBackward0>), tensor([0.9000], device='cuda:0', grad_fn=<SliceBackward0>)]\n",
      "all_color [tensor([[0.4000, 0.6000, 0.8000]], device='cuda:0', grad_fn=<SliceBackward0>), tensor([[0.1000, 0.1500, 0.2000]], device='cuda:0', grad_fn=<SliceBackward0>)]\n",
      "inverted_covariance [tensor([[[0.1467, 0.0017],\n",
      "         [0.0017, 0.0693]]], device='cuda:0', grad_fn=<CopySlices>), tensor([[[ 0.0445, -0.0048],\n",
      "         [-0.0048,  0.0706]]], device='cuda:0', grad_fn=<CopySlices>)]\n",
      "current_t tensor(1.)\n",
      "alpha tensor([[0.0005]], device='cuda:0', grad_fn=<MulBackward0>)\n",
      "color tensor([[0.4000, 0.6000, 0.8000]], device='cuda:0', grad_fn=<SliceBackward0>)\n",
      "current_t tensor(1.)\n",
      "alpha tensor([[1.7703e-06]], device='cuda:0', grad_fn=<MulBackward0>)\n",
      "color tensor([[0.1000, 0.1500, 0.2000]], device='cuda:0', grad_fn=<SliceBackward0>)\n"
     ]
    },
    {
     "name": "stderr",
     "output_type": "stream",
     "text": [
      "/home/da2986/intro_to_gaussian_splatting/splat/custom_pytorch_implementation/auto_functions.py:118: UserWarning: To copy construct from a tensor, it is recommended to use sourceTensor.clone().detach() or sourceTensor.clone().detach().requires_grad_(True), rather than torch.tensor(sourceTensor).\n",
      "  return final_color, torch.tensor(current_T)\n"
     ]
    },
    {
     "data": {
      "image/png": "[encoded data removed]",
      "text/plain": [
       "<Figure size 640x480 with 1 Axes>"
      ]
     },
     "metadata": {},
     "output_type": "display_data"
    },
    {
     "name": "stdout",
     "output_type": "stream",
     "text": [
      "WARNING: not using scale activation\n",
      "WARNING: Not filtering in view\n",
      "means tensor([[ 3.3907, 14.2891,  5.0000],\n",
      "        [16.6814, 16.6814,  5.1000]], device='cuda:0', grad_fn=<CopySlices>)\n",
      "opacity tensor([0.5000, 0.9000], device='cuda:0', grad_fn=<IndexBackward0>)\n",
      "color tensor([[0.4000, 0.6000, 0.8000],\n",
      "        [0.1000, 0.1500, 0.2000]], device='cuda:0', grad_fn=<IndexBackward0>)\n",
      "inverted_covariance_2d tensor([[[ 0.1467,  0.0017],\n",
      "         [ 0.0017,  0.0693]],\n",
      "\n",
      "        [[ 0.0445, -0.0048],\n",
      "         [-0.0048,  0.0706]]], device='cuda:0', grad_fn=<CopySlices>)\n"
     ]
    },
    {
     "data": {
      "image/png": "[encoded data removed]",
      "text/plain": [
       "<Figure size 640x480 with 1 Axes>"
      ]
     },
     "metadata": {},
     "output_type": "display_data"
    },
    {
     "name": "stdout",
     "output_type": "stream",
     "text": [
      "True\n"
     ]
    }
   ],
   "source": [
    "camera = return_camera()\n",
    "gaussians = return_gaussians()\n",
    "# gt_image = return_gt_image()\n",
    "\n",
    "output_auto1 = create_image_full_auto_multiple_gaussians_with_splat_gaussians(\n",
    "    camera, gaussians, camera.height, camera.width\n",
    ")\n",
    "plt.imshow(output_auto1.detach().cpu().numpy())\n",
    "plt.show()\n",
    "# output_custom = create_image_full_custom_multiple_gaussians_with_splat_gaussians(\n",
    "#     camera, gaussians, camera.height, camera.width\n",
    "# )\n",
    "# print(torch.allclose(output_auto1, output_custom))\n",
    "\n",
    "gaussian_scene = GaussianScene2(gaussians=gaussians)\n",
    "preprocessed_gaussians = preprocess_for_gaussian_scene(camera, gaussian_scene)\n",
    "output_scene = gaussian_scene.render_cuda(\n",
    "    preprocessed_gaussians=preprocessed_gaussians,\n",
    "    height=camera.height,\n",
    "    width=camera.width,\n",
    "    tile_size=16,\n",
    ")\n",
    "plt.imshow(output_scene.detach().cpu().numpy())\n",
    "plt.show()\n",
    "print(torch.allclose(output_auto1, output_scene, atol=1e-5))"
   ]
  },
  {
   "cell_type": "code",
   "execution_count": 3,
   "metadata": {},
   "outputs": [
    {
     "data": {
      "text/plain": [
       "tensor([0., 0., 0.], device='cuda:0', grad_fn=<SelectBackward0>)"
      ]
     },
     "execution_count": 3,
     "metadata": {},
     "output_type": "execute_result"
    }
   ],
   "source": [
    "output_auto1[0, 3]"
   ]
  },
  {
   "cell_type": "code",
   "execution_count": 4,
   "metadata": {},
   "outputs": [
    {
     "data": {
      "text/plain": [
       "tensor([0., 0., 0.], device='cuda:0')"
      ]
     },
     "execution_count": 4,
     "metadata": {},
     "output_type": "execute_result"
    }
   ],
   "source": [
    "output_scene[0, 3]"
   ]
  },
  {
   "cell_type": "code",
   "execution_count": 5,
   "metadata": {},
   "outputs": [
    {
     "name": "stdout",
     "output_type": "stream",
     "text": [
      "Maximum difference occurs at pixel (12, 2)\n",
      "Scene value: tensor([0.1792, 0.2688, 0.3583], device='cuda:0')\n",
      "Auto value: tensor([0.1792, 0.2688, 0.3583], device='cuda:0', grad_fn=<SelectBackward0>)\n"
     ]
    },
    {
     "name": "stderr",
     "output_type": "stream",
     "text": [
      "/var/tmp/ipykernel_25952/1678247111.py:7: UserWarning: __floordiv__ is deprecated, and its behavior will change in a future version of pytorch. It currently rounds toward 0 (like the 'trunc' function NOT 'floor'). This results in incorrect rounding for negative values. To keep the current behavior, use torch.div(a, b, rounding_mode='trunc'), or for actual floor division, use torch.div(a, b, rounding_mode='floor').\n",
      "  h = max_diff_idx // camera.width\n"
     ]
    }
   ],
   "source": [
    "# Find pixel location with maximum difference between images\n",
    "diff = torch.abs(output_scene - output_auto1)\n",
    "max_diff = torch.max(diff.sum(dim=-1))  # Sum across color channels\n",
    "max_diff_idx = torch.argmax(diff.sum(dim=-1))  # Get flattened index\n",
    "\n",
    "# Convert flat index to 2D coordinates\n",
    "h = max_diff_idx // camera.width\n",
    "w = max_diff_idx % camera.width\n",
    "\n",
    "print(f\"Maximum difference occurs at pixel ({h}, {w})\")\n",
    "print(f\"Scene value: {output_scene[h,w]}\")\n",
    "print(f\"Auto value: {output_auto1[h,w]}\")\n"
   ]
  }
 ],
 "metadata": {
  "kernelspec": {
   "display_name": ".venv",
   "language": "python",
   "name": "python3"
  },
  "language_info": {
   "codemirror_mode": {
    "name": "ipython",
    "version": 3
   },
   "file_extension": ".py",
   "mimetype": "text/x-python",
   "name": "python",
   "nbconvert_exporter": "python",
   "pygments_lexer": "ipython3",
   "version": "3.10.15"
  }
 },
 "nbformat": 4,
 "nbformat_minor": 2
}
