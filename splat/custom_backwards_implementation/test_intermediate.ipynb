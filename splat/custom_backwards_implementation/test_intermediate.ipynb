{
 "cells": [
  {
   "cell_type": "code",
   "execution_count": 1,
   "metadata": {},
   "outputs": [
    {
     "name": "stderr",
     "output_type": "stream",
     "text": [
      "/home/da2986/intro_to_gaussian_splatting/.venv/lib/python3.10/site-packages/tqdm/auto.py:21: TqdmWarning: IProgress not found. Please update jupyter and ipywidgets. See https://ipywidgets.readthedocs.io/en/stable/user_install.html\n",
      "  from .autonotebook import tqdm as notebook_tqdm\n"
     ]
    }
   ],
   "source": [
    "import os\n",
    "from dataclasses import dataclass\n",
    "\n",
    "import matplotlib.pyplot as plt\n",
    "import numpy as np\n",
    "import torch\n",
    "import tqdm\n",
    "from PIL import Image\n",
    "from torch.optim import Adam\n",
    "\n",
    "from splat.custom_pytorch_implementation.create_image_auto import (\n",
    "    Camera,\n",
    "    create_image_full_auto_multiple_gaussians_with_splat_gaussians,\n",
    ")\n",
    "from splat.custom_pytorch_implementation.create_image_custom import (\n",
    "    create_image_full_custom_multiple_gaussians_with_splat_gaussians,\n",
    ")\n",
    "from splat.gaussians import Gaussians\n",
    "from splat.render_engine.gaussianScene2 import GaussianScene2\n",
    "\n",
    "\n",
    "def return_gaussians() -> Gaussians:\n",
    "    \"\"\"\n",
    "    Creates a set of Gaussian parameters as nn.Parameters. \n",
    "    These parameters are used to build a Gaussian scene and will be optimized.\n",
    "    \n",
    "    Note: Call this function only once before training so that the optimizer \n",
    "    holds persistent parameter references. Each forward pass will create a \n",
    "    fresh computation graph.\n",
    "    \"\"\"\n",
    "    device = torch.device(\"cuda\" if torch.cuda.is_available() else \"cpu\")\n",
    "    points = torch.tensor([[0.101, 0.1001, 4.0], [0.0999, 0.0999, 4.1]], dtype=torch.float32, device=device)\n",
    "    colors = torch.tensor([[0.4, 0.6, 0.8], [0.1, 0.15, 0.2]], dtype=torch.float32, device=device)\n",
    "    scales = torch.tensor([[0.1, 0.15, 0.2], [0.2, 0.16, 0.1]], dtype=torch.float32, device=device)\n",
    "    quaternions = torch.tensor([[0.5, 0.02, 0.03, 0.001], [0.2, 0.04, 0.03, 0.001]], dtype=torch.float32, device=device)\n",
    "    opacity = torch.tensor([0.5, 0.9], dtype=torch.float32, device=device)\n",
    "    \n",
    "    gaussians = Gaussians(\n",
    "        points=points,\n",
    "        colors=colors,\n",
    "        scales=scales,\n",
    "        quaternions=quaternions,\n",
    "        opacity=opacity,\n",
    "        requires_grad=True\n",
    "    )\n",
    "    \n",
    "    return gaussians\n",
    "\n",
    "\n",
    "def return_camera() -> Camera:\n",
    "    device = torch.device(\"cuda\" if torch.cuda.is_available() else \"cpu\")\n",
    "    focal_x = torch.tensor([100.0], device=device, dtype=torch.float32)\n",
    "    focal_y = torch.tensor([100.0], device=device, dtype=torch.float32)\n",
    "    width = 32\n",
    "    height = 32\n",
    "    camera_rotation = torch.tensor([1, 0, 0, 0], device=device, dtype=torch.float32).unsqueeze(0)\n",
    "    camera_translation = torch.tensor([[-0.1, -0.1, 0.0]], device=device, dtype=torch.float32)\n",
    "\n",
    "    return Camera(\n",
    "        focal_x=focal_x,\n",
    "        focal_y=focal_y,\n",
    "        c_x=0.0,\n",
    "        c_y=0.0,\n",
    "        width=width,\n",
    "        height=height,\n",
    "        camera_rotation=camera_rotation,\n",
    "        camera_translation=camera_translation,\n",
    "        device=device\n",
    "    )\n",
    "\n",
    "\n",
    "def return_gt_image() -> torch.Tensor:\n",
    "    gt_image = Image.open(\"../custom_pytorch_implementation/gt.png\")\n",
    "    gt_image = np.array(gt_image) / 255.0\n",
    "    gt_image = torch.tensor(gt_image).float()\n",
    "    return gt_image.to(\"cuda\")\n",
    "\n",
    "\n",
    "def preprocess_for_gaussian_scene(camera: Camera, gaussian_scene: GaussianScene2) -> Gaussians:\n",
    "    extrinsic_matrix = camera.extrinsic_matrix\n",
    "    intrinsic_matrix = camera.intrinsic_matrix\n",
    "    focal_x = camera.focal_x\n",
    "    focal_y = camera.focal_y\n",
    "    width = camera.width\n",
    "    height = camera.height\n",
    "    tile_size = 16\n",
    "    preprocessed_gaussians = gaussian_scene.preprocess(\n",
    "        extrinsic_matrix=extrinsic_matrix,\n",
    "        intrinsic_matrix=intrinsic_matrix,\n",
    "        focal_x=focal_x,\n",
    "        focal_y=focal_y,\n",
    "        width=width,\n",
    "        height=height,\n",
    "        tile_size=tile_size,\n",
    "    )\n",
    "    return preprocessed_gaussians"
   ]
  },
  {
   "cell_type": "markdown",
   "metadata": {},
   "source": [
    "# Auto"
   ]
  },
  {
   "cell_type": "code",
   "execution_count": 2,
   "metadata": {},
   "outputs": [
    {
     "name": "stderr",
     "output_type": "stream",
     "text": [
      "  0%|          | 0/50 [00:00<?, ?it/s]/home/da2986/intro_to_gaussian_splatting/splat/custom_pytorch_implementation/auto_functions.py:118: UserWarning: To copy construct from a tensor, it is recommended to use sourceTensor.clone().detach() or sourceTensor.clone().detach().requires_grad_(True), rather than torch.tensor(sourceTensor).\n",
      "  return final_color, torch.tensor(current_T)\n"
     ]
    },
    {
     "name": "stdout",
     "output_type": "stream",
     "text": [
      "I: 0. Loss value 0.01618906483054161\n"
     ]
    },
    {
     "name": "stderr",
     "output_type": "stream",
     "text": [
      "  2%|▏         | 1/50 [00:02<01:43,  2.11s/it]"
     ]
    },
    {
     "name": "stdout",
     "output_type": "stream",
     "text": [
      "I: 1. Loss value 0.01998605579137802\n"
     ]
    },
    {
     "name": "stderr",
     "output_type": "stream",
     "text": [
      "  4%|▍         | 2/50 [00:03<01:20,  1.67s/it]"
     ]
    },
    {
     "name": "stdout",
     "output_type": "stream",
     "text": [
      "I: 2. Loss value 0.01844169944524765\n"
     ]
    },
    {
     "name": "stderr",
     "output_type": "stream",
     "text": [
      "  6%|▌         | 3/50 [00:04<01:12,  1.54s/it]"
     ]
    },
    {
     "name": "stdout",
     "output_type": "stream",
     "text": [
      "I: 3. Loss value 0.015570840798318386\n"
     ]
    },
    {
     "name": "stderr",
     "output_type": "stream",
     "text": [
      "  8%|▊         | 4/50 [00:06<01:08,  1.49s/it]"
     ]
    },
    {
     "name": "stdout",
     "output_type": "stream",
     "text": [
      "I: 4. Loss value 0.014558754861354828\n"
     ]
    },
    {
     "name": "stderr",
     "output_type": "stream",
     "text": [
      " 10%|█         | 5/50 [00:07<01:06,  1.48s/it]"
     ]
    },
    {
     "name": "stdout",
     "output_type": "stream",
     "text": [
      "I: 5. Loss value 0.007656083907932043\n"
     ]
    },
    {
     "name": "stderr",
     "output_type": "stream",
     "text": [
      " 12%|█▏        | 6/50 [00:09<01:05,  1.49s/it]"
     ]
    },
    {
     "name": "stdout",
     "output_type": "stream",
     "text": [
      "I: 6. Loss value 0.010975882411003113\n"
     ]
    },
    {
     "name": "stderr",
     "output_type": "stream",
     "text": [
      " 14%|█▍        | 7/50 [00:10<01:04,  1.49s/it]"
     ]
    },
    {
     "name": "stdout",
     "output_type": "stream",
     "text": [
      "I: 7. Loss value 0.01234724372625351\n"
     ]
    },
    {
     "name": "stderr",
     "output_type": "stream",
     "text": [
      " 16%|█▌        | 8/50 [00:12<01:00,  1.45s/it]"
     ]
    },
    {
     "name": "stdout",
     "output_type": "stream",
     "text": [
      "I: 8. Loss value 0.009772347286343575\n"
     ]
    },
    {
     "name": "stderr",
     "output_type": "stream",
     "text": [
      " 18%|█▊        | 9/50 [00:13<00:58,  1.42s/it]"
     ]
    },
    {
     "name": "stdout",
     "output_type": "stream",
     "text": [
      "I: 9. Loss value 0.00865640863776207\n"
     ]
    },
    {
     "name": "stderr",
     "output_type": "stream",
     "text": [
      " 20%|██        | 10/50 [00:14<00:55,  1.40s/it]"
     ]
    },
    {
     "name": "stdout",
     "output_type": "stream",
     "text": [
      "I: 10. Loss value 0.01089880894869566\n"
     ]
    },
    {
     "name": "stderr",
     "output_type": "stream",
     "text": [
      " 22%|██▏       | 11/50 [00:16<00:53,  1.38s/it]"
     ]
    },
    {
     "name": "stdout",
     "output_type": "stream",
     "text": [
      "I: 11. Loss value 0.010082813911139965\n"
     ]
    },
    {
     "name": "stderr",
     "output_type": "stream",
     "text": [
      " 24%|██▍       | 12/50 [00:17<00:52,  1.37s/it]"
     ]
    },
    {
     "name": "stdout",
     "output_type": "stream",
     "text": [
      "I: 12. Loss value 0.007368808146566153\n"
     ]
    },
    {
     "name": "stderr",
     "output_type": "stream",
     "text": [
      " 26%|██▌       | 13/50 [00:18<00:50,  1.36s/it]"
     ]
    },
    {
     "name": "stdout",
     "output_type": "stream",
     "text": [
      "I: 13. Loss value 0.008480804041028023\n"
     ]
    },
    {
     "name": "stderr",
     "output_type": "stream",
     "text": [
      " 28%|██▊       | 14/50 [00:20<00:48,  1.33s/it]"
     ]
    },
    {
     "name": "stdout",
     "output_type": "stream",
     "text": [
      "I: 14. Loss value 0.009648559615015984\n"
     ]
    },
    {
     "name": "stderr",
     "output_type": "stream",
     "text": [
      " 30%|███       | 15/50 [00:21<00:45,  1.31s/it]"
     ]
    },
    {
     "name": "stdout",
     "output_type": "stream",
     "text": [
      "I: 15. Loss value 0.00778244948014617\n"
     ]
    },
    {
     "name": "stderr",
     "output_type": "stream",
     "text": [
      " 32%|███▏      | 16/50 [00:22<00:43,  1.28s/it]"
     ]
    },
    {
     "name": "stdout",
     "output_type": "stream",
     "text": [
      "I: 16. Loss value 0.006764516234397888\n"
     ]
    },
    {
     "name": "stderr",
     "output_type": "stream",
     "text": [
      " 34%|███▍      | 17/50 [00:23<00:42,  1.27s/it]"
     ]
    },
    {
     "name": "stdout",
     "output_type": "stream",
     "text": [
      "I: 17. Loss value 0.008198111318051815\n"
     ]
    },
    {
     "name": "stderr",
     "output_type": "stream",
     "text": [
      " 36%|███▌      | 18/50 [00:25<00:40,  1.27s/it]"
     ]
    },
    {
     "name": "stdout",
     "output_type": "stream",
     "text": [
      "I: 18. Loss value 0.007839741185307503\n"
     ]
    },
    {
     "name": "stderr",
     "output_type": "stream",
     "text": [
      " 38%|███▊      | 19/50 [00:26<00:39,  1.27s/it]"
     ]
    },
    {
     "name": "stdout",
     "output_type": "stream",
     "text": [
      "I: 19. Loss value 0.006377967074513435\n"
     ]
    },
    {
     "name": "stderr",
     "output_type": "stream",
     "text": [
      " 40%|████      | 20/50 [00:27<00:37,  1.26s/it]"
     ]
    },
    {
     "name": "stdout",
     "output_type": "stream",
     "text": [
      "I: 20. Loss value 0.006771422456949949\n"
     ]
    },
    {
     "name": "stderr",
     "output_type": "stream",
     "text": [
      " 42%|████▏     | 21/50 [00:28<00:36,  1.26s/it]"
     ]
    },
    {
     "name": "stdout",
     "output_type": "stream",
     "text": [
      "I: 21. Loss value 0.007160133682191372\n"
     ]
    },
    {
     "name": "stderr",
     "output_type": "stream",
     "text": [
      " 44%|████▍     | 22/50 [00:30<00:34,  1.25s/it]"
     ]
    },
    {
     "name": "stdout",
     "output_type": "stream",
     "text": [
      "I: 22. Loss value 0.0062881456688046455\n"
     ]
    },
    {
     "name": "stderr",
     "output_type": "stream",
     "text": [
      " 46%|████▌     | 23/50 [00:31<00:33,  1.24s/it]"
     ]
    },
    {
     "name": "stdout",
     "output_type": "stream",
     "text": [
      "I: 23. Loss value 0.005974125117063522\n"
     ]
    },
    {
     "name": "stderr",
     "output_type": "stream",
     "text": [
      " 48%|████▊     | 24/50 [00:32<00:32,  1.24s/it]"
     ]
    },
    {
     "name": "stdout",
     "output_type": "stream",
     "text": [
      "I: 24. Loss value 0.006230670027434826\n"
     ]
    },
    {
     "name": "stderr",
     "output_type": "stream",
     "text": [
      " 50%|█████     | 25/50 [00:33<00:31,  1.25s/it]"
     ]
    },
    {
     "name": "stdout",
     "output_type": "stream",
     "text": [
      "I: 25. Loss value 0.005928882863372564\n"
     ]
    },
    {
     "name": "stderr",
     "output_type": "stream",
     "text": [
      " 52%|█████▏    | 26/50 [00:35<00:30,  1.25s/it]"
     ]
    },
    {
     "name": "stdout",
     "output_type": "stream",
     "text": [
      "I: 26. Loss value 0.005568410269916058\n"
     ]
    },
    {
     "name": "stderr",
     "output_type": "stream",
     "text": [
      " 54%|█████▍    | 27/50 [00:36<00:28,  1.25s/it]"
     ]
    },
    {
     "name": "stdout",
     "output_type": "stream",
     "text": [
      "I: 27. Loss value 0.005456709768623114\n"
     ]
    },
    {
     "name": "stderr",
     "output_type": "stream",
     "text": [
      " 56%|█████▌    | 28/50 [00:37<00:27,  1.25s/it]"
     ]
    },
    {
     "name": "stdout",
     "output_type": "stream",
     "text": [
      "I: 28. Loss value 0.005369092803448439\n"
     ]
    },
    {
     "name": "stderr",
     "output_type": "stream",
     "text": [
      " 58%|█████▊    | 29/50 [00:38<00:26,  1.26s/it]"
     ]
    },
    {
     "name": "stdout",
     "output_type": "stream",
     "text": [
      "I: 29. Loss value 0.005219136830419302\n"
     ]
    },
    {
     "name": "stderr",
     "output_type": "stream",
     "text": [
      " 60%|██████    | 30/50 [00:40<00:25,  1.27s/it]"
     ]
    },
    {
     "name": "stdout",
     "output_type": "stream",
     "text": [
      "I: 30. Loss value 0.004885929636657238\n"
     ]
    },
    {
     "name": "stderr",
     "output_type": "stream",
     "text": [
      " 62%|██████▏   | 31/50 [00:41<00:24,  1.27s/it]"
     ]
    },
    {
     "name": "stdout",
     "output_type": "stream",
     "text": [
      "I: 31. Loss value 0.004790999460965395\n"
     ]
    },
    {
     "name": "stderr",
     "output_type": "stream",
     "text": [
      " 64%|██████▍   | 32/50 [00:42<00:22,  1.28s/it]"
     ]
    },
    {
     "name": "stdout",
     "output_type": "stream",
     "text": [
      "I: 32. Loss value 0.004821966402232647\n"
     ]
    },
    {
     "name": "stderr",
     "output_type": "stream",
     "text": [
      " 66%|██████▌   | 33/50 [00:43<00:21,  1.28s/it]"
     ]
    },
    {
     "name": "stdout",
     "output_type": "stream",
     "text": [
      "I: 33. Loss value 0.004419336095452309\n"
     ]
    },
    {
     "name": "stderr",
     "output_type": "stream",
     "text": [
      " 68%|██████▊   | 34/50 [00:45<00:20,  1.28s/it]"
     ]
    },
    {
     "name": "stdout",
     "output_type": "stream",
     "text": [
      "I: 34. Loss value 0.004291763063520193\n"
     ]
    },
    {
     "name": "stderr",
     "output_type": "stream",
     "text": [
      " 70%|███████   | 35/50 [00:46<00:19,  1.28s/it]"
     ]
    },
    {
     "name": "stdout",
     "output_type": "stream",
     "text": [
      "I: 35. Loss value 0.004391043446958065\n"
     ]
    },
    {
     "name": "stderr",
     "output_type": "stream",
     "text": [
      " 72%|███████▏  | 36/50 [00:47<00:18,  1.29s/it]"
     ]
    },
    {
     "name": "stdout",
     "output_type": "stream",
     "text": [
      "I: 36. Loss value 0.003989160060882568\n"
     ]
    },
    {
     "name": "stderr",
     "output_type": "stream",
     "text": [
      " 74%|███████▍  | 37/50 [00:49<00:16,  1.30s/it]"
     ]
    },
    {
     "name": "stdout",
     "output_type": "stream",
     "text": [
      "I: 37. Loss value 0.0038816630840301514\n"
     ]
    },
    {
     "name": "stderr",
     "output_type": "stream",
     "text": [
      " 76%|███████▌  | 38/50 [00:50<00:15,  1.30s/it]"
     ]
    },
    {
     "name": "stdout",
     "output_type": "stream",
     "text": [
      "I: 38. Loss value 0.003952739294618368\n"
     ]
    },
    {
     "name": "stderr",
     "output_type": "stream",
     "text": [
      " 78%|███████▊  | 39/50 [00:51<00:14,  1.30s/it]"
     ]
    },
    {
     "name": "stdout",
     "output_type": "stream",
     "text": [
      "I: 39. Loss value 0.003588741645216942\n"
     ]
    },
    {
     "name": "stderr",
     "output_type": "stream",
     "text": [
      " 80%|████████  | 40/50 [00:53<00:13,  1.31s/it]"
     ]
    },
    {
     "name": "stdout",
     "output_type": "stream",
     "text": [
      "I: 40. Loss value 0.003534098621457815\n"
     ]
    },
    {
     "name": "stderr",
     "output_type": "stream",
     "text": [
      " 82%|████████▏ | 41/50 [00:54<00:11,  1.31s/it]"
     ]
    },
    {
     "name": "stdout",
     "output_type": "stream",
     "text": [
      "I: 41. Loss value 0.003522395621985197\n"
     ]
    },
    {
     "name": "stderr",
     "output_type": "stream",
     "text": [
      " 84%|████████▍ | 42/50 [00:55<00:10,  1.31s/it]"
     ]
    },
    {
     "name": "stdout",
     "output_type": "stream",
     "text": [
      "I: 42. Loss value 0.003234650706872344\n"
     ]
    },
    {
     "name": "stderr",
     "output_type": "stream",
     "text": [
      " 86%|████████▌ | 43/50 [00:57<00:09,  1.32s/it]"
     ]
    },
    {
     "name": "stdout",
     "output_type": "stream",
     "text": [
      "I: 43. Loss value 0.003212348558008671\n"
     ]
    },
    {
     "name": "stderr",
     "output_type": "stream",
     "text": [
      " 88%|████████▊ | 44/50 [00:58<00:07,  1.33s/it]"
     ]
    },
    {
     "name": "stdout",
     "output_type": "stream",
     "text": [
      "I: 44. Loss value 0.003120778826996684\n"
     ]
    },
    {
     "name": "stderr",
     "output_type": "stream",
     "text": [
      " 90%|█████████ | 45/50 [00:59<00:06,  1.33s/it]"
     ]
    },
    {
     "name": "stdout",
     "output_type": "stream",
     "text": [
      "I: 45. Loss value 0.002934202551841736\n"
     ]
    },
    {
     "name": "stderr",
     "output_type": "stream",
     "text": [
      " 92%|█████████▏| 46/50 [01:01<00:05,  1.34s/it]"
     ]
    },
    {
     "name": "stdout",
     "output_type": "stream",
     "text": [
      "I: 46. Loss value 0.002888315822929144\n"
     ]
    },
    {
     "name": "stderr",
     "output_type": "stream",
     "text": [
      " 94%|█████████▍| 47/50 [01:02<00:04,  1.34s/it]"
     ]
    },
    {
     "name": "stdout",
     "output_type": "stream",
     "text": [
      "I: 47. Loss value 0.002779003931209445\n"
     ]
    },
    {
     "name": "stderr",
     "output_type": "stream",
     "text": [
      " 96%|█████████▌| 48/50 [01:03<00:02,  1.35s/it]"
     ]
    },
    {
     "name": "stdout",
     "output_type": "stream",
     "text": [
      "I: 48. Loss value 0.002658820478245616\n"
     ]
    },
    {
     "name": "stderr",
     "output_type": "stream",
     "text": [
      " 98%|█████████▊| 49/50 [01:05<00:01,  1.36s/it]"
     ]
    },
    {
     "name": "stdout",
     "output_type": "stream",
     "text": [
      "I: 49. Loss value 0.002578723942860961\n"
     ]
    },
    {
     "name": "stderr",
     "output_type": "stream",
     "text": [
      "100%|██████████| 50/50 [01:06<00:00,  1.33s/it]\n"
     ]
    },
    {
     "data": {
      "image/png": "[encoded data removed]",
      "text/plain": [
       "<Figure size 640x480 with 1 Axes>"
      ]
     },
     "metadata": {},
     "output_type": "display_data"
    }
   ],
   "source": [
    "camera = return_camera()\n",
    "gaussians = return_gaussians()\n",
    "gt_image = return_gt_image()\n",
    "\n",
    "optimizer = Adam([\n",
    "    gaussians.points,\n",
    "    gaussians.colors,\n",
    "    gaussians.scales,\n",
    "    gaussians.quaternions,\n",
    "    gaussians.opacity,\n",
    "], lr=0.001)\n",
    "loss = torch.nn.MSELoss()\n",
    "pbar = tqdm.tqdm(range(50))\n",
    "for i in pbar:\n",
    "    output_auto1 = create_image_full_auto_multiple_gaussians_with_splat_gaussians(\n",
    "        camera, gaussians, camera.height, camera.width, verbose=False\n",
    "    )\n",
    "    loss_value = loss(output_auto1, gt_image.float())\n",
    "    print(f\"I: {i}. Loss value\", loss_value.item())\n",
    "    loss_value.backward()\n",
    "    optimizer.step()\n",
    "    optimizer.zero_grad(set_to_none=True)\n",
    "\n",
    "plt.imshow(output_auto1.detach().cpu().numpy())\n",
    "plt.show()\n",
    "\n"
   ]
  },
  {
   "cell_type": "markdown",
   "metadata": {},
   "source": [
    "# Custom"
   ]
  },
  {
   "cell_type": "code",
   "execution_count": 3,
   "metadata": {},
   "outputs": [
    {
     "name": "stderr",
     "output_type": "stream",
     "text": [
      "  2%|▏         | 1/50 [00:02<01:54,  2.33s/it]"
     ]
    },
    {
     "name": "stdout",
     "output_type": "stream",
     "text": [
      "I: 0. Loss value 0.01618906483054161\n"
     ]
    },
    {
     "name": "stderr",
     "output_type": "stream",
     "text": [
      "  4%|▍         | 2/50 [00:04<01:54,  2.39s/it]"
     ]
    },
    {
     "name": "stdout",
     "output_type": "stream",
     "text": [
      "I: 1. Loss value 0.01998605579137802\n"
     ]
    },
    {
     "name": "stderr",
     "output_type": "stream",
     "text": [
      "  6%|▌         | 3/50 [00:07<01:52,  2.38s/it]"
     ]
    },
    {
     "name": "stdout",
     "output_type": "stream",
     "text": [
      "I: 2. Loss value 0.01844169944524765\n"
     ]
    },
    {
     "name": "stderr",
     "output_type": "stream",
     "text": [
      "  8%|▊         | 4/50 [00:09<01:49,  2.37s/it]"
     ]
    },
    {
     "name": "stdout",
     "output_type": "stream",
     "text": [
      "I: 3. Loss value 0.015570840798318386\n"
     ]
    },
    {
     "name": "stderr",
     "output_type": "stream",
     "text": [
      " 10%|█         | 5/50 [00:11<01:47,  2.39s/it]"
     ]
    },
    {
     "name": "stdout",
     "output_type": "stream",
     "text": [
      "I: 4. Loss value 0.014558754861354828\n"
     ]
    },
    {
     "name": "stderr",
     "output_type": "stream",
     "text": [
      " 12%|█▏        | 6/50 [00:14<01:46,  2.42s/it]"
     ]
    },
    {
     "name": "stdout",
     "output_type": "stream",
     "text": [
      "I: 5. Loss value 0.007656083907932043\n"
     ]
    },
    {
     "name": "stderr",
     "output_type": "stream",
     "text": [
      " 14%|█▍        | 7/50 [00:16<01:43,  2.41s/it]"
     ]
    },
    {
     "name": "stdout",
     "output_type": "stream",
     "text": [
      "I: 6. Loss value 0.010975882411003113\n"
     ]
    },
    {
     "name": "stderr",
     "output_type": "stream",
     "text": [
      " 16%|█▌        | 8/50 [00:19<01:41,  2.41s/it]"
     ]
    },
    {
     "name": "stdout",
     "output_type": "stream",
     "text": [
      "I: 7. Loss value 0.01234724372625351\n"
     ]
    },
    {
     "name": "stderr",
     "output_type": "stream",
     "text": [
      " 18%|█▊        | 9/50 [00:21<01:38,  2.40s/it]"
     ]
    },
    {
     "name": "stdout",
     "output_type": "stream",
     "text": [
      "I: 8. Loss value 0.009772347286343575\n"
     ]
    },
    {
     "name": "stderr",
     "output_type": "stream",
     "text": [
      " 20%|██        | 10/50 [00:24<01:36,  2.42s/it]"
     ]
    },
    {
     "name": "stdout",
     "output_type": "stream",
     "text": [
      "I: 9. Loss value 0.008656409569084644\n"
     ]
    },
    {
     "name": "stderr",
     "output_type": "stream",
     "text": [
      " 22%|██▏       | 11/50 [00:26<01:34,  2.42s/it]"
     ]
    },
    {
     "name": "stdout",
     "output_type": "stream",
     "text": [
      "I: 10. Loss value 0.01089880894869566\n"
     ]
    },
    {
     "name": "stderr",
     "output_type": "stream",
     "text": [
      " 24%|██▍       | 12/50 [00:28<01:31,  2.41s/it]"
     ]
    },
    {
     "name": "stdout",
     "output_type": "stream",
     "text": [
      "I: 11. Loss value 0.01008281297981739\n"
     ]
    },
    {
     "name": "stderr",
     "output_type": "stream",
     "text": [
      " 26%|██▌       | 13/50 [00:31<01:29,  2.41s/it]"
     ]
    },
    {
     "name": "stdout",
     "output_type": "stream",
     "text": [
      "I: 12. Loss value 0.007368808146566153\n"
     ]
    },
    {
     "name": "stderr",
     "output_type": "stream",
     "text": [
      " 28%|██▊       | 14/50 [00:33<01:26,  2.40s/it]"
     ]
    },
    {
     "name": "stdout",
     "output_type": "stream",
     "text": [
      "I: 13. Loss value 0.008480804041028023\n"
     ]
    },
    {
     "name": "stderr",
     "output_type": "stream",
     "text": [
      " 30%|███       | 15/50 [00:36<01:24,  2.43s/it]"
     ]
    },
    {
     "name": "stdout",
     "output_type": "stream",
     "text": [
      "I: 14. Loss value 0.009648559615015984\n"
     ]
    },
    {
     "name": "stderr",
     "output_type": "stream",
     "text": [
      " 32%|███▏      | 16/50 [00:38<01:22,  2.41s/it]"
     ]
    },
    {
     "name": "stdout",
     "output_type": "stream",
     "text": [
      "I: 15. Loss value 0.00778244948014617\n"
     ]
    },
    {
     "name": "stderr",
     "output_type": "stream",
     "text": [
      " 34%|███▍      | 17/50 [00:40<01:19,  2.41s/it]"
     ]
    },
    {
     "name": "stdout",
     "output_type": "stream",
     "text": [
      "I: 16. Loss value 0.006764516234397888\n"
     ]
    },
    {
     "name": "stderr",
     "output_type": "stream",
     "text": [
      " 36%|███▌      | 18/50 [00:43<01:16,  2.41s/it]"
     ]
    },
    {
     "name": "stdout",
     "output_type": "stream",
     "text": [
      "I: 17. Loss value 0.008198111318051815\n"
     ]
    },
    {
     "name": "stderr",
     "output_type": "stream",
     "text": [
      " 38%|███▊      | 19/50 [00:45<01:15,  2.42s/it]"
     ]
    },
    {
     "name": "stdout",
     "output_type": "stream",
     "text": [
      "I: 18. Loss value 0.007839741185307503\n"
     ]
    },
    {
     "name": "stderr",
     "output_type": "stream",
     "text": [
      " 40%|████      | 20/50 [00:48<01:12,  2.41s/it]"
     ]
    },
    {
     "name": "stdout",
     "output_type": "stream",
     "text": [
      "I: 19. Loss value 0.006377967074513435\n"
     ]
    },
    {
     "name": "stderr",
     "output_type": "stream",
     "text": [
      " 42%|████▏     | 21/50 [00:50<01:09,  2.40s/it]"
     ]
    },
    {
     "name": "stdout",
     "output_type": "stream",
     "text": [
      "I: 20. Loss value 0.006771421991288662\n"
     ]
    },
    {
     "name": "stderr",
     "output_type": "stream",
     "text": [
      " 44%|████▍     | 22/50 [00:52<01:07,  2.41s/it]"
     ]
    },
    {
     "name": "stdout",
     "output_type": "stream",
     "text": [
      "I: 21. Loss value 0.007160133682191372\n"
     ]
    },
    {
     "name": "stderr",
     "output_type": "stream",
     "text": [
      " 46%|████▌     | 23/50 [00:55<01:04,  2.40s/it]"
     ]
    },
    {
     "name": "stdout",
     "output_type": "stream",
     "text": [
      "I: 22. Loss value 0.0062881456688046455\n"
     ]
    },
    {
     "name": "stderr",
     "output_type": "stream",
     "text": [
      " 48%|████▊     | 24/50 [00:57<01:02,  2.39s/it]"
     ]
    },
    {
     "name": "stdout",
     "output_type": "stream",
     "text": [
      "I: 23. Loss value 0.005974125117063522\n"
     ]
    },
    {
     "name": "stderr",
     "output_type": "stream",
     "text": [
      " 50%|█████     | 25/50 [01:00<00:59,  2.39s/it]"
     ]
    },
    {
     "name": "stdout",
     "output_type": "stream",
     "text": [
      "I: 24. Loss value 0.006230670027434826\n"
     ]
    },
    {
     "name": "stderr",
     "output_type": "stream",
     "text": [
      " 52%|█████▏    | 26/50 [01:02<00:57,  2.39s/it]"
     ]
    },
    {
     "name": "stdout",
     "output_type": "stream",
     "text": [
      "I: 25. Loss value 0.005928882863372564\n"
     ]
    },
    {
     "name": "stderr",
     "output_type": "stream",
     "text": [
      " 54%|█████▍    | 27/50 [01:04<00:55,  2.41s/it]"
     ]
    },
    {
     "name": "stdout",
     "output_type": "stream",
     "text": [
      "I: 26. Loss value 0.005568410269916058\n"
     ]
    },
    {
     "name": "stderr",
     "output_type": "stream",
     "text": [
      " 56%|█████▌    | 28/50 [01:07<00:52,  2.40s/it]"
     ]
    },
    {
     "name": "stdout",
     "output_type": "stream",
     "text": [
      "I: 27. Loss value 0.005456709768623114\n"
     ]
    },
    {
     "name": "stderr",
     "output_type": "stream",
     "text": [
      " 58%|█████▊    | 29/50 [01:09<00:50,  2.39s/it]"
     ]
    },
    {
     "name": "stdout",
     "output_type": "stream",
     "text": [
      "I: 28. Loss value 0.005369092803448439\n"
     ]
    },
    {
     "name": "stderr",
     "output_type": "stream",
     "text": [
      " 60%|██████    | 30/50 [01:12<00:48,  2.40s/it]"
     ]
    },
    {
     "name": "stdout",
     "output_type": "stream",
     "text": [
      "I: 29. Loss value 0.005219136830419302\n"
     ]
    },
    {
     "name": "stderr",
     "output_type": "stream",
     "text": [
      " 62%|██████▏   | 31/50 [01:14<00:45,  2.42s/it]"
     ]
    },
    {
     "name": "stdout",
     "output_type": "stream",
     "text": [
      "I: 30. Loss value 0.004885929636657238\n"
     ]
    },
    {
     "name": "stderr",
     "output_type": "stream",
     "text": [
      " 64%|██████▍   | 32/50 [01:16<00:43,  2.40s/it]"
     ]
    },
    {
     "name": "stdout",
     "output_type": "stream",
     "text": [
      "I: 31. Loss value 0.004790999460965395\n"
     ]
    },
    {
     "name": "stderr",
     "output_type": "stream",
     "text": [
      " 66%|██████▌   | 33/50 [01:19<00:40,  2.40s/it]"
     ]
    },
    {
     "name": "stdout",
     "output_type": "stream",
     "text": [
      "I: 32. Loss value 0.004821966402232647\n"
     ]
    },
    {
     "name": "stderr",
     "output_type": "stream",
     "text": [
      " 68%|██████▊   | 34/50 [01:21<00:38,  2.41s/it]"
     ]
    },
    {
     "name": "stdout",
     "output_type": "stream",
     "text": [
      "I: 33. Loss value 0.004419336095452309\n"
     ]
    },
    {
     "name": "stderr",
     "output_type": "stream",
     "text": [
      " 70%|███████   | 35/50 [01:24<00:36,  2.40s/it]"
     ]
    },
    {
     "name": "stdout",
     "output_type": "stream",
     "text": [
      "I: 34. Loss value 0.004291763063520193\n"
     ]
    },
    {
     "name": "stderr",
     "output_type": "stream",
     "text": [
      " 72%|███████▏  | 36/50 [01:26<00:33,  2.40s/it]"
     ]
    },
    {
     "name": "stdout",
     "output_type": "stream",
     "text": [
      "I: 35. Loss value 0.00439104251563549\n"
     ]
    },
    {
     "name": "stderr",
     "output_type": "stream",
     "text": [
      " 74%|███████▍  | 37/50 [01:28<00:31,  2.39s/it]"
     ]
    },
    {
     "name": "stdout",
     "output_type": "stream",
     "text": [
      "I: 36. Loss value 0.003989160060882568\n"
     ]
    },
    {
     "name": "stderr",
     "output_type": "stream",
     "text": [
      " 76%|███████▌  | 38/50 [01:31<00:28,  2.39s/it]"
     ]
    },
    {
     "name": "stdout",
     "output_type": "stream",
     "text": [
      "I: 37. Loss value 0.0038816630840301514\n"
     ]
    },
    {
     "name": "stderr",
     "output_type": "stream",
     "text": [
      " 78%|███████▊  | 39/50 [01:33<00:26,  2.41s/it]"
     ]
    },
    {
     "name": "stdout",
     "output_type": "stream",
     "text": [
      "I: 38. Loss value 0.003952739294618368\n"
     ]
    },
    {
     "name": "stderr",
     "output_type": "stream",
     "text": [
      " 80%|████████  | 40/50 [01:36<00:24,  2.40s/it]"
     ]
    },
    {
     "name": "stdout",
     "output_type": "stream",
     "text": [
      "I: 39. Loss value 0.003588741645216942\n"
     ]
    },
    {
     "name": "stderr",
     "output_type": "stream",
     "text": [
      " 82%|████████▏ | 41/50 [01:38<00:21,  2.40s/it]"
     ]
    },
    {
     "name": "stdout",
     "output_type": "stream",
     "text": [
      "I: 40. Loss value 0.003534098621457815\n"
     ]
    },
    {
     "name": "stderr",
     "output_type": "stream",
     "text": [
      " 84%|████████▍ | 42/50 [01:40<00:19,  2.39s/it]"
     ]
    },
    {
     "name": "stdout",
     "output_type": "stream",
     "text": [
      "I: 41. Loss value 0.0035223960876464844\n"
     ]
    },
    {
     "name": "stderr",
     "output_type": "stream",
     "text": [
      " 86%|████████▌ | 43/50 [01:43<00:16,  2.41s/it]"
     ]
    },
    {
     "name": "stdout",
     "output_type": "stream",
     "text": [
      "I: 42. Loss value 0.0032346497755497694\n"
     ]
    },
    {
     "name": "stderr",
     "output_type": "stream",
     "text": [
      " 88%|████████▊ | 44/50 [01:45<00:14,  2.39s/it]"
     ]
    },
    {
     "name": "stdout",
     "output_type": "stream",
     "text": [
      "I: 43. Loss value 0.003212348325178027\n"
     ]
    },
    {
     "name": "stderr",
     "output_type": "stream",
     "text": [
      " 90%|█████████ | 45/50 [01:48<00:11,  2.38s/it]"
     ]
    },
    {
     "name": "stdout",
     "output_type": "stream",
     "text": [
      "I: 44. Loss value 0.003120778128504753\n"
     ]
    },
    {
     "name": "stderr",
     "output_type": "stream",
     "text": [
      " 92%|█████████▏| 46/50 [01:50<00:09,  2.40s/it]"
     ]
    },
    {
     "name": "stdout",
     "output_type": "stream",
     "text": [
      "I: 45. Loss value 0.002934203250333667\n"
     ]
    },
    {
     "name": "stderr",
     "output_type": "stream",
     "text": [
      " 94%|█████████▍| 47/50 [01:52<00:07,  2.39s/it]"
     ]
    },
    {
     "name": "stdout",
     "output_type": "stream",
     "text": [
      "I: 46. Loss value 0.002888315822929144\n"
     ]
    },
    {
     "name": "stderr",
     "output_type": "stream",
     "text": [
      " 96%|█████████▌| 48/50 [01:55<00:04,  2.38s/it]"
     ]
    },
    {
     "name": "stdout",
     "output_type": "stream",
     "text": [
      "I: 47. Loss value 0.0027790036983788013\n"
     ]
    },
    {
     "name": "stderr",
     "output_type": "stream",
     "text": [
      " 98%|█████████▊| 49/50 [01:57<00:02,  2.38s/it]"
     ]
    },
    {
     "name": "stdout",
     "output_type": "stream",
     "text": [
      "I: 48. Loss value 0.002658820478245616\n"
     ]
    },
    {
     "name": "stderr",
     "output_type": "stream",
     "text": [
      "100%|██████████| 50/50 [01:59<00:00,  2.40s/it]"
     ]
    },
    {
     "name": "stdout",
     "output_type": "stream",
     "text": [
      "I: 49. Loss value 0.0025787237100303173\n"
     ]
    },
    {
     "name": "stderr",
     "output_type": "stream",
     "text": [
      "\n"
     ]
    },
    {
     "data": {
      "image/png": "[encoded data removed]",
      "text/plain": [
       "<Figure size 640x480 with 1 Axes>"
      ]
     },
     "metadata": {},
     "output_type": "display_data"
    }
   ],
   "source": [
    "camera = return_camera()\n",
    "gaussians = return_gaussians()\n",
    "gaussians.points.retain_grad()\n",
    "gt_image = return_gt_image()\n",
    "\n",
    "optimizer = Adam([\n",
    "    gaussians.points,\n",
    "    gaussians.colors,\n",
    "    gaussians.scales,\n",
    "    gaussians.quaternions,\n",
    "    gaussians.opacity,\n",
    "], lr=0.001)\n",
    "loss = torch.nn.MSELoss()\n",
    "pbar = tqdm.tqdm(range(50))\n",
    "\n",
    "for i in pbar:\n",
    "    output_custom1 = create_image_full_custom_multiple_gaussians_with_splat_gaussians(\n",
    "        camera, gaussians, camera.height, camera.width, verbose=False\n",
    "    )\n",
    "    loss_value = loss(output_custom1, gt_image.float())\n",
    "    loss_value.backward()\n",
    "    print(f\"I: {i}. Loss value\", loss_value.item())\n",
    "    optimizer.step()\n",
    "    optimizer.zero_grad(set_to_none=True)\n",
    "\n",
    "plt.imshow(output_custom1.detach().cpu().numpy())\n",
    "plt.show()"
   ]
  },
  {
   "cell_type": "markdown",
   "metadata": {},
   "source": [
    "# In CUDA"
   ]
  },
  {
   "cell_type": "code",
   "execution_count": 13,
   "metadata": {},
   "outputs": [
    {
     "name": "stderr",
     "output_type": "stream",
     "text": [
      "  2%|▏         | 8/500 [00:00<00:06, 73.30it/s]"
     ]
    },
    {
     "name": "stdout",
     "output_type": "stream",
     "text": [
      "WARNING: not using scale activation\n",
      "I: 0. Loss value 0.01618906483054161\n",
      "WARNING: not using scale activation\n",
      "I: 1. Loss value 0.01998605765402317\n",
      "WARNING: not using scale activation\n",
      "I: 2. Loss value 0.01844169944524765\n",
      "WARNING: not using scale activation\n",
      "I: 3. Loss value 0.015570840798318386\n",
      "WARNING: not using scale activation\n",
      "I: 4. Loss value 0.014558754861354828\n",
      "WARNING: not using scale activation\n",
      "I: 5. Loss value 0.007656083442270756\n",
      "WARNING: not using scale activation\n",
      "I: 6. Loss value 0.010975880548357964\n",
      "WARNING: not using scale activation\n",
      "I: 7. Loss value 0.01234724372625351\n",
      "WARNING: not using scale activation\n",
      "I: 8. Loss value 0.009772345423698425\n",
      "WARNING: not using scale activation\n",
      "I: 9. Loss value 0.008656419813632965\n",
      "WARNING: not using scale activation\n",
      "I: 10. Loss value 0.010898808017373085\n",
      "WARNING: not using scale activation\n",
      "I: 11. Loss value 0.010088833048939705\n",
      "WARNING: not using scale activation\n",
      "I: 12. Loss value 0.007374703884124756\n",
      "WARNING: not using scale activation\n",
      "I: 13. Loss value 0.00848398543894291\n",
      "WARNING: not using scale activation\n",
      "I: 14. Loss value 0.009649748913943768\n"
     ]
    },
    {
     "name": "stderr",
     "output_type": "stream",
     "text": [
      "  5%|▍         | 24/500 [00:00<00:06, 74.69it/s]"
     ]
    },
    {
     "name": "stdout",
     "output_type": "stream",
     "text": [
      "WARNING: not using scale activation\n",
      "I: 15. Loss value 0.0077829016372561455\n",
      "WARNING: not using scale activation\n",
      "I: 16. Loss value 0.006764640565961599\n",
      "WARNING: not using scale activation\n",
      "I: 17. Loss value 0.008198138326406479\n",
      "WARNING: not using scale activation\n",
      "I: 18. Loss value 0.007839737460017204\n",
      "WARNING: not using scale activation\n",
      "I: 19. Loss value 0.006377965211868286\n",
      "WARNING: not using scale activation\n",
      "I: 20. Loss value 0.006771422922611237\n",
      "WARNING: not using scale activation\n",
      "I: 21. Loss value 0.007160193286836147\n",
      "WARNING: not using scale activation\n",
      "I: 22. Loss value 0.0062881456688046455\n",
      "WARNING: not using scale activation\n",
      "I: 23. Loss value 0.005974178668111563\n",
      "WARNING: not using scale activation\n",
      "I: 24. Loss value 0.006230724975466728\n",
      "WARNING: not using scale activation\n",
      "I: 25. Loss value 0.005928882863372564\n",
      "WARNING: not using scale activation\n",
      "I: 26. Loss value 0.005568456836044788\n",
      "WARNING: not using scale activation\n",
      "I: 27. Loss value 0.00545676052570343\n",
      "WARNING: not using scale activation\n",
      "I: 28. Loss value 0.005369092803448439\n",
      "WARNING: not using scale activation\n",
      "I: 29. Loss value 0.005219179205596447\n",
      "WARNING: not using scale activation\n"
     ]
    },
    {
     "name": "stderr",
     "output_type": "stream",
     "text": [
      "  8%|▊         | 40/500 [00:00<00:06, 75.72it/s]"
     ]
    },
    {
     "name": "stdout",
     "output_type": "stream",
     "text": [
      "I: 30. Loss value 0.004885929636657238\n",
      "WARNING: not using scale activation\n",
      "I: 31. Loss value 0.004790999460965395\n",
      "WARNING: not using scale activation\n",
      "I: 32. Loss value 0.00482196593657136\n",
      "WARNING: not using scale activation\n",
      "I: 33. Loss value 0.004419337492436171\n",
      "WARNING: not using scale activation\n",
      "I: 34. Loss value 0.004291763063520193\n",
      "WARNING: not using scale activation\n",
      "I: 35. Loss value 0.004391082562506199\n",
      "WARNING: not using scale activation\n",
      "I: 36. Loss value 0.003989160992205143\n",
      "WARNING: not using scale activation\n",
      "I: 37. Loss value 0.0038816644810140133\n",
      "WARNING: not using scale activation\n",
      "I: 38. Loss value 0.0039527746848762035\n",
      "WARNING: not using scale activation\n",
      "I: 39. Loss value 0.0035887432750314474\n",
      "WARNING: not using scale activation\n",
      "I: 40. Loss value 0.00353412376716733\n",
      "WARNING: not using scale activation\n",
      "I: 41. Loss value 0.0035223965533077717\n",
      "WARNING: not using scale activation\n",
      "I: 42. Loss value 0.003234651405364275\n",
      "WARNING: not using scale activation\n",
      "I: 43. Loss value 0.0032123501878231764\n",
      "WARNING: not using scale activation\n",
      "I: 44. Loss value 0.003120794426649809\n",
      "WARNING: not using scale activation\n",
      "I: 45. Loss value 0.002934202551841736\n"
     ]
    },
    {
     "name": "stderr",
     "output_type": "stream",
     "text": [
      " 11%|█         | 56/500 [00:00<00:05, 75.72it/s]"
     ]
    },
    {
     "name": "stdout",
     "output_type": "stream",
     "text": [
      "WARNING: not using scale activation\n",
      "I: 46. Loss value 0.002888338640332222\n",
      "WARNING: not using scale activation\n",
      "I: 47. Loss value 0.002779004629701376\n",
      "WARNING: not using scale activation\n",
      "I: 48. Loss value 0.0026588428299874067\n",
      "WARNING: not using scale activation\n",
      "I: 49. Loss value 0.0025787486229091883\n",
      "WARNING: not using scale activation\n",
      "I: 50. Loss value 0.0025012807454913855\n",
      "WARNING: not using scale activation\n",
      "I: 51. Loss value 0.002383497543632984\n",
      "WARNING: not using scale activation\n",
      "I: 52. Loss value 0.0023201508447527885\n",
      "WARNING: not using scale activation\n",
      "I: 53. Loss value 0.0022483589127659798\n",
      "WARNING: not using scale activation\n",
      "I: 54. Loss value 0.0021338060032576323\n",
      "WARNING: not using scale activation\n",
      "I: 55. Loss value 0.0021084812469780445\n",
      "WARNING: not using scale activation\n",
      "I: 56. Loss value 0.002001184970140457\n",
      "WARNING: not using scale activation\n",
      "I: 57. Loss value 0.00194503681268543\n",
      "WARNING: not using scale activation\n",
      "I: 58. Loss value 0.001896945177577436\n",
      "WARNING: not using scale activation\n",
      "I: 59. Loss value 0.0018036318942904472\n",
      "WARNING: not using scale activation\n",
      "I: 60. Loss value 0.001780570251867175\n",
      "WARNING: not using scale activation\n"
     ]
    },
    {
     "name": "stderr",
     "output_type": "stream",
     "text": [
      " 14%|█▍        | 72/500 [00:00<00:05, 75.36it/s]"
     ]
    },
    {
     "name": "stdout",
     "output_type": "stream",
     "text": [
      "I: 61. Loss value 0.001700368244200945\n",
      "WARNING: not using scale activation\n",
      "I: 62. Loss value 0.0016600880771875381\n",
      "WARNING: not using scale activation\n",
      "I: 63. Loss value 0.0016119936481118202\n",
      "WARNING: not using scale activation\n",
      "I: 64. Loss value 0.0015579548198729753\n",
      "WARNING: not using scale activation\n",
      "I: 65. Loss value 0.0015229505952447653\n",
      "WARNING: not using scale activation\n",
      "I: 66. Loss value 0.0014765056548640132\n",
      "WARNING: not using scale activation\n",
      "I: 67. Loss value 0.0014386249240487814\n",
      "WARNING: not using scale activation\n",
      "I: 68. Loss value 0.001404479844495654\n",
      "WARNING: not using scale activation\n",
      "I: 69. Loss value 0.0013668317114934325\n",
      "WARNING: not using scale activation\n",
      "I: 70. Loss value 0.0013362288009375334\n",
      "WARNING: not using scale activation\n",
      "I: 71. Loss value 0.0013068526750430465\n",
      "WARNING: not using scale activation\n",
      "I: 72. Loss value 0.0012737284414470196\n",
      "WARNING: not using scale activation\n",
      "I: 73. Loss value 0.0012535372516140342\n",
      "WARNING: not using scale activation\n",
      "I: 74. Loss value 0.0012195899616926908\n",
      "WARNING: not using scale activation\n",
      "I: 75. Loss value 0.001203735708259046\n",
      "WARNING: not using scale activation\n",
      "I: 76. Loss value 0.0011736034648492932\n"
     ]
    },
    {
     "name": "stderr",
     "output_type": "stream",
     "text": [
      " 18%|█▊        | 88/500 [00:01<00:05, 75.58it/s]"
     ]
    },
    {
     "name": "stdout",
     "output_type": "stream",
     "text": [
      "WARNING: not using scale activation\n",
      "I: 77. Loss value 0.0011572485091164708\n",
      "WARNING: not using scale activation\n",
      "I: 78. Loss value 0.0011332910507917404\n",
      "WARNING: not using scale activation\n",
      "I: 79. Loss value 0.0011150249047204852\n",
      "WARNING: not using scale activation\n",
      "I: 80. Loss value 0.0010963580571115017\n",
      "WARNING: not using scale activation\n",
      "I: 81. Loss value 0.0010774233378469944\n",
      "WARNING: not using scale activation\n",
      "I: 82. Loss value 0.0010617290390655398\n",
      "WARNING: not using scale activation\n",
      "I: 83. Loss value 0.0010437911842018366\n",
      "WARNING: not using scale activation\n",
      "I: 84. Loss value 0.0010292218066751957\n",
      "WARNING: not using scale activation\n",
      "I: 85. Loss value 0.0010132112074643373\n",
      "WARNING: not using scale activation\n",
      "I: 86. Loss value 0.000998839270323515\n",
      "WARNING: not using scale activation\n",
      "I: 87. Loss value 0.0009848277550190687\n",
      "WARNING: not using scale activation\n",
      "I: 88. Loss value 0.0009705411503091455\n",
      "WARNING: not using scale activation\n",
      "I: 89. Loss value 0.0009581072954460979\n",
      "WARNING: not using scale activation\n",
      "I: 90. Loss value 0.0009440974099561572\n",
      "WARNING: not using scale activation\n",
      "I: 91. Loss value 0.0009327292209491134\n",
      "WARNING: not using scale activation\n"
     ]
    },
    {
     "name": "stderr",
     "output_type": "stream",
     "text": [
      " 21%|██        | 104/500 [00:01<00:05, 75.83it/s]"
     ]
    },
    {
     "name": "stdout",
     "output_type": "stream",
     "text": [
      "I: 92. Loss value 0.0009193049045279622\n",
      "WARNING: not using scale activation\n",
      "I: 93. Loss value 0.000908571935724467\n",
      "WARNING: not using scale activation\n",
      "I: 94. Loss value 0.0008958722464740276\n",
      "WARNING: not using scale activation\n",
      "I: 95. Loss value 0.000885580200701952\n",
      "WARNING: not using scale activation\n",
      "I: 96. Loss value 0.0008736284798942506\n",
      "WARNING: not using scale activation\n",
      "I: 97. Loss value 0.0008636643178761005\n",
      "WARNING: not using scale activation\n",
      "I: 98. Loss value 0.0008524472359567881\n",
      "WARNING: not using scale activation\n",
      "I: 99. Loss value 0.0008427962893620133\n",
      "WARNING: not using scale activation\n",
      "I: 100. Loss value 0.0008322404464706779\n",
      "WARNING: not using scale activation\n",
      "I: 101. Loss value 0.0008228967781178653\n",
      "WARNING: not using scale activation\n",
      "I: 102. Loss value 0.000812942162156105\n",
      "WARNING: not using scale activation\n",
      "I: 103. Loss value 0.0008039066451601684\n",
      "WARNING: not using scale activation\n",
      "I: 104. Loss value 0.0007944611716084182\n",
      "WARNING: not using scale activation\n",
      "I: 105. Loss value 0.0007857412565499544\n",
      "WARNING: not using scale activation\n",
      "I: 106. Loss value 0.0007767819333821535\n",
      "WARNING: not using scale activation\n",
      "I: 107. Loss value 0.0007683724979870021\n"
     ]
    },
    {
     "name": "stderr",
     "output_type": "stream",
     "text": [
      " 24%|██▍       | 120/500 [00:01<00:04, 76.04it/s]"
     ]
    },
    {
     "name": "stdout",
     "output_type": "stream",
     "text": [
      "WARNING: not using scale activation\n",
      "I: 108. Loss value 0.0007598452502861619\n",
      "WARNING: not using scale activation\n",
      "I: 109. Loss value 0.000751737505197525\n",
      "WARNING: not using scale activation\n",
      "I: 110. Loss value 0.0007435971638187766\n",
      "WARNING: not using scale activation\n",
      "I: 111. Loss value 0.0007357720169238746\n",
      "WARNING: not using scale activation\n",
      "I: 112. Loss value 0.0007279856945388019\n",
      "WARNING: not using scale activation\n",
      "I: 113. Loss value 0.0007204362191259861\n",
      "WARNING: not using scale activation\n",
      "I: 114. Loss value 0.0007129582809284329\n",
      "WARNING: not using scale activation\n",
      "I: 115. Loss value 0.0007056797621771693\n",
      "WARNING: not using scale activation\n",
      "I: 116. Loss value 0.0006984630017541349\n",
      "WARNING: not using scale activation\n",
      "I: 117. Loss value 0.0006914357654750347\n",
      "WARNING: not using scale activation\n",
      "I: 118. Loss value 0.000684460042975843\n",
      "WARNING: not using scale activation\n",
      "I: 119. Loss value 0.0006776680238544941\n",
      "WARNING: not using scale activation\n",
      "I: 120. Loss value 0.0006708942237310112\n",
      "WARNING: not using scale activation\n",
      "I: 121. Loss value 0.0006643172237090766\n",
      "WARNING: not using scale activation\n",
      "I: 122. Loss value 0.0006577282911166549\n",
      "WARNING: not using scale activation\n",
      "I: 123. Loss value 0.0006513491971418262\n"
     ]
    },
    {
     "name": "stderr",
     "output_type": "stream",
     "text": [
      " 27%|██▋       | 136/500 [00:01<00:04, 76.20it/s]"
     ]
    },
    {
     "name": "stdout",
     "output_type": "stream",
     "text": [
      "WARNING: not using scale activation\n",
      "I: 124. Loss value 0.0006449429783970118\n",
      "WARNING: not using scale activation\n",
      "I: 125. Loss value 0.0006387221510522068\n",
      "WARNING: not using scale activation\n",
      "I: 126. Loss value 0.0006325010326690972\n",
      "WARNING: not using scale activation\n",
      "I: 127. Loss value 0.0006264217081479728\n",
      "WARNING: not using scale activation\n",
      "I: 128. Loss value 0.0006203736993484199\n",
      "WARNING: not using scale activation\n",
      "I: 129. Loss value 0.0006144214421510696\n",
      "WARNING: not using scale activation\n",
      "I: 130. Loss value 0.0006085375207476318\n",
      "WARNING: not using scale activation\n",
      "I: 131. Loss value 0.0006027045892551541\n",
      "WARNING: not using scale activation\n",
      "I: 132. Loss value 0.000596970203332603\n",
      "WARNING: not using scale activation\n",
      "I: 133. Loss value 0.0005912580527365208\n",
      "WARNING: not using scale activation\n",
      "I: 134. Loss value 0.0005856557982042432\n",
      "WARNING: not using scale activation\n",
      "I: 135. Loss value 0.0005800703074783087\n",
      "WARNING: not using scale activation\n",
      "I: 136. Loss value 0.0005745834205299616\n",
      "WARNING: not using scale activation\n",
      "I: 137. Loss value 0.0005691288388334215\n",
      "WARNING: not using scale activation\n",
      "I: 138. Loss value 0.0005637469002977014\n",
      "WARNING: not using scale activation\n",
      "I: 139. Loss value 0.0005584207247011364\n"
     ]
    },
    {
     "name": "stderr",
     "output_type": "stream",
     "text": [
      " 30%|███       | 152/500 [00:02<00:04, 76.19it/s]"
     ]
    },
    {
     "name": "stdout",
     "output_type": "stream",
     "text": [
      "WARNING: not using scale activation\n",
      "I: 140. Loss value 0.0005531419883482158\n",
      "WARNING: not using scale activation\n",
      "I: 141. Loss value 0.0005479353712871671\n",
      "WARNING: not using scale activation\n",
      "I: 142. Loss value 0.0005427642608992755\n",
      "WARNING: not using scale activation\n",
      "I: 143. Loss value 0.0005376661429181695\n",
      "WARNING: not using scale activation\n",
      "I: 144. Loss value 0.0005326070822775364\n",
      "WARNING: not using scale activation\n",
      "I: 145. Loss value 0.0005276093143038452\n",
      "WARNING: not using scale activation\n",
      "I: 146. Loss value 0.0005226618377491832\n",
      "WARNING: not using scale activation\n",
      "I: 147. Loss value 0.000517762266099453\n",
      "WARNING: not using scale activation\n",
      "I: 148. Loss value 0.0005129207274876535\n",
      "WARNING: not using scale activation\n",
      "I: 149. Loss value 0.0005081211565993726\n",
      "WARNING: not using scale activation\n",
      "I: 150. Loss value 0.000503378629218787\n",
      "WARNING: not using scale activation\n",
      "I: 151. Loss value 0.0004986801068298519\n",
      "WARNING: not using scale activation\n",
      "I: 152. Loss value 0.0004940320504829288\n",
      "WARNING: not using scale activation\n",
      "I: 153. Loss value 0.0004894327139481902\n",
      "WARNING: not using scale activation\n",
      "I: 154. Loss value 0.00048487784806638956\n",
      "WARNING: not using scale activation\n",
      "I: 155. Loss value 0.0004803727788385004\n"
     ]
    },
    {
     "name": "stderr",
     "output_type": "stream",
     "text": [
      " 34%|███▎      | 168/500 [00:02<00:04, 76.10it/s]"
     ]
    },
    {
     "name": "stdout",
     "output_type": "stream",
     "text": [
      "WARNING: not using scale activation\n",
      "I: 156. Loss value 0.0004759108123835176\n",
      "WARNING: not using scale activation\n",
      "I: 157. Loss value 0.00047149634337984025\n",
      "WARNING: not using scale activation\n",
      "I: 158. Loss value 0.00046712555922567844\n",
      "WARNING: not using scale activation\n",
      "I: 159. Loss value 0.0004627990419976413\n",
      "WARNING: not using scale activation\n",
      "I: 160. Loss value 0.00045851696631871164\n",
      "WARNING: not using scale activation\n",
      "I: 161. Loss value 0.00045427674194797873\n",
      "WARNING: not using scale activation\n",
      "I: 162. Loss value 0.00045007996959611773\n",
      "WARNING: not using scale activation\n",
      "I: 163. Loss value 0.0004459243209566921\n",
      "WARNING: not using scale activation\n",
      "I: 164. Loss value 0.00044181017437949777\n",
      "WARNING: not using scale activation\n",
      "I: 165. Loss value 0.0004377372970338911\n",
      "WARNING: not using scale activation\n",
      "I: 166. Loss value 0.00043370420462451875\n",
      "WARNING: not using scale activation\n",
      "I: 167. Loss value 0.00042971139191649854\n",
      "WARNING: not using scale activation\n",
      "I: 168. Loss value 0.00042575725819915533\n",
      "WARNING: not using scale activation\n",
      "I: 169. Loss value 0.0004218422691337764\n",
      "WARNING: not using scale activation\n",
      "I: 170. Loss value 0.0004179655516054481\n",
      "WARNING: not using scale activation\n"
     ]
    },
    {
     "name": "stderr",
     "output_type": "stream",
     "text": [
      " 37%|███▋      | 184/500 [00:02<00:04, 75.08it/s]"
     ]
    },
    {
     "name": "stdout",
     "output_type": "stream",
     "text": [
      "I: 171. Loss value 0.0004141122044529766\n",
      "WARNING: not using scale activation\n",
      "I: 172. Loss value 0.00041029718704521656\n",
      "WARNING: not using scale activation\n",
      "I: 173. Loss value 0.0004065320536028594\n",
      "WARNING: not using scale activation\n",
      "I: 174. Loss value 0.00040280315442942083\n",
      "WARNING: not using scale activation\n",
      "I: 175. Loss value 0.00039911072235554457\n",
      "WARNING: not using scale activation\n",
      "I: 176. Loss value 0.0003954530111514032\n",
      "WARNING: not using scale activation\n",
      "I: 177. Loss value 0.00039183092303574085\n",
      "WARNING: not using scale activation\n",
      "I: 178. Loss value 0.00038824311923235655\n",
      "WARNING: not using scale activation\n",
      "I: 179. Loss value 0.0003846893960144371\n",
      "WARNING: not using scale activation\n",
      "I: 180. Loss value 0.0003811697824858129\n",
      "WARNING: not using scale activation\n",
      "I: 181. Loss value 0.00037768296897411346\n",
      "WARNING: not using scale activation\n",
      "I: 182. Loss value 0.0003742293338291347\n",
      "WARNING: not using scale activation\n",
      "I: 183. Loss value 0.0003708084113895893\n",
      "WARNING: not using scale activation\n",
      "I: 184. Loss value 0.00036741906660608947\n",
      "WARNING: not using scale activation\n",
      "I: 185. Loss value 0.0003640620852820575\n",
      "WARNING: not using scale activation\n"
     ]
    },
    {
     "name": "stderr",
     "output_type": "stream",
     "text": [
      " 40%|████      | 200/500 [00:02<00:03, 75.23it/s]"
     ]
    },
    {
     "name": "stdout",
     "output_type": "stream",
     "text": [
      "I: 186. Loss value 0.0003607362450566143\n",
      "WARNING: not using scale activation\n",
      "I: 187. Loss value 0.0003574412548914552\n",
      "WARNING: not using scale activation\n",
      "I: 188. Loss value 0.00035417708568274975\n",
      "WARNING: not using scale activation\n",
      "I: 189. Loss value 0.00035094330087304115\n",
      "WARNING: not using scale activation\n",
      "I: 190. Loss value 0.0003477392892818898\n",
      "WARNING: not using scale activation\n",
      "I: 191. Loss value 0.0003445648471824825\n",
      "WARNING: not using scale activation\n",
      "I: 192. Loss value 0.0003414197126403451\n",
      "WARNING: not using scale activation\n",
      "I: 193. Loss value 0.0003383031580597162\n",
      "WARNING: not using scale activation\n",
      "I: 194. Loss value 0.0003352153580635786\n",
      "WARNING: not using scale activation\n",
      "I: 195. Loss value 0.0003321558178868145\n",
      "WARNING: not using scale activation\n",
      "I: 196. Loss value 0.0003291242173872888\n",
      "WARNING: not using scale activation\n",
      "I: 197. Loss value 0.0003261202364228666\n",
      "WARNING: not using scale activation\n",
      "I: 198. Loss value 0.00032314343843609095\n",
      "WARNING: not using scale activation\n",
      "I: 199. Loss value 0.00032019353238865733\n",
      "WARNING: not using scale activation\n",
      "I: 200. Loss value 0.0003172704018652439\n",
      "WARNING: not using scale activation\n",
      "I: 201. Loss value 0.0003143736976198852\n"
     ]
    },
    {
     "name": "stderr",
     "output_type": "stream",
     "text": [
      " 43%|████▎     | 216/500 [00:02<00:03, 75.25it/s]"
     ]
    },
    {
     "name": "stdout",
     "output_type": "stream",
     "text": [
      "WARNING: not using scale activation\n",
      "I: 202. Loss value 0.0003115029539912939\n",
      "WARNING: not using scale activation\n",
      "I: 203. Loss value 0.00030865834560245275\n",
      "WARNING: not using scale activation\n",
      "I: 204. Loss value 0.0003058388829231262\n",
      "WARNING: not using scale activation\n",
      "I: 205. Loss value 0.0003030446241609752\n",
      "WARNING: not using scale activation\n",
      "I: 206. Loss value 0.0003002754820045084\n",
      "WARNING: not using scale activation\n",
      "I: 207. Loss value 0.00029753096168860793\n",
      "WARNING: not using scale activation\n",
      "I: 208. Loss value 0.0002948108594864607\n",
      "WARNING: not using scale activation\n",
      "I: 209. Loss value 0.0002921147970482707\n",
      "WARNING: not using scale activation\n",
      "I: 210. Loss value 0.00028944271616637707\n",
      "WARNING: not using scale activation\n",
      "I: 211. Loss value 0.0002867942093871534\n",
      "WARNING: not using scale activation\n",
      "I: 212. Loss value 0.00028416927671059966\n",
      "WARNING: not using scale activation\n",
      "I: 213. Loss value 0.000281567161437124\n",
      "WARNING: not using scale activation\n",
      "I: 214. Loss value 0.0002789884165395051\n",
      "WARNING: not using scale activation\n",
      "I: 215. Loss value 0.00027643179055303335\n",
      "WARNING: not using scale activation\n",
      "I: 216. Loss value 0.0002738980110734701\n",
      "WARNING: not using scale activation\n"
     ]
    },
    {
     "name": "stderr",
     "output_type": "stream",
     "text": [
      " 46%|████▋     | 232/500 [00:03<00:03, 75.12it/s]"
     ]
    },
    {
     "name": "stdout",
     "output_type": "stream",
     "text": [
      "I: 217. Loss value 0.0002713860012590885\n",
      "WARNING: not using scale activation\n",
      "I: 218. Loss value 0.00026889631408266723\n",
      "WARNING: not using scale activation\n",
      "I: 219. Loss value 0.0002664280473254621\n",
      "WARNING: not using scale activation\n",
      "I: 220. Loss value 0.00026398157933726907\n",
      "WARNING: not using scale activation\n",
      "I: 221. Loss value 0.0002615561243146658\n",
      "WARNING: not using scale activation\n",
      "I: 222. Loss value 0.00025915176956914365\n",
      "WARNING: not using scale activation\n",
      "I: 223. Loss value 0.0002567685442045331\n",
      "WARNING: not using scale activation\n",
      "I: 224. Loss value 0.0002544057497289032\n",
      "WARNING: not using scale activation\n",
      "I: 225. Loss value 0.00025206358986906707\n",
      "WARNING: not using scale activation\n",
      "I: 226. Loss value 0.0002497416571713984\n",
      "WARNING: not using scale activation\n",
      "I: 227. Loss value 0.0002474396605975926\n",
      "WARNING: not using scale activation\n",
      "I: 228. Loss value 0.00024515739642083645\n",
      "WARNING: not using scale activation\n",
      "I: 229. Loss value 0.00024289479188155383\n",
      "WARNING: not using scale activation\n",
      "I: 230. Loss value 0.00024065189063549042\n",
      "WARNING: not using scale activation\n",
      "I: 231. Loss value 0.00023842800874263048\n",
      "WARNING: not using scale activation\n",
      "I: 232. Loss value 0.00023622342268936336\n"
     ]
    },
    {
     "name": "stderr",
     "output_type": "stream",
     "text": [
      " 50%|████▉     | 248/500 [00:03<00:03, 75.29it/s]"
     ]
    },
    {
     "name": "stdout",
     "output_type": "stream",
     "text": [
      "WARNING: not using scale activation\n",
      "I: 233. Loss value 0.00023403731756843626\n",
      "WARNING: not using scale activation\n",
      "I: 234. Loss value 0.00023187055194284767\n",
      "WARNING: not using scale activation\n",
      "I: 235. Loss value 0.0002297218597959727\n",
      "WARNING: not using scale activation\n",
      "I: 236. Loss value 0.00022756383987143636\n",
      "WARNING: not using scale activation\n",
      "I: 237. Loss value 0.00022545189131051302\n",
      "WARNING: not using scale activation\n",
      "I: 238. Loss value 0.00022335804533213377\n",
      "WARNING: not using scale activation\n",
      "I: 239. Loss value 0.00022126802650745958\n",
      "WARNING: not using scale activation\n",
      "I: 240. Loss value 0.00021920973085798323\n",
      "WARNING: not using scale activation\n",
      "I: 241. Loss value 0.00021715501497965306\n",
      "WARNING: not using scale activation\n",
      "I: 242. Loss value 0.0002151319495169446\n",
      "WARNING: not using scale activation\n",
      "I: 243. Loss value 0.00021312583703547716\n",
      "WARNING: not using scale activation\n",
      "I: 244. Loss value 0.0002111369976773858\n",
      "WARNING: not using scale activation\n",
      "I: 245. Loss value 0.00020916489302180707\n",
      "WARNING: not using scale activation\n",
      "I: 246. Loss value 0.00020719561143778265\n",
      "WARNING: not using scale activation\n",
      "I: 247. Loss value 0.0002052569470833987\n",
      "WARNING: not using scale activation\n"
     ]
    },
    {
     "name": "stderr",
     "output_type": "stream",
     "text": [
      " 51%|█████     | 256/500 [00:03<00:03, 75.24it/s]"
     ]
    },
    {
     "name": "stdout",
     "output_type": "stream",
     "text": [
      "I: 248. Loss value 0.0002033209166256711\n",
      "WARNING: not using scale activation\n",
      "I: 249. Loss value 0.00020141503773629665\n",
      "WARNING: not using scale activation\n",
      "I: 250. Loss value 0.00019951871945522726\n",
      "WARNING: not using scale activation\n",
      "I: 251. Loss value 0.00019762414740398526\n",
      "WARNING: not using scale activation\n",
      "I: 252. Loss value 0.00019576659542508423\n",
      "WARNING: not using scale activation\n",
      "I: 253. Loss value 0.00019392473041079938\n",
      "WARNING: not using scale activation\n",
      "I: 254. Loss value 0.00019209866877645254\n",
      "WARNING: not using scale activation\n",
      "I: 255. Loss value 0.0001902881485875696\n",
      "WARNING: not using scale activation\n",
      "I: 256. Loss value 0.00018849302432499826\n",
      "WARNING: not using scale activation\n",
      "I: 257. Loss value 0.00018671303405426443\n",
      "WARNING: not using scale activation\n",
      "I: 258. Loss value 0.0001849481777753681\n",
      "WARNING: not using scale activation\n",
      "I: 259. Loss value 0.00018319841183256358\n",
      "WARNING: not using scale activation\n",
      "I: 260. Loss value 0.00018146343063563108\n",
      "WARNING: not using scale activation\n",
      "I: 261. Loss value 0.00017974292859435081\n",
      "WARNING: not using scale activation\n",
      "I: 262. Loss value 0.00017803744412958622\n",
      "WARNING: not using scale activation\n",
      "I: 263. Loss value 0.0001763461623340845\n"
     ]
    },
    {
     "name": "stderr",
     "output_type": "stream",
     "text": [
      " 54%|█████▍    | 272/500 [00:03<00:03, 74.96it/s]"
     ]
    },
    {
     "name": "stdout",
     "output_type": "stream",
     "text": [
      "WARNING: not using scale activation\n",
      "I: 264. Loss value 0.00017466935969423503\n",
      "WARNING: not using scale activation\n",
      "I: 265. Loss value 0.0001730068470351398\n",
      "WARNING: not using scale activation\n",
      "I: 266. Loss value 0.0001713583478704095\n",
      "WARNING: not using scale activation\n",
      "I: 267. Loss value 0.0001697241677902639\n",
      "WARNING: not using scale activation\n",
      "I: 268. Loss value 0.00016810349188745022\n",
      "WARNING: not using scale activation\n",
      "I: 269. Loss value 0.00016649678582325578\n",
      "WARNING: not using scale activation\n",
      "I: 270. Loss value 0.00016490368579979986\n",
      "WARNING: not using scale activation\n",
      "I: 271. Loss value 0.00016332432278431952\n",
      "WARNING: not using scale activation\n",
      "I: 272. Loss value 0.00016175833297893405\n",
      "WARNING: not using scale activation\n",
      "I: 273. Loss value 0.00016020576003938913\n",
      "WARNING: not using scale activation\n",
      "I: 274. Loss value 0.00015866640023887157\n",
      "WARNING: not using scale activation\n",
      "I: 275. Loss value 0.0001571400644024834\n",
      "WARNING: not using scale activation\n",
      "I: 276. Loss value 0.0001556268980493769\n",
      "WARNING: not using scale activation\n",
      "I: 277. Loss value 0.00015412672655656934\n",
      "WARNING: not using scale activation\n",
      "I: 278. Loss value 0.00015263937530107796\n",
      "WARNING: not using scale activation\n"
     ]
    },
    {
     "name": "stderr",
     "output_type": "stream",
     "text": [
      " 58%|█████▊    | 288/500 [00:03<00:02, 75.40it/s]"
     ]
    },
    {
     "name": "stdout",
     "output_type": "stream",
     "text": [
      "I: 279. Loss value 0.00015116468421183527\n",
      "WARNING: not using scale activation\n",
      "I: 280. Loss value 0.00014970250776968896\n",
      "WARNING: not using scale activation\n",
      "I: 281. Loss value 0.0001482529187342152\n",
      "WARNING: not using scale activation\n",
      "I: 282. Loss value 0.0001468159316573292\n",
      "WARNING: not using scale activation\n",
      "I: 283. Loss value 0.00014539102267008275\n",
      "WARNING: not using scale activation\n",
      "I: 284. Loss value 0.00014397845370694995\n",
      "WARNING: not using scale activation\n",
      "I: 285. Loss value 0.00014257818111218512\n",
      "WARNING: not using scale activation\n",
      "I: 286. Loss value 0.00014118988474365324\n",
      "WARNING: not using scale activation\n",
      "I: 287. Loss value 0.00013981355004943907\n",
      "WARNING: not using scale activation\n",
      "I: 288. Loss value 0.00013844894419889897\n",
      "WARNING: not using scale activation\n",
      "I: 289. Loss value 0.00013709634367842227\n",
      "WARNING: not using scale activation\n",
      "I: 290. Loss value 0.00013575531193055212\n",
      "WARNING: not using scale activation\n",
      "I: 291. Loss value 0.0001344259362667799\n",
      "WARNING: not using scale activation\n",
      "I: 292. Loss value 0.00013310815847944468\n",
      "WARNING: not using scale activation\n",
      "I: 293. Loss value 0.00013180170208215714\n",
      "WARNING: not using scale activation\n",
      "I: 294. Loss value 0.00013050666893832386\n"
     ]
    },
    {
     "name": "stderr",
     "output_type": "stream",
     "text": [
      " 61%|██████    | 304/500 [00:04<00:02, 75.50it/s]"
     ]
    },
    {
     "name": "stdout",
     "output_type": "stream",
     "text": [
      "WARNING: not using scale activation\n",
      "I: 295. Loss value 0.00012922279711347073\n",
      "WARNING: not using scale activation\n",
      "I: 296. Loss value 0.00012795004295185208\n",
      "WARNING: not using scale activation\n",
      "I: 297. Loss value 0.0001266884501092136\n",
      "WARNING: not using scale activation\n",
      "I: 298. Loss value 0.00012543790217023343\n",
      "WARNING: not using scale activation\n",
      "I: 299. Loss value 0.00012419832637533545\n",
      "WARNING: not using scale activation\n",
      "I: 300. Loss value 0.00012296941713429987\n",
      "WARNING: not using scale activation\n",
      "I: 301. Loss value 0.00012175121810287237\n",
      "WARNING: not using scale activation\n",
      "I: 302. Loss value 0.00012054372200509533\n",
      "WARNING: not using scale activation\n",
      "I: 303. Loss value 0.00011934708891203627\n",
      "WARNING: not using scale activation\n",
      "I: 304. Loss value 0.00011816067853942513\n",
      "WARNING: not using scale activation\n",
      "I: 305. Loss value 0.00011698481830535457\n",
      "WARNING: not using scale activation\n",
      "I: 306. Loss value 0.00011581933358684182\n",
      "WARNING: not using scale activation\n",
      "I: 307. Loss value 0.00011466393334558234\n",
      "WARNING: not using scale activation\n",
      "I: 308. Loss value 0.00011351883586030453\n",
      "WARNING: not using scale activation\n",
      "I: 309. Loss value 0.00011238391743972898\n",
      "WARNING: not using scale activation\n"
     ]
    },
    {
     "name": "stderr",
     "output_type": "stream",
     "text": [
      " 64%|██████▍   | 320/500 [00:04<00:02, 75.71it/s]"
     ]
    },
    {
     "name": "stdout",
     "output_type": "stream",
     "text": [
      "I: 310. Loss value 0.00011125908349640667\n",
      "WARNING: not using scale activation\n",
      "I: 311. Loss value 0.0001101442176150158\n",
      "WARNING: not using scale activation\n",
      "I: 312. Loss value 0.00010903907241299748\n",
      "WARNING: not using scale activation\n",
      "I: 313. Loss value 0.00010794398258440197\n",
      "WARNING: not using scale activation\n",
      "I: 314. Loss value 0.00010685842426028103\n",
      "WARNING: not using scale activation\n",
      "I: 315. Loss value 0.00010578264482319355\n",
      "WARNING: not using scale activation\n",
      "I: 316. Loss value 0.00010471653513377532\n",
      "WARNING: not using scale activation\n",
      "I: 317. Loss value 0.0001036598114296794\n",
      "WARNING: not using scale activation\n",
      "I: 318. Loss value 0.00010261252464260906\n",
      "WARNING: not using scale activation\n",
      "I: 319. Loss value 0.00010157471842831001\n",
      "WARNING: not using scale activation\n",
      "I: 320. Loss value 0.00010054630547529086\n",
      "WARNING: not using scale activation\n",
      "I: 321. Loss value 9.95269074337557e-05\n",
      "WARNING: not using scale activation\n",
      "I: 322. Loss value 9.851681534200907e-05\n",
      "WARNING: not using scale activation\n",
      "I: 323. Loss value 9.751570178195834e-05\n",
      "WARNING: not using scale activation\n",
      "I: 324. Loss value 9.652390144765377e-05\n",
      "WARNING: not using scale activation\n",
      "I: 325. Loss value 9.55408249865286e-05\n"
     ]
    },
    {
     "name": "stderr",
     "output_type": "stream",
     "text": [
      " 67%|██████▋   | 336/500 [00:04<00:02, 75.39it/s]"
     ]
    },
    {
     "name": "stdout",
     "output_type": "stream",
     "text": [
      "WARNING: not using scale activation\n",
      "I: 326. Loss value 9.456690168008208e-05\n",
      "WARNING: not using scale activation\n",
      "I: 327. Loss value 9.360164403915405e-05\n",
      "WARNING: not using scale activation\n",
      "I: 328. Loss value 9.264516847906634e-05\n",
      "WARNING: not using scale activation\n",
      "I: 329. Loss value 9.169746044790372e-05\n",
      "WARNING: not using scale activation\n",
      "I: 330. Loss value 9.075822163140401e-05\n",
      "WARNING: not using scale activation\n",
      "I: 331. Loss value 8.982756116893142e-05\n",
      "WARNING: not using scale activation\n",
      "I: 332. Loss value 8.890562457963824e-05\n",
      "WARNING: not using scale activation\n",
      "I: 333. Loss value 8.799195347819477e-05\n",
      "WARNING: not using scale activation\n",
      "I: 334. Loss value 8.708650420885533e-05\n",
      "WARNING: not using scale activation\n",
      "I: 335. Loss value 8.618958236183971e-05\n",
      "WARNING: not using scale activation\n",
      "I: 336. Loss value 8.530088234692812e-05\n",
      "WARNING: not using scale activation\n",
      "I: 337. Loss value 8.442036050837487e-05\n",
      "WARNING: not using scale activation\n",
      "I: 338. Loss value 8.354792225873098e-05\n",
      "WARNING: not using scale activation\n",
      "I: 339. Loss value 8.268348028650507e-05\n",
      "WARNING: not using scale activation\n",
      "I: 340. Loss value 8.182712190318853e-05\n",
      "WARNING: not using scale activation\n"
     ]
    },
    {
     "name": "stderr",
     "output_type": "stream",
     "text": [
      " 70%|███████   | 352/500 [00:04<00:01, 75.04it/s]"
     ]
    },
    {
     "name": "stdout",
     "output_type": "stream",
     "text": [
      "I: 341. Loss value 8.097871614154428e-05\n",
      "WARNING: not using scale activation\n",
      "I: 342. Loss value 8.013819751795381e-05\n",
      "WARNING: not using scale activation\n",
      "I: 343. Loss value 7.93054059613496e-05\n",
      "WARNING: not using scale activation\n",
      "I: 344. Loss value 7.848042150726542e-05\n",
      "WARNING: not using scale activation\n",
      "I: 345. Loss value 7.766313501633704e-05\n",
      "WARNING: not using scale activation\n",
      "I: 346. Loss value 7.685334276175126e-05\n",
      "WARNING: not using scale activation\n",
      "I: 347. Loss value 7.605129212606698e-05\n",
      "WARNING: not using scale activation\n",
      "I: 348. Loss value 7.52566775190644e-05\n",
      "WARNING: not using scale activation\n",
      "I: 349. Loss value 7.44546705391258e-05\n",
      "WARNING: not using scale activation\n",
      "I: 350. Loss value 7.367497164523229e-05\n",
      "WARNING: not using scale activation\n",
      "I: 351. Loss value 7.288777123903856e-05\n",
      "WARNING: not using scale activation\n",
      "I: 352. Loss value 7.212274795165285e-05\n",
      "WARNING: not using scale activation\n",
      "I: 353. Loss value 7.136481144698337e-05\n",
      "WARNING: not using scale activation\n",
      "I: 354. Loss value 7.061415817588568e-05\n",
      "WARNING: not using scale activation\n",
      "I: 355. Loss value 6.987062079133466e-05\n",
      "WARNING: not using scale activation\n",
      "I: 356. Loss value 6.913414836162701e-05\n"
     ]
    },
    {
     "name": "stderr",
     "output_type": "stream",
     "text": [
      " 74%|███████▎  | 368/500 [00:04<00:01, 74.90it/s]"
     ]
    },
    {
     "name": "stdout",
     "output_type": "stream",
     "text": [
      "WARNING: not using scale activation\n",
      "I: 357. Loss value 6.840471178293228e-05\n",
      "WARNING: not using scale activation\n",
      "I: 358. Loss value 6.766719889128581e-05\n",
      "WARNING: not using scale activation\n",
      "I: 359. Loss value 6.695165211567655e-05\n",
      "WARNING: not using scale activation\n",
      "I: 360. Loss value 6.622800719924271e-05\n",
      "WARNING: not using scale activation\n",
      "I: 361. Loss value 6.552611012011766e-05\n",
      "WARNING: not using scale activation\n",
      "I: 362. Loss value 6.483080505859107e-05\n",
      "WARNING: not using scale activation\n",
      "I: 363. Loss value 6.414233212126419e-05\n",
      "WARNING: not using scale activation\n",
      "I: 364. Loss value 6.346042937366292e-05\n",
      "WARNING: not using scale activation\n",
      "I: 365. Loss value 6.278509681578726e-05\n",
      "WARNING: not using scale activation\n",
      "I: 366. Loss value 6.211630534380674e-05\n",
      "WARNING: not using scale activation\n",
      "I: 367. Loss value 6.14539603702724e-05\n",
      "WARNING: not using scale activation\n",
      "I: 368. Loss value 6.0797930927947164e-05\n",
      "WARNING: not using scale activation\n",
      "I: 369. Loss value 6.014831524225883e-05\n",
      "WARNING: not using scale activation\n",
      "I: 370. Loss value 5.9504935052245855e-05\n",
      "WARNING: not using scale activation\n",
      "I: 371. Loss value 5.8867990446742624e-05\n",
      "WARNING: not using scale activation\n"
     ]
    },
    {
     "name": "stderr",
     "output_type": "stream",
     "text": [
      " 77%|███████▋  | 384/500 [00:05<00:01, 75.38it/s]"
     ]
    },
    {
     "name": "stdout",
     "output_type": "stream",
     "text": [
      "I: 372. Loss value 5.823697938467376e-05\n",
      "WARNING: not using scale activation\n",
      "I: 373. Loss value 5.7612411183072254e-05\n",
      "WARNING: not using scale activation\n",
      "I: 374. Loss value 5.699388566426933e-05\n",
      "WARNING: not using scale activation\n",
      "I: 375. Loss value 5.638142101815902e-05\n",
      "WARNING: not using scale activation\n",
      "I: 376. Loss value 5.575998511631042e-05\n",
      "WARNING: not using scale activation\n",
      "I: 377. Loss value 5.515933662536554e-05\n",
      "WARNING: not using scale activation\n",
      "I: 378. Loss value 5.456470535136759e-05\n",
      "WARNING: not using scale activation\n",
      "I: 379. Loss value 5.396107007982209e-05\n",
      "WARNING: not using scale activation\n",
      "I: 380. Loss value 5.337808033800684e-05\n",
      "WARNING: not using scale activation\n",
      "I: 381. Loss value 5.2786021115025505e-05\n",
      "WARNING: not using scale activation\n",
      "I: 382. Loss value 5.221461469773203e-05\n",
      "WARNING: not using scale activation\n",
      "I: 383. Loss value 5.164887988939881e-05\n",
      "WARNING: not using scale activation\n",
      "I: 384. Loss value 5.107375545776449e-05\n",
      "WARNING: not using scale activation\n",
      "I: 385. Loss value 5.051915650255978e-05\n",
      "WARNING: not using scale activation\n",
      "I: 386. Loss value 4.9970258260145783e-05\n",
      "WARNING: not using scale activation\n",
      "I: 387. Loss value 4.942677333019674e-05\n"
     ]
    },
    {
     "name": "stderr",
     "output_type": "stream",
     "text": [
      " 80%|████████  | 400/500 [00:05<00:01, 75.78it/s]"
     ]
    },
    {
     "name": "stdout",
     "output_type": "stream",
     "text": [
      "WARNING: not using scale activation\n",
      "I: 388. Loss value 4.888865441898815e-05\n",
      "WARNING: not using scale activation\n",
      "I: 389. Loss value 4.835597792407498e-05\n",
      "WARNING: not using scale activation\n",
      "I: 390. Loss value 4.782862379215658e-05\n",
      "WARNING: not using scale activation\n",
      "I: 391. Loss value 4.730655928142369e-05\n",
      "WARNING: not using scale activation\n",
      "I: 392. Loss value 4.6789842599537224e-05\n",
      "WARNING: not using scale activation\n",
      "I: 393. Loss value 4.627824091585353e-05\n",
      "WARNING: not using scale activation\n",
      "I: 394. Loss value 4.577182698994875e-05\n",
      "WARNING: not using scale activation\n",
      "I: 395. Loss value 4.527052442426793e-05\n",
      "WARNING: not using scale activation\n",
      "I: 396. Loss value 4.4774264097213745e-05\n",
      "WARNING: not using scale activation\n",
      "I: 397. Loss value 4.4283162424108014e-05\n",
      "WARNING: not using scale activation\n",
      "I: 398. Loss value 4.3796899262815714e-05\n",
      "WARNING: not using scale activation\n",
      "I: 399. Loss value 4.331573654781096e-05\n",
      "WARNING: not using scale activation\n",
      "I: 400. Loss value 4.283932503312826e-05\n",
      "WARNING: not using scale activation\n",
      "I: 401. Loss value 4.236785025568679e-05\n",
      "WARNING: not using scale activation\n",
      "I: 402. Loss value 4.1901057556970045e-05\n",
      "WARNING: not using scale activation\n"
     ]
    },
    {
     "name": "stderr",
     "output_type": "stream",
     "text": [
      " 83%|████████▎ | 416/500 [00:05<00:01, 73.87it/s]"
     ]
    },
    {
     "name": "stdout",
     "output_type": "stream",
     "text": [
      "I: 403. Loss value 4.143929618294351e-05\n",
      "WARNING: not using scale activation\n",
      "I: 404. Loss value 4.09821150242351e-05\n",
      "WARNING: not using scale activation\n",
      "I: 405. Loss value 4.05297105317004e-05\n",
      "WARNING: not using scale activation\n",
      "I: 406. Loss value 4.008186442661099e-05\n",
      "WARNING: not using scale activation\n",
      "I: 407. Loss value 3.963876224588603e-05\n",
      "WARNING: not using scale activation\n",
      "I: 408. Loss value 3.9199989259941503e-05\n",
      "WARNING: not using scale activation\n",
      "I: 409. Loss value 3.876588380080648e-05\n",
      "WARNING: not using scale activation\n",
      "I: 410. Loss value 3.833630762528628e-05\n",
      "WARNING: not using scale activation\n",
      "I: 411. Loss value 3.7911122490186244e-05\n",
      "WARNING: not using scale activation\n",
      "I: 412. Loss value 3.7490332033485174e-05\n",
      "WARNING: not using scale activation\n",
      "I: 413. Loss value 3.707392897922546e-05\n",
      "WARNING: not using scale activation\n",
      "I: 414. Loss value 3.6661935155279934e-05\n",
      "WARNING: not using scale activation\n",
      "I: 415. Loss value 3.625409590313211e-05\n",
      "WARNING: not using scale activation\n",
      "I: 416. Loss value 3.585056037991308e-05\n",
      "WARNING: not using scale activation\n",
      "I: 417. Loss value 3.545133222360164e-05\n"
     ]
    },
    {
     "name": "stderr",
     "output_type": "stream",
     "text": [
      " 86%|████████▋ | 432/500 [00:05<00:00, 74.13it/s]"
     ]
    },
    {
     "name": "stdout",
     "output_type": "stream",
     "text": [
      "WARNING: not using scale activation\n",
      "I: 418. Loss value 3.5056302294833586e-05\n",
      "WARNING: not using scale activation\n",
      "I: 419. Loss value 3.466524867690168e-05\n",
      "WARNING: not using scale activation\n",
      "I: 420. Loss value 3.4278491511940956e-05\n",
      "WARNING: not using scale activation\n",
      "I: 421. Loss value 3.389571065781638e-05\n",
      "WARNING: not using scale activation\n",
      "I: 422. Loss value 3.351699706399813e-05\n",
      "WARNING: not using scale activation\n",
      "I: 423. Loss value 3.3142285246867687e-05\n",
      "WARNING: not using scale activation\n",
      "I: 424. Loss value 3.277146242908202e-05\n",
      "WARNING: not using scale activation\n",
      "I: 425. Loss value 3.240463775000535e-05\n",
      "WARNING: not using scale activation\n",
      "I: 426. Loss value 3.20416220347397e-05\n",
      "WARNING: not using scale activation\n",
      "I: 427. Loss value 3.168254261254333e-05\n",
      "WARNING: not using scale activation\n",
      "I: 428. Loss value 3.132722486043349e-05\n",
      "WARNING: not using scale activation\n",
      "I: 429. Loss value 3.0975777917774394e-05\n",
      "WARNING: not using scale activation\n",
      "I: 430. Loss value 3.0628038075519726e-05\n",
      "WARNING: not using scale activation\n",
      "I: 431. Loss value 3.02839107462205e-05\n",
      "WARNING: not using scale activation\n",
      "I: 432. Loss value 2.9943585104774684e-05\n"
     ]
    },
    {
     "name": "stderr",
     "output_type": "stream",
     "text": [
      " 90%|████████▉ | 448/500 [00:05<00:00, 74.49it/s]"
     ]
    },
    {
     "name": "stdout",
     "output_type": "stream",
     "text": [
      "WARNING: not using scale activation\n",
      "I: 433. Loss value 2.9606924726977013e-05\n",
      "WARNING: not using scale activation\n",
      "I: 434. Loss value 2.9273855034261942e-05\n",
      "WARNING: not using scale activation\n",
      "I: 435. Loss value 2.8944332370883785e-05\n",
      "WARNING: not using scale activation\n",
      "I: 436. Loss value 2.8572543669724837e-05\n",
      "WARNING: not using scale activation\n",
      "I: 437. Loss value 2.8250255127204582e-05\n",
      "WARNING: not using scale activation\n",
      "I: 438. Loss value 2.7916057661059313e-05\n",
      "WARNING: not using scale activation\n",
      "I: 439. Loss value 2.7600672183325514e-05\n",
      "WARNING: not using scale activation\n",
      "I: 440. Loss value 2.728879189817235e-05\n",
      "WARNING: not using scale activation\n",
      "I: 441. Loss value 2.6980171242030337e-05\n",
      "WARNING: not using scale activation\n",
      "I: 442. Loss value 2.6659783543436788e-05\n",
      "WARNING: not using scale activation\n",
      "I: 443. Loss value 2.634263910294976e-05\n",
      "WARNING: not using scale activation\n",
      "I: 444. Loss value 2.601348933239933e-05\n",
      "WARNING: not using scale activation\n",
      "I: 445. Loss value 2.5718363758642226e-05\n",
      "WARNING: not using scale activation\n",
      "I: 446. Loss value 2.5426441425224766e-05\n",
      "WARNING: not using scale activation\n",
      "I: 447. Loss value 2.5137724151136354e-05\n",
      "WARNING: not using scale activation\n"
     ]
    },
    {
     "name": "stderr",
     "output_type": "stream",
     "text": [
      " 91%|█████████ | 456/500 [00:06<00:00, 74.81it/s]"
     ]
    },
    {
     "name": "stdout",
     "output_type": "stream",
     "text": [
      "I: 448. Loss value 2.4852193746482953e-05\n",
      "WARNING: not using scale activation\n",
      "I: 449. Loss value 2.4569808374508284e-05\n",
      "WARNING: not using scale activation\n",
      "I: 450. Loss value 2.429059168207459e-05\n",
      "WARNING: not using scale activation\n",
      "I: 451. Loss value 2.4014367227209732e-05\n",
      "WARNING: not using scale activation\n",
      "I: 452. Loss value 2.3741318727843463e-05\n",
      "WARNING: not using scale activation\n",
      "I: 453. Loss value 2.347117697354406e-05\n",
      "WARNING: not using scale activation\n",
      "I: 454. Loss value 2.320403655176051e-05\n",
      "WARNING: not using scale activation\n",
      "I: 455. Loss value 2.2939921109355055e-05\n",
      "WARNING: not using scale activation\n",
      "I: 456. Loss value 2.2678692403133027e-05\n",
      "WARNING: not using scale activation\n",
      "I: 457. Loss value 2.2420395907829516e-05\n",
      "WARNING: not using scale activation\n",
      "I: 458. Loss value 2.216499524365645e-05\n",
      "WARNING: not using scale activation\n",
      "I: 459. Loss value 2.191240491811186e-05\n",
      "WARNING: not using scale activation\n",
      "I: 460. Loss value 2.1662672224920243e-05\n",
      "WARNING: not using scale activation\n",
      "I: 461. Loss value 2.141575896530412e-05\n",
      "WARNING: not using scale activation\n",
      "I: 462. Loss value 2.1171552361920476e-05\n",
      "WARNING: not using scale activation\n",
      "I: 463. Loss value 2.093011062243022e-05\n"
     ]
    },
    {
     "name": "stderr",
     "output_type": "stream",
     "text": [
      " 94%|█████████▍| 472/500 [00:06<00:00, 74.87it/s]"
     ]
    },
    {
     "name": "stdout",
     "output_type": "stream",
     "text": [
      "WARNING: not using scale activation\n",
      "I: 464. Loss value 2.069148285954725e-05\n",
      "WARNING: not using scale activation\n",
      "I: 465. Loss value 2.0455443518585525e-05\n",
      "WARNING: not using scale activation\n",
      "I: 466. Loss value 2.0222110833856277e-05\n",
      "WARNING: not using scale activation\n",
      "I: 467. Loss value 1.9991368390037678e-05\n",
      "WARNING: not using scale activation\n",
      "I: 468. Loss value 1.97632525669178e-05\n",
      "WARNING: not using scale activation\n",
      "I: 469. Loss value 1.9537717889761552e-05\n",
      "WARNING: not using scale activation\n",
      "I: 470. Loss value 1.9314764358568937e-05\n",
      "WARNING: not using scale activation\n",
      "I: 471. Loss value 1.90943137567956e-05\n",
      "WARNING: not using scale activation\n",
      "I: 472. Loss value 1.887635517050512e-05\n",
      "WARNING: not using scale activation\n",
      "I: 473. Loss value 1.8645469026523642e-05\n",
      "WARNING: not using scale activation\n",
      "I: 474. Loss value 1.843248901423067e-05\n",
      "WARNING: not using scale activation\n",
      "I: 475. Loss value 1.822192825784441e-05\n",
      "WARNING: not using scale activation\n",
      "I: 476. Loss value 1.801383405108936e-05\n",
      "WARNING: not using scale activation\n",
      "I: 477. Loss value 1.7808117263484746e-05\n",
      "WARNING: not using scale activation\n",
      "I: 478. Loss value 1.760476516210474e-05\n",
      "WARNING: not using scale activation\n"
     ]
    },
    {
     "name": "stderr",
     "output_type": "stream",
     "text": [
      " 98%|█████████▊| 488/500 [00:06<00:00, 74.86it/s]"
     ]
    },
    {
     "name": "stdout",
     "output_type": "stream",
     "text": [
      "I: 479. Loss value 1.7403695892426185e-05\n",
      "WARNING: not using scale activation\n",
      "I: 480. Loss value 1.720501677482389e-05\n",
      "WARNING: not using scale activation\n",
      "I: 481. Loss value 1.6993099052342586e-05\n",
      "WARNING: not using scale activation\n",
      "I: 482. Loss value 1.6798978322185576e-05\n",
      "WARNING: not using scale activation\n",
      "I: 483. Loss value 1.660708585404791e-05\n",
      "WARNING: not using scale activation\n",
      "I: 484. Loss value 1.6417388906120323e-05\n",
      "WARNING: not using scale activation\n",
      "I: 485. Loss value 1.6229929315159097e-05\n",
      "WARNING: not using scale activation\n",
      "I: 486. Loss value 1.604462886461988e-05\n",
      "WARNING: not using scale activation\n",
      "I: 487. Loss value 1.586151120136492e-05\n",
      "WARNING: not using scale activation\n",
      "I: 488. Loss value 1.5680459910072386e-05\n",
      "WARNING: not using scale activation\n",
      "I: 489. Loss value 1.5501584130106494e-05\n",
      "WARNING: not using scale activation\n",
      "I: 490. Loss value 1.5324727428378537e-05\n",
      "WARNING: not using scale activation\n",
      "I: 491. Loss value 1.5149998034758028e-05\n",
      "WARNING: not using scale activation\n",
      "I: 492. Loss value 1.497732137067942e-05\n",
      "WARNING: not using scale activation\n",
      "I: 493. Loss value 1.4806671970291063e-05\n",
      "WARNING: not using scale activation\n",
      "I: 494. Loss value 1.4638033462688327e-05\n"
     ]
    },
    {
     "name": "stderr",
     "output_type": "stream",
     "text": [
      "100%|██████████| 500/500 [00:06<00:00, 75.23it/s]\n"
     ]
    },
    {
     "name": "stdout",
     "output_type": "stream",
     "text": [
      "WARNING: not using scale activation\n",
      "I: 495. Loss value 1.447135400667321e-05\n",
      "WARNING: not using scale activation\n",
      "I: 496. Loss value 1.4306649973150343e-05\n",
      "WARNING: not using scale activation\n",
      "I: 497. Loss value 1.4143867701932322e-05\n",
      "WARNING: not using scale activation\n",
      "I: 498. Loss value 1.3983036296849605e-05\n",
      "WARNING: not using scale activation\n",
      "I: 499. Loss value 1.3824093002767768e-05\n"
     ]
    },
    {
     "data": {
      "image/png": "[encoded data removed]",
      "text/plain": [
       "<Figure size 640x480 with 1 Axes>"
      ]
     },
     "metadata": {},
     "output_type": "display_data"
    }
   ],
   "source": [
    "gaussians = return_gaussians()\n",
    "\n",
    "\n",
    "optimizer = Adam([\n",
    "    gaussians.points,\n",
    "    gaussians.colors,\n",
    "    gaussians.scales,\n",
    "    gaussians.quaternions,\n",
    "    gaussians.opacity,\n",
    "], lr=0.001)\n",
    "\n",
    "\n",
    "pbar = tqdm.tqdm(range(500))\n",
    "for i in pbar:\n",
    "    gaussian_scene = GaussianScene2(gaussians=gaussians)\n",
    "    preprocessed_gaussians = preprocess_for_gaussian_scene(camera, gaussian_scene)\n",
    "\n",
    "    output_scene = gaussian_scene.render_cuda(\n",
    "        preprocessed_gaussians=preprocessed_gaussians.clone(),\n",
    "        height=camera.height,\n",
    "        width=camera.width,\n",
    "        tile_size=16,\n",
    "    )\n",
    "    final_output = torch.zeros_like(output_scene)\n",
    "    final_output = output_scene\n",
    "\n",
    "    loss_value = loss(final_output, gt_image.float())\n",
    "    print(f\"I: {i}. Loss value\", loss_value.item())\n",
    "    loss_value.backward()\n",
    "    optimizer.step()\n",
    "    optimizer.zero_grad(set_to_none=True)\n",
    "\n",
    "plt.imshow(final_output.detach().cpu().numpy())\n",
    "plt.show()"
   ]
  },
  {
   "cell_type": "code",
   "execution_count": 14,
   "metadata": {},
   "outputs": [
    {
     "data": {
      "text/plain": [
       "tensor([[0.7026, 0.7272, 0.7280],\n",
       "        [0.1080, 0.1547, 0.2008]], device='cuda:0', requires_grad=True)"
      ]
     },
     "execution_count": 14,
     "metadata": {},
     "output_type": "execute_result"
    }
   ],
   "source": [
    "gaussians.colors"
   ]
  },
  {
   "cell_type": "code",
   "execution_count": 15,
   "metadata": {},
   "outputs": [
    {
     "data": {
      "image/png": "[encoded data removed]",
      "text/plain": [
       "<Figure size 640x480 with 1 Axes>"
      ]
     },
     "metadata": {},
     "output_type": "display_data"
    }
   ],
   "source": [
    "plt.imshow(gt_image.detach().cpu().numpy())\n",
    "plt.show()"
   ]
  },
  {
   "cell_type": "code",
   "execution_count": 6,
   "metadata": {},
   "outputs": [
    {
     "data": {
      "text/plain": [
       "False"
      ]
     },
     "execution_count": 6,
     "metadata": {},
     "output_type": "execute_result"
    }
   ],
   "source": [
    "torch.allclose(output_auto1, output_scene)"
   ]
  },
  {
   "cell_type": "code",
   "execution_count": 7,
   "metadata": {},
   "outputs": [
    {
     "name": "stderr",
     "output_type": "stream",
     "text": [
      "/var/tmp/ipykernel_45314/1678247111.py:7: UserWarning: __floordiv__ is deprecated, and its behavior will change in a future version of pytorch. It currently rounds toward 0 (like the 'trunc' function NOT 'floor'). This results in incorrect rounding for negative values. To keep the current behavior, use torch.div(a, b, rounding_mode='trunc'), or for actual floor division, use torch.div(a, b, rounding_mode='floor').\n",
      "  h = max_diff_idx // camera.width\n"
     ]
    },
    {
     "name": "stdout",
     "output_type": "stream",
     "text": [
      "Maximum difference occurs at pixel (16, 12)\n",
      "Scene value: tensor([0.1783, 0.2552, 0.3286], device='cuda:0', grad_fn=<SelectBackward0>)\n",
      "Auto value: tensor([0.1783, 0.2552, 0.3286], device='cuda:0', grad_fn=<SelectBackward0>)\n"
     ]
    }
   ],
   "source": [
    "# Find pixel location with maximum difference between images\n",
    "diff = torch.abs(output_scene - output_auto1)\n",
    "max_diff = torch.max(diff.sum(dim=-1))  # Sum across color channels\n",
    "max_diff_idx = torch.argmax(diff.sum(dim=-1))  # Get flattened index\n",
    "\n",
    "# Convert flat index to 2D coordinates\n",
    "h = max_diff_idx // camera.width\n",
    "w = max_diff_idx % camera.width\n",
    "\n",
    "print(f\"Maximum difference occurs at pixel ({h}, {w})\")\n",
    "print(f\"Scene value: {output_scene[h,w]}\")\n",
    "print(f\"Auto value: {output_auto1[h,w]}\")\n"
   ]
  }
 ],
 "metadata": {
  "kernelspec": {
   "display_name": ".venv",
   "language": "python",
   "name": "python3"
  },
  "language_info": {
   "codemirror_mode": {
    "name": "ipython",
    "version": 3
   },
   "file_extension": ".py",
   "mimetype": "text/x-python",
   "name": "python",
   "nbconvert_exporter": "python",
   "pygments_lexer": "ipython3",
   "version": "3.10.15"
  }
 },
 "nbformat": 4,
 "nbformat_minor": 2
}
