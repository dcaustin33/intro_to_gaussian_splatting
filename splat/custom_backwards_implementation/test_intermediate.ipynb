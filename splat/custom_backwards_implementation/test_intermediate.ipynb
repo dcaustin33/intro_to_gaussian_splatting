{
 "cells": [
  {
   "cell_type": "code",
   "execution_count": 1,
   "metadata": {},
   "outputs": [
    {
     "name": "stderr",
     "output_type": "stream",
     "text": [
      "/home/da2986/intro_to_gaussian_splatting/.venv/lib/python3.10/site-packages/tqdm/auto.py:21: TqdmWarning: IProgress not found. Please update jupyter and ipywidgets. See https://ipywidgets.readthedocs.io/en/stable/user_install.html\n",
      "  from .autonotebook import tqdm as notebook_tqdm\n"
     ]
    }
   ],
   "source": [
    "import os\n",
    "from dataclasses import dataclass\n",
    "\n",
    "import matplotlib.pyplot as plt\n",
    "import numpy as np\n",
    "import torch\n",
    "import tqdm\n",
    "from PIL import Image\n",
    "from torch.optim import Adam\n",
    "\n",
    "from splat.custom_pytorch_implementation.create_image_auto import (\n",
    "    Camera,\n",
    "    create_image_full_auto_multiple_gaussians_with_splat_gaussians,\n",
    ")\n",
    "from splat.custom_pytorch_implementation.create_image_custom import (\n",
    "    create_image_full_custom_multiple_gaussians_with_splat_gaussians,\n",
    ")\n",
    "from splat.gaussians import Gaussians\n",
    "from splat.render_engine.gaussianScene2 import GaussianScene2\n",
    "\n",
    "\n",
    "def return_gaussians() -> Gaussians:\n",
    "    \"\"\"\n",
    "    Creates a set of Gaussian parameters as nn.Parameters. \n",
    "    These parameters are used to build a Gaussian scene and will be optimized.\n",
    "    \n",
    "    Note: Call this function only once before training so that the optimizer \n",
    "    holds persistent parameter references. Each forward pass will create a \n",
    "    fresh computation graph.\n",
    "    \"\"\"\n",
    "    device = torch.device(\"cuda\" if torch.cuda.is_available() else \"cpu\")\n",
    "    points = torch.tensor([[0.101, 0.1001, 4.0], [0.0999, 0.0999, 4.1]], dtype=torch.float32, device=device)\n",
    "    colors = torch.tensor([[0.4, 0.6, 0.8], [0.1, 0.15, 0.2]], dtype=torch.float32, device=device)\n",
    "    scales = torch.tensor([[0.1, 0.15, 0.2], [0.2, 0.16, 0.1]], dtype=torch.float32, device=device)\n",
    "    quaternions = torch.tensor([[0.5, 0.02, 0.03, 0.001], [0.2, 0.04, 0.03, 0.001]], dtype=torch.float32, device=device)\n",
    "    opacity = torch.tensor([0.5, 0.9], dtype=torch.float32, device=device)\n",
    "    \n",
    "    gaussians = Gaussians(\n",
    "        points=points,\n",
    "        colors=colors,\n",
    "        scales=scales,\n",
    "        quaternions=quaternions,\n",
    "        opacity=opacity,\n",
    "        requires_grad=True\n",
    "    )\n",
    "    \n",
    "    return gaussians\n",
    "\n",
    "\n",
    "def return_camera() -> Camera:\n",
    "    device = torch.device(\"cuda\" if torch.cuda.is_available() else \"cpu\")\n",
    "    focal_x = torch.tensor([100.0], device=device, dtype=torch.float32)\n",
    "    focal_y = torch.tensor([100.0], device=device, dtype=torch.float32)\n",
    "    width = 32\n",
    "    height = 32\n",
    "    camera_rotation = torch.tensor([1, 0, 0, 0], device=device, dtype=torch.float32).unsqueeze(0)\n",
    "    camera_translation = torch.tensor([[-0.1, -0.1, 0.0]], device=device, dtype=torch.float32)\n",
    "\n",
    "    return Camera(\n",
    "        focal_x=focal_x,\n",
    "        focal_y=focal_y,\n",
    "        c_x=0.0,\n",
    "        c_y=0.0,\n",
    "        width=width,\n",
    "        height=height,\n",
    "        camera_rotation=camera_rotation,\n",
    "        camera_translation=camera_translation,\n",
    "        device=device\n",
    "    )\n",
    "\n",
    "\n",
    "def return_gt_image() -> torch.Tensor:\n",
    "    gt_image = Image.open(\"../custom_pytorch_implementation/gt.png\")\n",
    "    gt_image = np.array(gt_image) / 255.0\n",
    "    gt_image = torch.tensor(gt_image).float()\n",
    "    return gt_image.to(\"cuda\")\n",
    "\n",
    "\n",
    "def preprocess_for_gaussian_scene(camera: Camera, gaussian_scene: GaussianScene2) -> Gaussians:\n",
    "    extrinsic_matrix = camera.extrinsic_matrix\n",
    "    intrinsic_matrix = camera.intrinsic_matrix\n",
    "    focal_x = camera.focal_x\n",
    "    focal_y = camera.focal_y\n",
    "    width = camera.width\n",
    "    height = camera.height\n",
    "    tile_size = 16\n",
    "    preprocessed_gaussians = gaussian_scene.preprocess(\n",
    "        extrinsic_matrix=extrinsic_matrix,\n",
    "        intrinsic_matrix=intrinsic_matrix,\n",
    "        focal_x=focal_x,\n",
    "        focal_y=focal_y,\n",
    "        width=width,\n",
    "        height=height,\n",
    "        tile_size=tile_size,\n",
    "    )\n",
    "    return preprocessed_gaussians"
   ]
  },
  {
   "cell_type": "markdown",
   "metadata": {},
   "source": [
    "# Auto"
   ]
  },
  {
   "cell_type": "code",
   "execution_count": null,
   "metadata": {},
   "outputs": [
    {
     "name": "stderr",
     "output_type": "stream",
     "text": [
      "  0%|          | 0/50 [00:00<?, ?it/s]/home/da2986/intro_to_gaussian_splatting/splat/custom_pytorch_implementation/auto_functions.py:118: UserWarning: To copy construct from a tensor, it is recommended to use sourceTensor.clone().detach() or sourceTensor.clone().detach().requires_grad_(True), rather than torch.tensor(sourceTensor).\n",
      "  return final_color, torch.tensor(current_T)\n"
     ]
    },
    {
     "name": "stdout",
     "output_type": "stream",
     "text": [
      "I: 0. Loss value 0.01618906483054161\n"
     ]
    },
    {
     "name": "stderr",
     "output_type": "stream",
     "text": [
      "  2%|▏         | 1/50 [00:02<01:43,  2.11s/it]"
     ]
    },
    {
     "name": "stdout",
     "output_type": "stream",
     "text": [
      "I: 1. Loss value 0.01998605579137802\n"
     ]
    },
    {
     "name": "stderr",
     "output_type": "stream",
     "text": [
      "  4%|▍         | 2/50 [00:03<01:20,  1.67s/it]"
     ]
    },
    {
     "name": "stdout",
     "output_type": "stream",
     "text": [
      "I: 2. Loss value 0.01844169944524765\n"
     ]
    },
    {
     "name": "stderr",
     "output_type": "stream",
     "text": [
      "  6%|▌         | 3/50 [00:04<01:12,  1.54s/it]"
     ]
    },
    {
     "name": "stdout",
     "output_type": "stream",
     "text": [
      "I: 3. Loss value 0.015570840798318386\n"
     ]
    },
    {
     "name": "stderr",
     "output_type": "stream",
     "text": [
      "  8%|▊         | 4/50 [00:06<01:08,  1.49s/it]"
     ]
    },
    {
     "name": "stdout",
     "output_type": "stream",
     "text": [
      "I: 4. Loss value 0.014558754861354828\n"
     ]
    },
    {
     "name": "stderr",
     "output_type": "stream",
     "text": [
      " 10%|█         | 5/50 [00:07<01:06,  1.48s/it]"
     ]
    },
    {
     "name": "stdout",
     "output_type": "stream",
     "text": [
      "I: 5. Loss value 0.007656083907932043\n"
     ]
    },
    {
     "name": "stderr",
     "output_type": "stream",
     "text": [
      " 12%|█▏        | 6/50 [00:09<01:05,  1.49s/it]"
     ]
    },
    {
     "name": "stdout",
     "output_type": "stream",
     "text": [
      "I: 6. Loss value 0.010975882411003113\n"
     ]
    },
    {
     "name": "stderr",
     "output_type": "stream",
     "text": [
      " 14%|█▍        | 7/50 [00:10<01:04,  1.49s/it]"
     ]
    },
    {
     "name": "stdout",
     "output_type": "stream",
     "text": [
      "I: 7. Loss value 0.01234724372625351\n"
     ]
    },
    {
     "name": "stderr",
     "output_type": "stream",
     "text": [
      " 16%|█▌        | 8/50 [00:12<01:00,  1.45s/it]"
     ]
    },
    {
     "name": "stdout",
     "output_type": "stream",
     "text": [
      "I: 8. Loss value 0.009772347286343575\n"
     ]
    },
    {
     "name": "stderr",
     "output_type": "stream",
     "text": [
      " 18%|█▊        | 9/50 [00:13<00:58,  1.42s/it]"
     ]
    },
    {
     "name": "stdout",
     "output_type": "stream",
     "text": [
      "I: 9. Loss value 0.00865640863776207\n"
     ]
    },
    {
     "name": "stderr",
     "output_type": "stream",
     "text": [
      " 20%|██        | 10/50 [00:14<00:55,  1.40s/it]"
     ]
    },
    {
     "name": "stdout",
     "output_type": "stream",
     "text": [
      "I: 10. Loss value 0.01089880894869566\n"
     ]
    },
    {
     "name": "stderr",
     "output_type": "stream",
     "text": [
      " 22%|██▏       | 11/50 [00:16<00:53,  1.38s/it]"
     ]
    },
    {
     "name": "stdout",
     "output_type": "stream",
     "text": [
      "I: 11. Loss value 0.010082813911139965\n"
     ]
    }
   ],
   "source": [
    "camera = return_camera()\n",
    "gaussians = return_gaussians()\n",
    "gt_image = return_gt_image()\n",
    "\n",
    "optimizer = Adam([\n",
    "    gaussians.points,\n",
    "    gaussians.colors,\n",
    "    gaussians.scales,\n",
    "    gaussians.quaternions,\n",
    "    gaussians.opacity,\n",
    "], lr=0.001)\n",
    "loss = torch.nn.MSELoss()\n",
    "pbar = tqdm.tqdm(range(50))\n",
    "for i in pbar:\n",
    "    output_auto1 = create_image_full_auto_multiple_gaussians_with_splat_gaussians(\n",
    "        camera, gaussians, camera.height, camera.width, verbose=False\n",
    "    )\n",
    "    loss_value = loss(output_auto1, gt_image.float())\n",
    "    print(f\"I: {i}. Loss value\", loss_value.item())\n",
    "    loss_value.backward()\n",
    "    optimizer.step()\n",
    "    optimizer.zero_grad(set_to_none=True)\n",
    "\n",
    "plt.imshow(output_auto1.detach().cpu().numpy())\n",
    "plt.show()\n",
    "\n"
   ]
  },
  {
   "cell_type": "markdown",
   "metadata": {},
   "source": [
    "# Custom"
   ]
  },
  {
   "cell_type": "code",
   "execution_count": 4,
   "metadata": {},
   "outputs": [
    {
     "name": "stderr",
     "output_type": "stream",
     "text": [
      " 10%|█         | 1/10 [00:02<00:21,  2.44s/it]"
     ]
    },
    {
     "name": "stdout",
     "output_type": "stream",
     "text": [
      "I: 0. Loss value 0.01618906483054161\n"
     ]
    },
    {
     "name": "stderr",
     "output_type": "stream",
     "text": [
      " 20%|██        | 2/10 [00:04<00:19,  2.43s/it]"
     ]
    },
    {
     "name": "stdout",
     "output_type": "stream",
     "text": [
      "I: 1. Loss value 0.01998605579137802\n"
     ]
    },
    {
     "name": "stderr",
     "output_type": "stream",
     "text": [
      " 30%|███       | 3/10 [00:07<00:16,  2.42s/it]"
     ]
    },
    {
     "name": "stdout",
     "output_type": "stream",
     "text": [
      "I: 2. Loss value 0.01844169944524765\n"
     ]
    },
    {
     "name": "stderr",
     "output_type": "stream",
     "text": [
      " 40%|████      | 4/10 [00:09<00:14,  2.42s/it]"
     ]
    },
    {
     "name": "stdout",
     "output_type": "stream",
     "text": [
      "I: 3. Loss value 0.015570840798318386\n"
     ]
    },
    {
     "name": "stderr",
     "output_type": "stream",
     "text": [
      " 50%|█████     | 5/10 [00:12<00:12,  2.46s/it]"
     ]
    },
    {
     "name": "stdout",
     "output_type": "stream",
     "text": [
      "I: 4. Loss value 0.014558754861354828\n"
     ]
    },
    {
     "name": "stderr",
     "output_type": "stream",
     "text": [
      " 60%|██████    | 6/10 [00:14<00:09,  2.45s/it]"
     ]
    },
    {
     "name": "stdout",
     "output_type": "stream",
     "text": [
      "I: 5. Loss value 0.007656083907932043\n"
     ]
    },
    {
     "name": "stderr",
     "output_type": "stream",
     "text": [
      " 70%|███████   | 7/10 [00:17<00:07,  2.44s/it]"
     ]
    },
    {
     "name": "stdout",
     "output_type": "stream",
     "text": [
      "I: 6. Loss value 0.010975882411003113\n"
     ]
    },
    {
     "name": "stderr",
     "output_type": "stream",
     "text": [
      " 80%|████████  | 8/10 [00:19<00:04,  2.44s/it]"
     ]
    },
    {
     "name": "stdout",
     "output_type": "stream",
     "text": [
      "I: 7. Loss value 0.01234724372625351\n"
     ]
    },
    {
     "name": "stderr",
     "output_type": "stream",
     "text": [
      " 90%|█████████ | 9/10 [00:22<00:02,  2.47s/it]"
     ]
    },
    {
     "name": "stdout",
     "output_type": "stream",
     "text": [
      "I: 8. Loss value 0.009772347286343575\n"
     ]
    },
    {
     "name": "stderr",
     "output_type": "stream",
     "text": [
      "100%|██████████| 10/10 [00:24<00:00,  2.45s/it]"
     ]
    },
    {
     "name": "stdout",
     "output_type": "stream",
     "text": [
      "I: 9. Loss value 0.008656409569084644\n"
     ]
    },
    {
     "name": "stderr",
     "output_type": "stream",
     "text": [
      "\n"
     ]
    },
    {
     "data": {
      "image/png": "[encoded data removed]",
      "text/plain": [
       "<Figure size 640x480 with 1 Axes>"
      ]
     },
     "metadata": {},
     "output_type": "display_data"
    }
   ],
   "source": [
    "camera = return_camera()\n",
    "gaussians = return_gaussians()\n",
    "gaussians.points.retain_grad()\n",
    "gt_image = return_gt_image()\n",
    "\n",
    "optimizer = Adam([\n",
    "    gaussians.points,\n",
    "    gaussians.colors,\n",
    "    gaussians.scales,\n",
    "    gaussians.quaternions,\n",
    "    gaussians.opacity,\n",
    "], lr=0.001)\n",
    "loss = torch.nn.MSELoss()\n",
    "pbar = tqdm.tqdm(range(50))\n",
    "\n",
    "for i in pbar:\n",
    "    output_custom1 = create_image_full_custom_multiple_gaussians_with_splat_gaussians(\n",
    "        camera, gaussians, camera.height, camera.width, verbose=False\n",
    "    )\n",
    "    loss_value = loss(output_custom1, gt_image.float())\n",
    "    loss_value.backward()\n",
    "    print(f\"I: {i}. Loss value\", loss_value.item())\n",
    "    optimizer.step()\n",
    "    optimizer.zero_grad(set_to_none=True)\n",
    "\n",
    "plt.imshow(output_custom1.detach().cpu().numpy())\n",
    "plt.show()"
   ]
  },
  {
   "cell_type": "markdown",
   "metadata": {},
   "source": [
    "# In CUDA"
   ]
  },
  {
   "cell_type": "code",
   "execution_count": 5,
   "metadata": {},
   "outputs": [
    {
     "name": "stderr",
     "output_type": "stream",
     "text": [
      "  0%|          | 0/10 [00:00<?, ?it/s]"
     ]
    },
    {
     "name": "stdout",
     "output_type": "stream",
     "text": [
      "WARNING: not using scale activation\n",
      "I: 0. Loss value 0.01618906483054161\n",
      "WARNING: not using scale activation\n",
      "I: 1. Loss value 0.01998605765402317\n",
      "WARNING: not using scale activation\n",
      "I: 2. Loss value 0.01844169571995735\n",
      "WARNING: not using scale activation\n",
      "I: 3. Loss value 0.015570825897157192\n"
     ]
    },
    {
     "name": "stderr",
     "output_type": "stream",
     "text": [
      "100%|██████████| 10/10 [00:00<00:00, 72.96it/s]\n"
     ]
    },
    {
     "name": "stdout",
     "output_type": "stream",
     "text": [
      "WARNING: not using scale activation\n",
      "I: 4. Loss value 0.014558646827936172\n",
      "WARNING: not using scale activation\n",
      "I: 5. Loss value 0.0076560769230127335\n",
      "WARNING: not using scale activation\n",
      "I: 6. Loss value 0.010975736193358898\n",
      "WARNING: not using scale activation\n",
      "I: 7. Loss value 0.012347094714641571\n",
      "WARNING: not using scale activation\n",
      "I: 8. Loss value 0.009772296994924545\n",
      "WARNING: not using scale activation\n",
      "I: 9. Loss value 0.008656474761664867\n"
     ]
    },
    {
     "data": {
      "image/png": "[encoded data removed]",
      "text/plain": [
       "<Figure size 640x480 with 1 Axes>"
      ]
     },
     "metadata": {},
     "output_type": "display_data"
    }
   ],
   "source": [
    "gaussians = return_gaussians()\n",
    "\n",
    "\n",
    "optimizer = Adam([\n",
    "    gaussians.points,\n",
    "    gaussians.colors,\n",
    "    gaussians.scales,\n",
    "    gaussians.quaternions,\n",
    "    gaussians.opacity,\n",
    "], lr=0.001)\n",
    "\n",
    "\n",
    "pbar = tqdm.tqdm(range(50))\n",
    "for i in pbar:\n",
    "    gaussian_scene = GaussianScene2(gaussians=gaussians)\n",
    "    preprocessed_gaussians = preprocess_for_gaussian_scene(camera, gaussian_scene)\n",
    "\n",
    "    output_scene = gaussian_scene.render_cuda(\n",
    "        preprocessed_gaussians=preprocessed_gaussians.clone(),\n",
    "        height=camera.height,\n",
    "        width=camera.width,\n",
    "        tile_size=16,\n",
    "    )\n",
    "    final_output = torch.zeros_like(output_scene)\n",
    "    final_output = output_scene\n",
    "\n",
    "    loss_value = loss(final_output, gt_image.float())\n",
    "    print(f\"I: {i}. Loss value\", loss_value.item())\n",
    "    loss_value.backward()\n",
    "    optimizer.step()\n",
    "    optimizer.zero_grad(set_to_none=True)\n",
    "\n",
    "plt.imshow(final_output.detach().cpu().numpy())\n",
    "plt.show()"
   ]
  },
  {
   "cell_type": "code",
   "execution_count": 9,
   "metadata": {},
   "outputs": [
    {
     "data": {
      "text/plain": [
       "tensor([[-1.4761e-05,  1.2789e-05,  0.0000e+00],\n",
       "        [-2.8760e-07, -2.5588e-08,  0.0000e+00]], device='cuda:0')"
      ]
     },
     "execution_count": 9,
     "metadata": {},
     "output_type": "execute_result"
    }
   ],
   "source": [
    "preprocessed_gaussians.means_3d.grad"
   ]
  },
  {
   "cell_type": "code",
   "execution_count": 5,
   "metadata": {},
   "outputs": [
    {
     "data": {
      "text/plain": [
       "False"
      ]
     },
     "execution_count": 5,
     "metadata": {},
     "output_type": "execute_result"
    }
   ],
   "source": [
    "torch.allclose(output_auto1, output_scene)"
   ]
  },
  {
   "cell_type": "code",
   "execution_count": 5,
   "metadata": {},
   "outputs": [
    {
     "name": "stdout",
     "output_type": "stream",
     "text": [
      "Maximum difference occurs at pixel (12, 2)\n",
      "Scene value: tensor([0.1792, 0.2688, 0.3583], device='cuda:0')\n",
      "Auto value: tensor([0.1792, 0.2688, 0.3583], device='cuda:0', grad_fn=<SelectBackward0>)\n"
     ]
    },
    {
     "name": "stderr",
     "output_type": "stream",
     "text": [
      "/var/tmp/ipykernel_4027/1678247111.py:7: UserWarning: __floordiv__ is deprecated, and its behavior will change in a future version of pytorch. It currently rounds toward 0 (like the 'trunc' function NOT 'floor'). This results in incorrect rounding for negative values. To keep the current behavior, use torch.div(a, b, rounding_mode='trunc'), or for actual floor division, use torch.div(a, b, rounding_mode='floor').\n",
      "  h = max_diff_idx // camera.width\n"
     ]
    }
   ],
   "source": [
    "# Find pixel location with maximum difference between images\n",
    "diff = torch.abs(output_scene - output_auto1)\n",
    "max_diff = torch.max(diff.sum(dim=-1))  # Sum across color channels\n",
    "max_diff_idx = torch.argmax(diff.sum(dim=-1))  # Get flattened index\n",
    "\n",
    "# Convert flat index to 2D coordinates\n",
    "h = max_diff_idx // camera.width\n",
    "w = max_diff_idx % camera.width\n",
    "\n",
    "print(f\"Maximum difference occurs at pixel ({h}, {w})\")\n",
    "print(f\"Scene value: {output_scene[h,w]}\")\n",
    "print(f\"Auto value: {output_auto1[h,w]}\")\n"
   ]
  }
 ],
 "metadata": {
  "kernelspec": {
   "display_name": ".venv",
   "language": "python",
   "name": "python3"
  },
  "language_info": {
   "codemirror_mode": {
    "name": "ipython",
    "version": 3
   },
   "file_extension": ".py",
   "mimetype": "text/x-python",
   "name": "python",
   "nbconvert_exporter": "python",
   "pygments_lexer": "ipython3",
   "version": "3.10.15"
  }
 },
 "nbformat": 4,
 "nbformat_minor": 2
}
