{
 "cells": [
  {
   "cell_type": "code",
   "execution_count": 1,
   "metadata": {},
   "outputs": [],
   "source": [
    "import os\n",
    "from IPython.core.debugger import set_trace\n",
    "import torch\n",
    "\n",
    "os.environ['TRITON_INTERPRET'] = '1' # needs to be set *before* triton is imported\n",
    "\n",
    "import triton\n",
    "import triton.language as tl\n",
    "\n",
    "def cdiv(a,b): return (a + b - 1) // b\n",
    "\n",
    "def copy(x, bs, kernel_fn):\n",
    "    z = torch.zeros_like(x)\n",
    "    n = x.numel()\n",
    "    n_blocks = cdiv(n, bs)\n",
    "    grid = (n_blocks,)  # how many blocks do we have? can be 1d/2d/3d-tuple or function returning 1d/2d/3d-tuple\n",
    "\n",
    "    # launch grid!\n",
    "    # - kernel_fn is the triton kernel, which we write below\n",
    "    # - grid is the grid we constructed above\n",
    "    # - x,z,n,bs are paramters that are passed into each kernel function\n",
    "    kernel_fn[grid](x,z,n,bs)\n",
    "\n",
    "    return z    \n",
    "\n",
    "@triton.jit\n",
    "# When we pass torch tensors, they are automatically converted into a pointer to their first value\n",
    "# E.g., above we passed x, but here we receive x_ptr\n",
    "def copy_k(x_ptr, z_ptr, n, bs: tl.constexpr):\n",
    "    pid = tl.program_id(0)\n",
    "    offs = tl.arange(0, bs)  # compute the offsets from the pid \n",
    "    mask = offs < n\n",
    "    x = tl.load(x_ptr + offs, mask) # load a vector of values, think of `x_ptr + offs` as `x_ptr[offs]`\n",
    "    tl.store(z_ptr + offs, x, mask) # store a vector of values\n",
    "\n",
    "    # print_if(f'pid = {pid} | offs = {offs}, mask = {mask}, x = {x}', '')"
   ]
  },
  {
   "cell_type": "code",
   "execution_count": 6,
   "metadata": {},
   "outputs": [],
   "source": [
    "@triton.jit\n",
    "def add_one(a, b, c, n: tl.constexpr):\n",
    "    pid = tl.program_id(0)\n",
    "    offsets = tl.arange(0, n)\n",
    "    nums_a = tl.load(a + offsets)\n",
    "    nums_b = tl.load(b + offsets)\n",
    "    nums_c = nums_a + nums_b\n",
    "    tl.store(c + offsets, nums_c)\n",
    "    \n",
    "device = torch.device(\"cuda\" if torch.cuda.is_available() else \"cpu\")"
   ]
  },
  {
   "cell_type": "code",
   "execution_count": 14,
   "metadata": {},
   "outputs": [
    {
     "name": "stdout",
     "output_type": "stream",
     "text": [
      "tensor([1, 2, 3, 4, 5, 6])\n"
     ]
    }
   ],
   "source": [
    "x = torch.tensor([1,2,3,4,5,6])\n",
    "y = torch.tensor([0,1,0,1,0,1])\n",
    "c = torch.zeros_like(x)\n",
    "\n",
    "device = torch.device(\"cuda\" if torch.cuda.is_available() else \"cpu\")\n",
    "    \n",
    "num_points = 100\n",
    "x = torch.tensor([1,2,3,4,5,6], device=device)\n",
    "# y = torch.arange(num_points, device=device)\n",
    "c = torch.zeros_like(x)\n",
    "print(x)\n",
    "\n",
    "add_one[1,](x, y, c, 5)"
   ]
  }
 ],
 "metadata": {
  "kernelspec": {
   "display_name": "cloudspace",
   "language": "python",
   "name": "python3"
  },
  "language_info": {
   "codemirror_mode": {
    "name": "ipython",
    "version": 3
   },
   "file_extension": ".py",
   "mimetype": "text/x-python",
   "name": "python",
   "nbconvert_exporter": "python",
   "pygments_lexer": "ipython3",
   "version": "3.10.10"
  }
 },
 "nbformat": 4,
 "nbformat_minor": 2
}
