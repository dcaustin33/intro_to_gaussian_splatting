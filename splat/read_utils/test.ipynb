{
 "cells": [
  {
   "cell_type": "code",
   "execution_count": 1,
   "metadata": {},
   "outputs": [
    {
     "name": "stdout",
     "output_type": "stream",
     "text": [
      "Vertex Count: 2399849\n",
      "Properties: [('float', 'x'), ('float', 'y'), ('float', 'z'), ('float', 'nx'), ('float', 'ny'), ('float', 'nz'), ('float', 'f_dc_0'), ('float', 'f_dc_1'), ('float', 'f_dc_2'), ('float', 'f_rest_0'), ('float', 'f_rest_1'), ('float', 'f_rest_2'), ('float', 'f_rest_3'), ('float', 'f_rest_4'), ('float', 'f_rest_5'), ('float', 'f_rest_6'), ('float', 'f_rest_7'), ('float', 'f_rest_8'), ('float', 'f_rest_9'), ('float', 'f_rest_10'), ('float', 'f_rest_11'), ('float', 'f_rest_12'), ('float', 'f_rest_13'), ('float', 'f_rest_14'), ('float', 'f_rest_15'), ('float', 'f_rest_16'), ('float', 'f_rest_17'), ('float', 'f_rest_18'), ('float', 'f_rest_19'), ('float', 'f_rest_20'), ('float', 'f_rest_21'), ('float', 'f_rest_22'), ('float', 'f_rest_23'), ('float', 'f_rest_24'), ('float', 'f_rest_25'), ('float', 'f_rest_26'), ('float', 'f_rest_27'), ('float', 'f_rest_28'), ('float', 'f_rest_29'), ('float', 'f_rest_30'), ('float', 'f_rest_31'), ('float', 'f_rest_32'), ('float', 'f_rest_33'), ('float', 'f_rest_34'), ('float', 'f_rest_35'), ('float', 'f_rest_36'), ('float', 'f_rest_37'), ('float', 'f_rest_38'), ('float', 'f_rest_39'), ('float', 'f_rest_40'), ('float', 'f_rest_41'), ('float', 'f_rest_42'), ('float', 'f_rest_43'), ('float', 'f_rest_44'), ('float', 'opacity'), ('float', 'scale_0'), ('float', 'scale_1'), ('float', 'scale_2'), ('float', 'rot_0'), ('float', 'rot_1'), ('float', 'rot_2'), ('float', 'rot_3')]\n"
     ]
    },
    {
     "name": "stderr",
     "output_type": "stream",
     "text": [
      "100%|██████████| 2399849/2399849 [00:10<00:00, 233881.76it/s]\n"
     ]
    }
   ],
   "source": [
    "import os\n",
    "from splat.read_utils.read_gs_ply_files import read_ply_file\n",
    "\n",
    "path = \"/Users/derek/Downloads/models/treehill/point_cloud/iteration_7000/point_cloud.ply\"\n",
    "vertices = read_ply_file(path)"
   ]
  },
  {
   "cell_type": "code",
   "execution_count": 3,
   "metadata": {},
   "outputs": [],
   "source": [
    "gaussian_means = [[v['x'], v['y'], v['z']] for v in vertices]\n",
    "gaussian_dc_sh = [[v['f_dc_0'], v['f_dc_1'], v['f_dc_2']] for v in vertices]\n",
    "opacity = [v['opacity'] for v in vertices]\n",
    "scale = [[v['scale_0'], v['scale_1'], v['scale_2']] for v in vertices]\n",
    "rotation = [[v['rot_0'], v['rot_1'], v['rot_2'], v['rot_3']] for v in vertices]\n"
   ]
  },
  {
   "cell_type": "code",
   "execution_count": 7,
   "metadata": {},
   "outputs": [],
   "source": [
    "import torch\n",
    "\n",
    "dc = torch.tensor(gaussian_dc_sh, dtype=torch.float32)\n",
    "C0 = 0.28209479177387814\n",
    "dc = dc * C0 + 0.5"
   ]
  },
  {
   "cell_type": "code",
   "execution_count": 9,
   "metadata": {},
   "outputs": [
    {
     "data": {
      "text/plain": [
       "tensor(-0.0896)"
      ]
     },
     "execution_count": 9,
     "metadata": {},
     "output_type": "execute_result"
    }
   ],
   "source": [
    "dc.min()"
   ]
  }
 ],
 "metadata": {
  "kernelspec": {
   "display_name": ".venv",
   "language": "python",
   "name": "python3"
  },
  "language_info": {
   "codemirror_mode": {
    "name": "ipython",
    "version": 3
   },
   "file_extension": ".py",
   "mimetype": "text/x-python",
   "name": "python",
   "nbconvert_exporter": "python",
   "pygments_lexer": "ipython3",
   "version": "3.10.14"
  }
 },
 "nbformat": 4,
 "nbformat_minor": 2
}
