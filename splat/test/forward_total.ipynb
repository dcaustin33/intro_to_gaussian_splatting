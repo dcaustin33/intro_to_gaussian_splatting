{
 "cells": [
  {
   "cell_type": "markdown",
   "metadata": {},
   "source": [
    "# Toy gaussian example auto example"
   ]
  },
  {
   "cell_type": "code",
   "execution_count": 1,
   "metadata": {},
   "outputs": [
    {
     "data": {
      "image/png": "[encoded data removed]",
      "text/plain": [
       "<Figure size 640x480 with 1 Axes>"
      ]
     },
     "metadata": {},
     "output_type": "display_data"
    },
    {
     "name": "stderr",
     "output_type": "stream",
     "text": [
      "  5%|▌         | 1/20 [00:03<01:12,  3.84s/it, loss=0.0512]"
     ]
    },
    {
     "name": "stdout",
     "output_type": "stream",
     "text": [
      "loss tensor(0.0512, dtype=torch.float64, grad_fn=<MeanBackward0>)\n",
      "point_2d tensor([[-0.0004,  0.0002, -0.1147]])\n",
      "R grad tensor([[ 0.0026, -0.0148, -0.0326, -0.0018]])\n",
      "S grad tensor([[0.6807, 0.3112, 0.0000]])\n",
      "Color grad tensor([0.0532, 0.0532, 0.0532])\n",
      "Opacity grad tensor([0.0482])\n",
      "\n",
      "\n",
      "\n"
     ]
    },
    {
     "name": "stderr",
     "output_type": "stream",
     "text": [
      " 10%|█         | 2/20 [00:07<01:09,  3.85s/it, loss=0.0445]"
     ]
    },
    {
     "name": "stdout",
     "output_type": "stream",
     "text": [
      "loss tensor(0.0445, dtype=torch.float64, grad_fn=<MeanBackward0>)\n",
      "point_2d tensor([[-0.0005,  0.0001, -0.1067]])\n",
      "R grad tensor([[ 0.0036, -0.0179, -0.0358, -0.0106]])\n",
      "S grad tensor([[0.6616, 0.3060, 0.0000]])\n",
      "Color grad tensor([0.0472, 0.0472, 0.0472])\n",
      "Opacity grad tensor([0.0426])\n",
      "\n",
      "\n",
      "\n"
     ]
    },
    {
     "name": "stderr",
     "output_type": "stream",
     "text": [
      " 15%|█▌        | 3/20 [00:11<01:03,  3.73s/it, loss=0.038] "
     ]
    },
    {
     "name": "stdout",
     "output_type": "stream",
     "text": [
      "loss tensor(0.0380, dtype=torch.float64, grad_fn=<MeanBackward0>)\n",
      "point_2d tensor([[-6.3872e-04,  5.3147e-05, -9.7705e-02]])\n",
      "R grad tensor([[ 0.0047, -0.0205, -0.0377, -0.0170]])\n",
      "S grad tensor([[0.6325, 0.2982, 0.0000]])\n",
      "Color grad tensor([0.0413, 0.0413, 0.0413])\n",
      "Opacity grad tensor([0.0372])\n",
      "\n",
      "\n",
      "\n"
     ]
    },
    {
     "name": "stderr",
     "output_type": "stream",
     "text": [
      " 20%|██        | 4/20 [00:14<00:59,  3.70s/it, loss=0.0319]"
     ]
    },
    {
     "name": "stdout",
     "output_type": "stream",
     "text": [
      "loss tensor(0.0319, dtype=torch.float64, grad_fn=<MeanBackward0>)\n",
      "point_2d tensor([[-7.6974e-04, -1.8186e-05, -8.7883e-02]])\n",
      "R grad tensor([[ 0.0059, -0.0226, -0.0382, -0.0226]])\n",
      "S grad tensor([[0.5923, 0.2877, 0.0000]])\n",
      "Color grad tensor([0.0355, 0.0355, 0.0355])\n",
      "Opacity grad tensor([0.0319])\n",
      "\n",
      "\n",
      "\n"
     ]
    },
    {
     "name": "stderr",
     "output_type": "stream",
     "text": [
      " 25%|██▌       | 5/20 [00:18<00:55,  3.68s/it, loss=0.0262]"
     ]
    },
    {
     "name": "stdout",
     "output_type": "stream",
     "text": [
      "loss tensor(0.0262, dtype=torch.float64, grad_fn=<MeanBackward0>)\n",
      "point_2d tensor([[-8.8911e-04, -9.1718e-05, -7.7408e-02]])\n",
      "R grad tensor([[ 0.0070, -0.0241, -0.0371, -0.0269]])\n",
      "S grad tensor([[0.5408, 0.2742, 0.0000]])\n",
      "Color grad tensor([0.0300, 0.0300, 0.0300])\n",
      "Opacity grad tensor([0.0268])\n",
      "\n",
      "\n",
      "\n"
     ]
    },
    {
     "name": "stderr",
     "output_type": "stream",
     "text": [
      " 30%|███       | 6/20 [00:22<00:51,  3.69s/it, loss=0.021] "
     ]
    },
    {
     "name": "stdout",
     "output_type": "stream",
     "text": [
      "loss tensor(0.0210, dtype=torch.float64, grad_fn=<MeanBackward0>)\n",
      "point_2d tensor([[-0.0010, -0.0002, -0.0665]])\n",
      "R grad tensor([[ 0.0079, -0.0249, -0.0344, -0.0296]])\n",
      "S grad tensor([[0.4784, 0.2577, 0.0000]])\n",
      "Color grad tensor([0.0248, 0.0248, 0.0248])\n",
      "Opacity grad tensor([0.0221])\n",
      "\n",
      "\n",
      "\n"
     ]
    },
    {
     "name": "stderr",
     "output_type": "stream",
     "text": [
      " 35%|███▌      | 7/20 [00:25<00:47,  3.66s/it, loss=0.0164]"
     ]
    },
    {
     "name": "stdout",
     "output_type": "stream",
     "text": [
      "loss tensor(0.0164, dtype=torch.float64, grad_fn=<MeanBackward0>)\n",
      "point_2d tensor([[-0.0011, -0.0002, -0.0556]])\n",
      "R grad tensor([[ 0.0084, -0.0250, -0.0302, -0.0307]])\n",
      "S grad tensor([[0.4066, 0.2384, 0.0000]])\n",
      "Color grad tensor([0.0200, 0.0200, 0.0200])\n",
      "Opacity grad tensor([0.0178])\n",
      "\n",
      "\n",
      "\n"
     ]
    },
    {
     "name": "stderr",
     "output_type": "stream",
     "text": [
      " 40%|████      | 8/20 [00:29<00:43,  3.66s/it, loss=0.0126]"
     ]
    },
    {
     "name": "stdout",
     "output_type": "stream",
     "text": [
      "loss tensor(0.0126, dtype=torch.float64, grad_fn=<MeanBackward0>)\n",
      "point_2d tensor([[-0.0011, -0.0003, -0.0449]])\n",
      "R grad tensor([[ 0.0085, -0.0244, -0.0249, -0.0299]])\n",
      "S grad tensor([[0.3276, 0.2163, 0.0000]])\n",
      "Color grad tensor([0.0156, 0.0156, 0.0156])\n",
      "Opacity grad tensor([0.0139])\n",
      "\n",
      "\n",
      "\n"
     ]
    },
    {
     "name": "stderr",
     "output_type": "stream",
     "text": [
      " 45%|████▌     | 9/20 [00:33<00:40,  3.69s/it, loss=0.00942]"
     ]
    },
    {
     "name": "stdout",
     "output_type": "stream",
     "text": [
      "loss tensor(0.0094, dtype=torch.float64, grad_fn=<MeanBackward0>)\n",
      "point_2d tensor([[-0.0012, -0.0004, -0.0347]])\n",
      "R grad tensor([[ 0.0082, -0.0231, -0.0186, -0.0275]])\n",
      "S grad tensor([[0.2440, 0.1921, 0.0000]])\n",
      "Color grad tensor([0.0118, 0.0118, 0.0118])\n",
      "Opacity grad tensor([0.0104])\n",
      "\n",
      "\n",
      "\n"
     ]
    },
    {
     "name": "stderr",
     "output_type": "stream",
     "text": [
      " 50%|█████     | 10/20 [00:36<00:36,  3.68s/it, loss=0.00702]"
     ]
    },
    {
     "name": "stdout",
     "output_type": "stream",
     "text": [
      "loss tensor(0.0070, dtype=torch.float64, grad_fn=<MeanBackward0>)\n",
      "point_2d tensor([[-0.0012, -0.0004, -0.0254]])\n",
      "R grad tensor([[ 0.0073, -0.0212, -0.0119, -0.0235]])\n",
      "S grad tensor([[0.1591, 0.1662, 0.0000]])\n",
      "Color grad tensor([0.0085, 0.0085, 0.0085])\n",
      "Opacity grad tensor([0.0075])\n",
      "\n",
      "\n",
      "\n"
     ]
    },
    {
     "name": "stderr",
     "output_type": "stream",
     "text": [
      " 55%|█████▌    | 11/20 [00:40<00:33,  3.71s/it, loss=0.00534]"
     ]
    },
    {
     "name": "stdout",
     "output_type": "stream",
     "text": [
      "loss tensor(0.0053, dtype=torch.float64, grad_fn=<MeanBackward0>)\n",
      "point_2d tensor([[-0.0012, -0.0005, -0.0173]])\n",
      "R grad tensor([[ 0.0059, -0.0188, -0.0053, -0.0184]])\n",
      "S grad tensor([[0.0763, 0.1393, 0.0000]])\n",
      "Color grad tensor([0.0057, 0.0057, 0.0057])\n",
      "Opacity grad tensor([0.0050])\n",
      "\n",
      "\n",
      "\n"
     ]
    },
    {
     "name": "stderr",
     "output_type": "stream",
     "text": [
      " 60%|██████    | 12/20 [00:44<00:30,  3.76s/it, loss=0.00431]"
     ]
    },
    {
     "name": "stdout",
     "output_type": "stream",
     "text": [
      "loss tensor(0.0043, dtype=torch.float64, grad_fn=<MeanBackward0>)\n",
      "point_2d tensor([[-0.0012, -0.0005, -0.0103]])\n",
      "R grad tensor([[ 0.0041, -0.0160,  0.0009, -0.0124]])\n",
      "S grad tensor([[-0.0013,  0.1126,  0.0000]])\n",
      "Color grad tensor([0.0035, 0.0035, 0.0035])\n",
      "Opacity grad tensor([0.0031])\n",
      "\n",
      "\n",
      "\n"
     ]
    },
    {
     "name": "stderr",
     "output_type": "stream",
     "text": [
      " 65%|██████▌   | 13/20 [00:48<00:26,  3.75s/it, loss=0.00381]"
     ]
    },
    {
     "name": "stdout",
     "output_type": "stream",
     "text": [
      "loss tensor(0.0038, dtype=torch.float64, grad_fn=<MeanBackward0>)\n",
      "point_2d tensor([[-0.0012, -0.0005, -0.0046]])\n",
      "R grad tensor([[ 0.0020, -0.0131,  0.0062, -0.0060]])\n",
      "S grad tensor([[-0.0706,  0.0867,  0.0000]])\n",
      "Color grad tensor([0.0018, 0.0018, 0.0018])\n",
      "Opacity grad tensor([0.0016])\n",
      "\n",
      "\n",
      "\n"
     ]
    },
    {
     "name": "stderr",
     "output_type": "stream",
     "text": [
      " 70%|███████   | 14/20 [00:52<00:22,  3.73s/it, loss=0.00373]"
     ]
    },
    {
     "name": "stdout",
     "output_type": "stream",
     "text": [
      "loss tensor(0.0037, dtype=torch.float64, grad_fn=<MeanBackward0>)\n",
      "point_2d tensor([[-1.1825e-03, -5.3569e-04, -8.4455e-05]])\n",
      "R grad tensor([[-0.0002, -0.0101,  0.0105,  0.0003]])\n",
      "S grad tensor([[-0.1293,  0.0625,  0.0000]])\n",
      "Color grad tensor([0.0005, 0.0005, 0.0005])\n",
      "Opacity grad tensor([0.0004])\n",
      "\n",
      "\n",
      "\n"
     ]
    },
    {
     "name": "stderr",
     "output_type": "stream",
     "text": [
      " 75%|███████▌  | 15/20 [00:55<00:18,  3.70s/it, loss=0.00392]"
     ]
    },
    {
     "name": "stdout",
     "output_type": "stream",
     "text": [
      "loss tensor(0.0039, dtype=torch.float64, grad_fn=<MeanBackward0>)\n",
      "point_2d tensor([[-0.0011, -0.0005,  0.0033]])\n",
      "R grad tensor([[-0.0024, -0.0073,  0.0137,  0.0062]])\n",
      "S grad tensor([[-0.1761,  0.0407,  0.0000]])\n",
      "Color grad tensor([-0.0004, -0.0004, -0.0004])\n",
      "Opacity grad tensor([-0.0004])\n",
      "\n",
      "\n",
      "\n"
     ]
    },
    {
     "name": "stderr",
     "output_type": "stream",
     "text": [
      " 80%|████████  | 16/20 [00:59<00:14,  3.69s/it, loss=0.00425]"
     ]
    },
    {
     "name": "stdout",
     "output_type": "stream",
     "text": [
      "loss tensor(0.0042, dtype=torch.float64, grad_fn=<MeanBackward0>)\n",
      "point_2d tensor([[-0.0011, -0.0006,  0.0058]])\n",
      "R grad tensor([[-0.0043, -0.0047,  0.0158,  0.0113]])\n",
      "S grad tensor([[-0.2110,  0.0214,  0.0000]])\n",
      "Color grad tensor([-0.0011, -0.0011, -0.0011])\n",
      "Opacity grad tensor([-0.0009])\n",
      "\n",
      "\n",
      "\n"
     ]
    },
    {
     "name": "stderr",
     "output_type": "stream",
     "text": [
      " 85%|████████▌ | 17/20 [01:02<00:11,  3.69s/it, loss=0.00461]"
     ]
    },
    {
     "name": "stdout",
     "output_type": "stream",
     "text": [
      "loss tensor(0.0046, dtype=torch.float64, grad_fn=<MeanBackward0>)\n",
      "point_2d tensor([[-0.0010, -0.0006,  0.0076]])\n",
      "R grad tensor([[-0.0060, -0.0023,  0.0170,  0.0154]])\n",
      "S grad tensor([[-0.2350,  0.0047,  0.0000]])\n",
      "Color grad tensor([-0.0015, -0.0015, -0.0015])\n",
      "Opacity grad tensor([-0.0013])\n",
      "\n",
      "\n",
      "\n"
     ]
    },
    {
     "name": "stderr",
     "output_type": "stream",
     "text": [
      " 90%|█████████ | 18/20 [01:06<00:07,  3.70s/it, loss=0.00493]"
     ]
    },
    {
     "name": "stdout",
     "output_type": "stream",
     "text": [
      "loss tensor(0.0049, dtype=torch.float64, grad_fn=<MeanBackward0>)\n",
      "point_2d tensor([[-0.0010, -0.0006,  0.0088]])\n",
      "R grad tensor([[-0.0073, -0.0002,  0.0176,  0.0186]])\n",
      "S grad tensor([[-0.2497, -0.0096,  0.0000]])\n",
      "Color grad tensor([-0.0019, -0.0019, -0.0019])\n",
      "Opacity grad tensor([-0.0016])\n",
      "\n",
      "\n",
      "\n"
     ]
    },
    {
     "name": "stderr",
     "output_type": "stream",
     "text": [
      " 95%|█████████▌| 19/20 [01:10<00:03,  3.66s/it, loss=0.00516]"
     ]
    },
    {
     "name": "stdout",
     "output_type": "stream",
     "text": [
      "loss tensor(0.0052, dtype=torch.float64, grad_fn=<MeanBackward0>)\n",
      "point_2d tensor([[-0.0010, -0.0006,  0.0097]])\n",
      "R grad tensor([[-0.0083,  0.0017,  0.0177,  0.0209]])\n",
      "S grad tensor([[-0.2569, -0.0220,  0.0000]])\n",
      "Color grad tensor([-0.0021, -0.0021, -0.0021])\n",
      "Opacity grad tensor([-0.0018])\n",
      "\n",
      "\n",
      "\n"
     ]
    },
    {
     "name": "stderr",
     "output_type": "stream",
     "text": [
      "100%|██████████| 20/20 [01:13<00:00,  3.70s/it, loss=0.00527]"
     ]
    },
    {
     "name": "stdout",
     "output_type": "stream",
     "text": [
      "loss tensor(0.0053, dtype=torch.float64, grad_fn=<MeanBackward0>)\n",
      "point_2d tensor([[-0.0009, -0.0006,  0.0104]])\n",
      "R grad tensor([[-0.0089,  0.0033,  0.0175,  0.0222]])\n",
      "S grad tensor([[-0.2582, -0.0326,  0.0000]])\n",
      "Color grad tensor([-0.0022, -0.0022, -0.0022])\n",
      "Opacity grad tensor([-0.0019])\n",
      "\n",
      "\n",
      "\n",
      "GT image\n"
     ]
    },
    {
     "name": "stderr",
     "output_type": "stream",
     "text": [
      "\n"
     ]
    },
    {
     "data": {
      "image/png": "[encoded data removed]",
      "text/plain": [
       "<Figure size 640x480 with 1 Axes>"
      ]
     },
     "metadata": {},
     "output_type": "display_data"
    },
    {
     "name": "stdout",
     "output_type": "stream",
     "text": [
      "Final image\n"
     ]
    },
    {
     "data": {
      "image/png": "[encoded data removed]",
      "text/plain": [
       "<Figure size 640x480 with 1 Axes>"
      ]
     },
     "metadata": {},
     "output_type": "display_data"
    }
   ],
   "source": [
    "import matplotlib.pyplot as plt\n",
    "import numpy as np\n",
    "import torch\n",
    "import tqdm\n",
    "from PIL import Image\n",
    "\n",
    "from splat.test.create_image_auto import Camera, Gaussian, create_image_full_auto\n",
    "\n",
    "torch.autograd.set_detect_anomaly(True)\n",
    "\n",
    "point_2d = torch.tensor([[14, 14, 1]], dtype=torch.float32).requires_grad_(True)\n",
    "r = torch.tensor([[0.5, 0.02, 0.03, 0.001]], dtype=torch.float32).requires_grad_(True)\n",
    "s = torch.tensor([[.1, .15, .2]], dtype=torch.float32).requires_grad_(True)\n",
    "color = torch.tensor([0.8, 0.8, 0.8], dtype=torch.float32).requires_grad_(True)\n",
    "opacity = torch.tensor([0.5], dtype=torch.float32).requires_grad_(True)\n",
    "\n",
    "gaussian = Gaussian(\n",
    "    mean_2d=point_2d, \n",
    "    r=r, \n",
    "    s=s, \n",
    "    color=color, \n",
    "    opacity=opacity\n",
    ")\n",
    "\n",
    "focal_x = torch.tensor([100.0])\n",
    "focal_y = torch.tensor([100.0])\n",
    "width = 32\n",
    "height = 32\n",
    "camera_rotation = torch.tensor([1, 0, 0, 0]).unsqueeze(0)\n",
    "camera_translation = torch.tensor([[-0.1, -0.1, 0.0]])\n",
    "\n",
    "camera = Camera(\n",
    "    focal_x=focal_x,\n",
    "    focal_y=focal_y,\n",
    "    c_x=0.0,\n",
    "    c_y=0.0,\n",
    "    width=width,\n",
    "    height=height,\n",
    "    camera_rotation=camera_rotation,\n",
    "    camera_translation=camera_translation,\n",
    ")\n",
    "gt_image = Image.open(\"gt.png\")\n",
    "gt_image = np.array(gt_image) / 255.0\n",
    "gt_image = torch.tensor(gt_image)\n",
    "\n",
    "output_auto = create_image_full_auto(camera, gaussian, height, width)\n",
    "plt.imshow(output_auto.detach().numpy())\n",
    "plt.show()\n",
    "\n",
    "optimizer = torch.optim.Adam([r, s, point_2d, color, opacity], lr=0.005)\n",
    "\n",
    "pbar = tqdm.tqdm(range(20))\n",
    "for i in pbar:\n",
    "    optimizer.zero_grad()\n",
    "    output_auto = create_image_full_auto(camera, gaussian, height, width)\n",
    "    loss = (output_auto - gt_image).pow(2).mean()\n",
    "    loss.backward()\n",
    "    optimizer.step()\n",
    "    pbar.set_postfix(loss=loss.item())\n",
    "    # print(\"loss\", loss)\n",
    "    # print(\"point_2d\", point_2d.grad)\n",
    "    # print(\"R grad\", r.grad)\n",
    "    # print(\"S grad\", s.grad)\n",
    "    # print(\"Color grad\", color.grad)\n",
    "    # print(\"Opacity grad\", opacity.grad)\n",
    "    # print(\"\\n\\n\")\n",
    "print(\"GT image\")\n",
    "plt.imshow(gt_image)\n",
    "plt.show()\n",
    "print(\"Final image\")\n",
    "plt.imshow(output_auto.detach().numpy())\n",
    "plt.show()"
   ]
  },
  {
   "cell_type": "markdown",
   "metadata": {},
   "source": [
    "# Toy Gaussian custom grad example"
   ]
  },
  {
   "cell_type": "code",
   "execution_count": 2,
   "metadata": {},
   "outputs": [
    {
     "data": {
      "image/png": "[encoded data removed]",
      "text/plain": [
       "<Figure size 640x480 with 1 Axes>"
      ]
     },
     "metadata": {},
     "output_type": "display_data"
    },
    {
     "name": "stderr",
     "output_type": "stream",
     "text": [
      "  5%|▌         | 1/20 [00:01<00:22,  1.18s/it, loss=0.0512]"
     ]
    },
    {
     "name": "stdout",
     "output_type": "stream",
     "text": [
      "loss tensor(0.0512, dtype=torch.float64, grad_fn=<MeanBackward0>)\n",
      "point_2d tensor([[-0.0004,  0.0002, -0.1147]])\n",
      "R grad tensor([[ 0.0026, -0.0148, -0.0326, -0.0018]])\n",
      "S grad tensor([[0.6807, 0.3112, 0.0000]])\n",
      "Color grad tensor([0.0532, 0.0532, 0.0532])\n",
      "Opacity grad tensor([0.0482])\n",
      "\n",
      "\n",
      "\n"
     ]
    },
    {
     "name": "stderr",
     "output_type": "stream",
     "text": [
      " 10%|█         | 2/20 [00:02<00:20,  1.13s/it, loss=0.0445]"
     ]
    },
    {
     "name": "stdout",
     "output_type": "stream",
     "text": [
      "loss tensor(0.0445, dtype=torch.float64, grad_fn=<MeanBackward0>)\n",
      "point_2d tensor([[-0.0005,  0.0001, -0.1067]])\n",
      "R grad tensor([[ 0.0036, -0.0179, -0.0358, -0.0106]])\n",
      "S grad tensor([[0.6616, 0.3060, 0.0000]])\n",
      "Color grad tensor([0.0472, 0.0472, 0.0472])\n",
      "Opacity grad tensor([0.0426])\n",
      "\n",
      "\n",
      "\n"
     ]
    },
    {
     "name": "stderr",
     "output_type": "stream",
     "text": [
      " 15%|█▌        | 3/20 [00:03<00:19,  1.13s/it, loss=0.038] "
     ]
    },
    {
     "name": "stdout",
     "output_type": "stream",
     "text": [
      "loss tensor(0.0380, dtype=torch.float64, grad_fn=<MeanBackward0>)\n",
      "point_2d tensor([[-6.3872e-04,  5.3116e-05, -9.7705e-02]])\n",
      "R grad tensor([[ 0.0047, -0.0205, -0.0377, -0.0170]])\n",
      "S grad tensor([[0.6325, 0.2982, 0.0000]])\n",
      "Color grad tensor([0.0413, 0.0413, 0.0413])\n",
      "Opacity grad tensor([0.0372])\n",
      "\n",
      "\n",
      "\n"
     ]
    },
    {
     "name": "stderr",
     "output_type": "stream",
     "text": [
      " 20%|██        | 4/20 [00:04<00:18,  1.15s/it, loss=0.0319]"
     ]
    },
    {
     "name": "stdout",
     "output_type": "stream",
     "text": [
      "loss tensor(0.0319, dtype=torch.float64, grad_fn=<MeanBackward0>)\n",
      "point_2d tensor([[-7.6974e-04, -1.8165e-05, -8.7883e-02]])\n",
      "R grad tensor([[ 0.0059, -0.0226, -0.0382, -0.0226]])\n",
      "S grad tensor([[0.5923, 0.2877, 0.0000]])\n",
      "Color grad tensor([0.0355, 0.0355, 0.0355])\n",
      "Opacity grad tensor([0.0319])\n",
      "\n",
      "\n",
      "\n"
     ]
    },
    {
     "name": "stderr",
     "output_type": "stream",
     "text": [
      " 25%|██▌       | 5/20 [00:05<00:16,  1.13s/it, loss=0.0262]"
     ]
    },
    {
     "name": "stdout",
     "output_type": "stream",
     "text": [
      "loss tensor(0.0262, dtype=torch.float64, grad_fn=<MeanBackward0>)\n",
      "point_2d tensor([[-8.8915e-04, -9.1567e-05, -7.7408e-02]])\n",
      "R grad tensor([[ 0.0070, -0.0241, -0.0371, -0.0269]])\n",
      "S grad tensor([[0.5408, 0.2742, 0.0000]])\n",
      "Color grad tensor([0.0300, 0.0300, 0.0300])\n",
      "Opacity grad tensor([0.0268])\n",
      "\n",
      "\n",
      "\n"
     ]
    },
    {
     "name": "stderr",
     "output_type": "stream",
     "text": [
      " 30%|███       | 6/20 [00:06<00:15,  1.12s/it, loss=0.021] "
     ]
    },
    {
     "name": "stdout",
     "output_type": "stream",
     "text": [
      "loss tensor(0.0210, dtype=torch.float64, grad_fn=<MeanBackward0>)\n",
      "point_2d tensor([[-0.0010, -0.0002, -0.0665]])\n",
      "R grad tensor([[ 0.0079, -0.0249, -0.0344, -0.0296]])\n",
      "S grad tensor([[0.4784, 0.2577, 0.0000]])\n",
      "Color grad tensor([0.0248, 0.0248, 0.0248])\n",
      "Opacity grad tensor([0.0221])\n",
      "\n",
      "\n",
      "\n"
     ]
    },
    {
     "name": "stderr",
     "output_type": "stream",
     "text": [
      " 35%|███▌      | 7/20 [00:07<00:14,  1.11s/it, loss=0.0164]"
     ]
    },
    {
     "name": "stdout",
     "output_type": "stream",
     "text": [
      "loss tensor(0.0164, dtype=torch.float64, grad_fn=<MeanBackward0>)\n",
      "point_2d tensor([[-0.0011, -0.0002, -0.0556]])\n",
      "R grad tensor([[ 0.0084, -0.0250, -0.0302, -0.0307]])\n",
      "S grad tensor([[0.4066, 0.2384, 0.0000]])\n",
      "Color grad tensor([0.0200, 0.0200, 0.0200])\n",
      "Opacity grad tensor([0.0178])\n",
      "\n",
      "\n",
      "\n"
     ]
    },
    {
     "name": "stderr",
     "output_type": "stream",
     "text": [
      " 40%|████      | 8/20 [00:09<00:13,  1.13s/it, loss=0.0126]"
     ]
    },
    {
     "name": "stdout",
     "output_type": "stream",
     "text": [
      "loss tensor(0.0126, dtype=torch.float64, grad_fn=<MeanBackward0>)\n",
      "point_2d tensor([[-0.0011, -0.0003, -0.0449]])\n",
      "R grad tensor([[ 0.0085, -0.0244, -0.0249, -0.0299]])\n",
      "S grad tensor([[0.3276, 0.2163, 0.0000]])\n",
      "Color grad tensor([0.0156, 0.0156, 0.0156])\n",
      "Opacity grad tensor([0.0139])\n",
      "\n",
      "\n",
      "\n"
     ]
    },
    {
     "name": "stderr",
     "output_type": "stream",
     "text": [
      " 45%|████▌     | 9/20 [00:10<00:12,  1.12s/it, loss=0.00942]"
     ]
    },
    {
     "name": "stdout",
     "output_type": "stream",
     "text": [
      "loss tensor(0.0094, dtype=torch.float64, grad_fn=<MeanBackward0>)\n",
      "point_2d tensor([[-0.0012, -0.0004, -0.0347]])\n",
      "R grad tensor([[ 0.0082, -0.0231, -0.0186, -0.0275]])\n",
      "S grad tensor([[0.2440, 0.1921, 0.0000]])\n",
      "Color grad tensor([0.0118, 0.0118, 0.0118])\n",
      "Opacity grad tensor([0.0104])\n",
      "\n",
      "\n",
      "\n"
     ]
    },
    {
     "name": "stderr",
     "output_type": "stream",
     "text": [
      " 50%|█████     | 10/20 [00:11<00:11,  1.11s/it, loss=0.00702]"
     ]
    },
    {
     "name": "stdout",
     "output_type": "stream",
     "text": [
      "loss tensor(0.0070, dtype=torch.float64, grad_fn=<MeanBackward0>)\n",
      "point_2d tensor([[-0.0012, -0.0004, -0.0254]])\n",
      "R grad tensor([[ 0.0073, -0.0212, -0.0119, -0.0235]])\n",
      "S grad tensor([[0.1591, 0.1662, 0.0000]])\n",
      "Color grad tensor([0.0085, 0.0085, 0.0085])\n",
      "Opacity grad tensor([0.0075])\n",
      "\n",
      "\n",
      "\n"
     ]
    },
    {
     "name": "stderr",
     "output_type": "stream",
     "text": [
      " 55%|█████▌    | 11/20 [00:12<00:09,  1.10s/it, loss=0.00534]"
     ]
    },
    {
     "name": "stdout",
     "output_type": "stream",
     "text": [
      "loss tensor(0.0053, dtype=torch.float64, grad_fn=<MeanBackward0>)\n",
      "point_2d tensor([[-0.0013, -0.0005, -0.0173]])\n",
      "R grad tensor([[ 0.0059, -0.0188, -0.0053, -0.0184]])\n",
      "S grad tensor([[0.0763, 0.1393, 0.0000]])\n",
      "Color grad tensor([0.0057, 0.0057, 0.0057])\n",
      "Opacity grad tensor([0.0050])\n",
      "\n",
      "\n",
      "\n"
     ]
    },
    {
     "name": "stderr",
     "output_type": "stream",
     "text": [
      " 60%|██████    | 12/20 [00:13<00:08,  1.12s/it, loss=0.00431]"
     ]
    },
    {
     "name": "stdout",
     "output_type": "stream",
     "text": [
      "loss tensor(0.0043, dtype=torch.float64, grad_fn=<MeanBackward0>)\n",
      "point_2d tensor([[-0.0012, -0.0005, -0.0103]])\n",
      "R grad tensor([[ 0.0041, -0.0160,  0.0009, -0.0124]])\n",
      "S grad tensor([[-0.0013,  0.1126,  0.0000]])\n",
      "Color grad tensor([0.0035, 0.0035, 0.0035])\n",
      "Opacity grad tensor([0.0031])\n",
      "\n",
      "\n",
      "\n"
     ]
    },
    {
     "name": "stderr",
     "output_type": "stream",
     "text": [
      " 65%|██████▌   | 13/20 [00:14<00:07,  1.12s/it, loss=0.00381]"
     ]
    },
    {
     "name": "stdout",
     "output_type": "stream",
     "text": [
      "loss tensor(0.0038, dtype=torch.float64, grad_fn=<MeanBackward0>)\n",
      "point_2d tensor([[-0.0012, -0.0005, -0.0046]])\n",
      "R grad tensor([[ 0.0020, -0.0131,  0.0062, -0.0060]])\n",
      "S grad tensor([[-0.0706,  0.0867,  0.0000]])\n",
      "Color grad tensor([0.0018, 0.0018, 0.0018])\n",
      "Opacity grad tensor([0.0016])\n",
      "\n",
      "\n",
      "\n"
     ]
    },
    {
     "name": "stderr",
     "output_type": "stream",
     "text": [
      " 70%|███████   | 14/20 [00:15<00:06,  1.12s/it, loss=0.00373]"
     ]
    },
    {
     "name": "stdout",
     "output_type": "stream",
     "text": [
      "loss tensor(0.0037, dtype=torch.float64, grad_fn=<MeanBackward0>)\n",
      "point_2d tensor([[-1.1992e-03, -5.2755e-04, -8.4452e-05]])\n",
      "R grad tensor([[-0.0002, -0.0101,  0.0105,  0.0003]])\n",
      "S grad tensor([[-0.1293,  0.0625,  0.0000]])\n",
      "Color grad tensor([0.0005, 0.0005, 0.0005])\n",
      "Opacity grad tensor([0.0004])\n",
      "\n",
      "\n",
      "\n"
     ]
    },
    {
     "name": "stderr",
     "output_type": "stream",
     "text": [
      " 75%|███████▌  | 15/20 [00:16<00:05,  1.12s/it, loss=0.00392]"
     ]
    },
    {
     "name": "stdout",
     "output_type": "stream",
     "text": [
      "loss tensor(0.0039, dtype=torch.float64, grad_fn=<MeanBackward0>)\n",
      "point_2d tensor([[-0.0012, -0.0005,  0.0033]])\n",
      "R grad tensor([[-0.0024, -0.0073,  0.0137,  0.0062]])\n",
      "S grad tensor([[-0.1761,  0.0407,  0.0000]])\n",
      "Color grad tensor([-0.0004, -0.0004, -0.0004])\n",
      "Opacity grad tensor([-0.0004])\n",
      "\n",
      "\n",
      "\n"
     ]
    },
    {
     "name": "stderr",
     "output_type": "stream",
     "text": [
      " 80%|████████  | 16/20 [00:18<00:04,  1.15s/it, loss=0.00425]"
     ]
    },
    {
     "name": "stdout",
     "output_type": "stream",
     "text": [
      "loss tensor(0.0042, dtype=torch.float64, grad_fn=<MeanBackward0>)\n",
      "point_2d tensor([[-0.0011, -0.0005,  0.0058]])\n",
      "R grad tensor([[-0.0043, -0.0047,  0.0158,  0.0113]])\n",
      "S grad tensor([[-0.2110,  0.0214,  0.0000]])\n",
      "Color grad tensor([-0.0011, -0.0011, -0.0011])\n",
      "Opacity grad tensor([-0.0009])\n",
      "\n",
      "\n",
      "\n"
     ]
    },
    {
     "name": "stderr",
     "output_type": "stream",
     "text": [
      " 85%|████████▌ | 17/20 [00:19<00:03,  1.14s/it, loss=0.00461]"
     ]
    },
    {
     "name": "stdout",
     "output_type": "stream",
     "text": [
      "loss tensor(0.0046, dtype=torch.float64, grad_fn=<MeanBackward0>)\n",
      "point_2d tensor([[-0.0011, -0.0005,  0.0076]])\n",
      "R grad tensor([[-0.0060, -0.0023,  0.0170,  0.0154]])\n",
      "S grad tensor([[-0.2350,  0.0047,  0.0000]])\n",
      "Color grad tensor([-0.0015, -0.0015, -0.0015])\n",
      "Opacity grad tensor([-0.0013])\n",
      "\n",
      "\n",
      "\n"
     ]
    },
    {
     "name": "stderr",
     "output_type": "stream",
     "text": [
      " 90%|█████████ | 18/20 [00:20<00:02,  1.13s/it, loss=0.00493]"
     ]
    },
    {
     "name": "stdout",
     "output_type": "stream",
     "text": [
      "loss tensor(0.0049, dtype=torch.float64, grad_fn=<MeanBackward0>)\n",
      "point_2d tensor([[-0.0010, -0.0006,  0.0088]])\n",
      "R grad tensor([[-0.0073, -0.0002,  0.0176,  0.0186]])\n",
      "S grad tensor([[-0.2497, -0.0096,  0.0000]])\n",
      "Color grad tensor([-0.0019, -0.0019, -0.0019])\n",
      "Opacity grad tensor([-0.0016])\n",
      "\n",
      "\n",
      "\n"
     ]
    },
    {
     "name": "stderr",
     "output_type": "stream",
     "text": [
      " 95%|█████████▌| 19/20 [00:21<00:01,  1.14s/it, loss=0.00516]"
     ]
    },
    {
     "name": "stdout",
     "output_type": "stream",
     "text": [
      "loss tensor(0.0052, dtype=torch.float64, grad_fn=<MeanBackward0>)\n",
      "point_2d tensor([[-0.0010, -0.0006,  0.0097]])\n",
      "R grad tensor([[-0.0083,  0.0017,  0.0177,  0.0209]])\n",
      "S grad tensor([[-0.2569, -0.0220,  0.0000]])\n",
      "Color grad tensor([-0.0021, -0.0021, -0.0021])\n",
      "Opacity grad tensor([-0.0018])\n",
      "\n",
      "\n",
      "\n"
     ]
    },
    {
     "name": "stderr",
     "output_type": "stream",
     "text": [
      "100%|██████████| 20/20 [00:22<00:00,  1.13s/it, loss=0.00527]"
     ]
    },
    {
     "name": "stdout",
     "output_type": "stream",
     "text": [
      "loss tensor(0.0053, dtype=torch.float64, grad_fn=<MeanBackward0>)\n",
      "point_2d tensor([[-0.0009, -0.0006,  0.0104]])\n",
      "R grad tensor([[-0.0089,  0.0033,  0.0175,  0.0222]])\n",
      "S grad tensor([[-0.2582, -0.0326,  0.0000]])\n",
      "Color grad tensor([-0.0022, -0.0022, -0.0022])\n",
      "Opacity grad tensor([-0.0019])\n",
      "\n",
      "\n",
      "\n",
      "GT image\n"
     ]
    },
    {
     "name": "stderr",
     "output_type": "stream",
     "text": [
      "\n"
     ]
    },
    {
     "data": {
      "image/png": "[encoded data removed]",
      "text/plain": [
       "<Figure size 640x480 with 1 Axes>"
      ]
     },
     "metadata": {},
     "output_type": "display_data"
    },
    {
     "name": "stdout",
     "output_type": "stream",
     "text": [
      "Final image\n"
     ]
    },
    {
     "data": {
      "image/png": "[encoded data removed]",
      "text/plain": [
       "<Figure size 640x480 with 1 Axes>"
      ]
     },
     "metadata": {},
     "output_type": "display_data"
    }
   ],
   "source": [
    "import matplotlib.pyplot as plt\n",
    "import numpy as np\n",
    "import torch\n",
    "from PIL import Image\n",
    "\n",
    "from splat.test.create_image_custom import (\n",
    "    Camera,\n",
    "    Gaussian,\n",
    ")\n",
    "from splat.test.create_image_custom import create_image_full_custom\n",
    "import tqdm\n",
    "torch.autograd.set_detect_anomaly(True)\n",
    "\n",
    "point_2d = torch.tensor([[14, 14, 1]], dtype=torch.float32).requires_grad_(True)\n",
    "r = torch.tensor([[0.5, 0.02, 0.03, 0.001]], dtype=torch.float32).requires_grad_(True)\n",
    "s = torch.tensor([[.1, .15, .2]], dtype=torch.float32).requires_grad_(True)\n",
    "color = torch.tensor([0.8, 0.8, 0.8], dtype=torch.float32).requires_grad_(True)\n",
    "opacity = torch.tensor([0.5], dtype=torch.float32).requires_grad_(True)\n",
    "\n",
    "gaussian = Gaussian(\n",
    "    mean_2d=point_2d, \n",
    "    r=r, \n",
    "    s=s, \n",
    "    color=color, \n",
    "    opacity=opacity\n",
    ")\n",
    "\n",
    "focal_x = torch.tensor([100.0])\n",
    "focal_y = torch.tensor([100.0])\n",
    "width = 32\n",
    "height = 32\n",
    "camera_rotation = torch.tensor([1, 0, 0, 0]).unsqueeze(0)\n",
    "camera_translation = torch.tensor([[-0.1, -0.1, 0.0]])\n",
    "\n",
    "camera = Camera(\n",
    "    focal_x=focal_x,\n",
    "    focal_y=focal_y,\n",
    "    c_x=0.0,\n",
    "    c_y=0.0,\n",
    "    width=width,\n",
    "    height=height,\n",
    "    camera_rotation=camera_rotation,\n",
    "    camera_translation=camera_translation,\n",
    ")\n",
    "gt_image = Image.open(\"gt.png\")\n",
    "gt_image = np.array(gt_image) / 255.0\n",
    "gt_image = torch.tensor(gt_image)\n",
    "\n",
    "output_custom = create_image_full_custom(camera, gaussian, height, width)\n",
    "plt.imshow(output_custom.detach().numpy())\n",
    "plt.show()\n",
    "\n",
    "optimizer = torch.optim.Adam([r, s, point_2d, color, opacity], lr=0.005)\n",
    "\n",
    "pbar = tqdm.tqdm(range(20))\n",
    "for i in pbar:\n",
    "    optimizer.zero_grad()\n",
    "    output_custom = create_image_full_custom(camera, gaussian, height, width)\n",
    "    loss = (output_custom - gt_image).pow(2).mean()\n",
    "    loss.backward()\n",
    "    optimizer.step()\n",
    "    pbar.set_postfix(loss=loss.item())\n",
    "    # print(\"loss\", loss)\n",
    "    # print(\"point_2d\", point_2d.grad)\n",
    "    # print(\"R grad\", r.grad)\n",
    "    # print(\"S grad\", s.grad)\n",
    "    # print(\"Color grad\", color.grad)\n",
    "    # print(\"Opacity grad\", opacity.grad)\n",
    "    print(\"\\n\\n\")\n",
    "print(\"GT image\")\n",
    "plt.imshow(gt_image)\n",
    "plt.show()\n",
    "print(\"Final image\")\n",
    "plt.imshow(output_auto.detach().numpy())\n",
    "plt.show()"
   ]
  }
 ],
 "metadata": {
  "kernelspec": {
   "display_name": ".venv",
   "language": "python",
   "name": "python3"
  },
  "language_info": {
   "codemirror_mode": {
    "name": "ipython",
    "version": 3
   },
   "file_extension": ".py",
   "mimetype": "text/x-python",
   "name": "python",
   "nbconvert_exporter": "python",
   "pygments_lexer": "ipython3",
   "version": "3.10.14"
  }
 },
 "nbformat": 4,
 "nbformat_minor": 2
}
