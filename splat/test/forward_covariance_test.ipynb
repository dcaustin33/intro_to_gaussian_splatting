{
 "cells": [
  {
   "cell_type": "markdown",
   "metadata": {},
   "source": [
    "# My grad example"
   ]
  },
  {
   "cell_type": "code",
   "execution_count": 1,
   "metadata": {},
   "outputs": [
    {
     "name": "stdout",
     "output_type": "stream",
     "text": [
      "output tensor([[[-7.2991, 19.6675],\n",
      "         [11.1833, -6.9848]]], dtype=torch.float64,\n",
      "       grad_fn=<invert_2x2_matrixBackward>)\n",
      "tensor([[ 4.6789, -0.9452,  2.2097,  2.2289]], dtype=torch.float64)\n",
      "tensor([[-88.9044,   2.8786, -20.5994]], dtype=torch.float64)\n"
     ]
    },
    {
     "data": {
      "text/plain": [
       "True"
      ]
     },
     "execution_count": 1,
     "metadata": {},
     "output_type": "execute_result"
    }
   ],
   "source": [
    "import torch\n",
    "from torch.autograd import gradcheck\n",
    "\n",
    "import splat.test.checked_covariance_derivatives as derivatives\n",
    "\n",
    "seed = torch.randint(0, 1000000, (1,))\n",
    "torch.manual_seed(seed)\n",
    "r = torch.randn(1, 4, requires_grad=True, dtype=torch.float64)\n",
    "s = torch.randn(1, 3, requires_grad=True, dtype=torch.float64)\n",
    "u = torch.randn(3, 3, requires_grad=False, dtype=torch.float64)\n",
    "# print(r)\n",
    "# print(s)\n",
    "# print(u)\n",
    "\n",
    "output = derivatives.r_s_to_cov_2d(r, s, u)\n",
    "print(\"output\", output)\n",
    "\n",
    "loss_my_grad = output.sum()\n",
    "\n",
    "loss_my_grad.backward()\n",
    "\n",
    "print(r.grad)\n",
    "print(s.grad)\n",
    "\n",
    "gradcheck(derivatives.r_s_to_cov_2d, (r, s, u))"
   ]
  },
  {
   "cell_type": "markdown",
   "metadata": {},
   "source": [
    "# Auto grad example"
   ]
  },
  {
   "cell_type": "code",
   "execution_count": 2,
   "metadata": {},
   "outputs": [
    {
     "name": "stdout",
     "output_type": "stream",
     "text": [
      "output tensor([[[-7.2991, 19.6675],\n",
      "         [11.1833, -6.9848]]], dtype=torch.float64, grad_fn=<CopySlices>)\n",
      "tensor([[ 4.6789, -0.9452,  2.2097,  2.2289]], dtype=torch.float64)\n",
      "tensor([[-88.9044,   2.8786, -20.5994]], dtype=torch.float64)\n"
     ]
    }
   ],
   "source": [
    "import torch\n",
    "\n",
    "import splat.test.auto_functions as auto_functions\n",
    "\n",
    "torch.manual_seed(seed)\n",
    "r = torch.randn(1, 4, requires_grad=True, dtype=torch.float64)\n",
    "s = torch.randn(1, 3, requires_grad=True, dtype=torch.float64)\n",
    "u = torch.randn(3, 3, requires_grad=True, dtype=torch.float64)\n",
    "# print(r)\n",
    "# print(s)\n",
    "# print(u)\n",
    "\n",
    "output = auto_functions.r_s_to_cov_2d_auto(r, s, u)\n",
    "print(\"output\", output)\n",
    "\n",
    "loss_auto_grad = output.sum()\n",
    "loss_auto_grad.backward()\n",
    "\n",
    "print(r.grad)\n",
    "print(s.grad)"
   ]
  },
  {
   "cell_type": "markdown",
   "metadata": {},
   "source": [
    "# Toy gaussian example auto example"
   ]
  },
  {
   "cell_type": "code",
   "execution_count": 3,
   "metadata": {},
   "outputs": [
    {
     "name": "stdout",
     "output_type": "stream",
     "text": [
      "r_s_to_cov_2d tensor([[[0.0100, -0.0000],\n",
      "         [-0.0000, 0.0100]]], grad_fn=<CopySlices>)\n"
     ]
    },
    {
     "data": {
      "text/plain": [
       "<matplotlib.image.AxesImage at 0x105258f10>"
      ]
     },
     "execution_count": 3,
     "metadata": {},
     "output_type": "execute_result"
    },
    {
     "data": {
      "image/png": "[encoded data removed]",
      "text/plain": [
       "<Figure size 640x480 with 1 Axes>"
      ]
     },
     "metadata": {},
     "output_type": "display_data"
    }
   ],
   "source": [
    "import matplotlib.pyplot as plt\n",
    "import numpy as np\n",
    "import torch\n",
    "from PIL import Image\n",
    "\n",
    "from splat.test.create_image_auto import (\n",
    "    Camera, Gaussian_Covariance_Test, create_image_covariance_test_auto\n",
    ")\n",
    "\n",
    "torch.autograd.set_detect_anomaly(True)\n",
    "\n",
    "point_2d = torch.tensor([[16, 16, 1]], dtype=torch.float32).requires_grad_(False)\n",
    "r = torch.tensor([[1, 0, 0, 0]], dtype=torch.float32).requires_grad_(True)\n",
    "s = torch.tensor([[.1, .1, .1]], dtype=torch.float32).requires_grad_(True)\n",
    "color = torch.tensor([0.8, 0.8, 0.8], dtype=torch.float32).requires_grad_(False)\n",
    "opacity = torch.tensor([0.5], dtype=torch.float32).requires_grad_(False)\n",
    "\n",
    "gaussian = Gaussian_Covariance_Test(\n",
    "    mean_2d=point_2d, \n",
    "    r=r, \n",
    "    s=s, \n",
    "    color=color, \n",
    "    opacity=opacity\n",
    ")\n",
    "\n",
    "focal_x = torch.tensor([100.0])\n",
    "focal_y = torch.tensor([100.0])\n",
    "width = 32\n",
    "height = 32\n",
    "camera_rotation = torch.tensor([1, 0, 0, 0]).unsqueeze(0)\n",
    "camera_translation = torch.tensor([[-0.1, -0.1, 0.0]])\n",
    "\n",
    "camera = Camera(\n",
    "    focal_x=focal_x,\n",
    "    focal_y=focal_y,\n",
    "    c_x=0.0,\n",
    "    c_y=0.0,\n",
    "    width=width,\n",
    "    height=height,\n",
    "    camera_rotation=camera_rotation,\n",
    "    camera_translation=camera_translation,\n",
    ")\n",
    "gt_image = Image.open(\"gt.png\")\n",
    "gt_image = np.array(gt_image) / 255.0\n",
    "\n",
    "output_auto = create_image_covariance_test_auto(camera, gaussian, height, width)\n",
    "plt.imshow(output_auto.detach().numpy())"
   ]
  },
  {
   "cell_type": "markdown",
   "metadata": {},
   "source": [
    "# Toy gaussian custom example"
   ]
  },
  {
   "cell_type": "code",
   "execution_count": 4,
   "metadata": {},
   "outputs": [
    {
     "data": {
      "text/plain": [
       "<matplotlib.image.AxesImage at 0x16d39d8a0>"
      ]
     },
     "execution_count": 4,
     "metadata": {},
     "output_type": "execute_result"
    },
    {
     "data": {
      "image/png": "[encoded data removed]",
      "text/plain": [
       "<Figure size 640x480 with 1 Axes>"
      ]
     },
     "metadata": {},
     "output_type": "display_data"
    }
   ],
   "source": [
    "import matplotlib.pyplot as plt\n",
    "import numpy as np\n",
    "import torch\n",
    "from PIL import Image\n",
    "\n",
    "from splat.test.create_image_auto import (\n",
    "    Camera, Gaussian_Covariance_Test\n",
    ")\n",
    "from splat.test.create_image_custom import (\n",
    "    create_image_covariance_test\n",
    ")\n",
    "torch.autograd.set_detect_anomaly(True)\n",
    "\n",
    "point_2d = torch.tensor([[16, 16, 1]], dtype=torch.float32).requires_grad_(False)\n",
    "r = torch.tensor([[1, 0, 0, 0]], dtype=torch.float32).requires_grad_(True)\n",
    "s = torch.tensor([[.1, .1, .1]], dtype=torch.float32).requires_grad_(True)\n",
    "color = torch.tensor([0.8, 0.8, 0.8], dtype=torch.float32).requires_grad_(False)\n",
    "opacity = torch.tensor([0.5], dtype=torch.float32).requires_grad_(False)\n",
    "\n",
    "gaussian = Gaussian_Covariance_Test(\n",
    "    mean_2d=point_2d, \n",
    "    r=r, \n",
    "    s=s, \n",
    "    color=color, \n",
    "    opacity=opacity\n",
    ")\n",
    "\n",
    "focal_x = torch.tensor([100.0])\n",
    "focal_y = torch.tensor([100.0])\n",
    "width = 32\n",
    "height = 32\n",
    "camera_rotation = torch.tensor([1, 0, 0, 0]).unsqueeze(0)\n",
    "camera_translation = torch.tensor([[-0.1, -0.1, 0.0]])\n",
    "\n",
    "camera = Camera(\n",
    "    focal_x=focal_x,\n",
    "    focal_y=focal_y,\n",
    "    c_x=0.0,\n",
    "    c_y=0.0,\n",
    "    width=width,\n",
    "    height=height,\n",
    "    camera_rotation=camera_rotation,\n",
    "    camera_translation=camera_translation,\n",
    ")\n",
    "gt_image = Image.open(\"gt.png\")\n",
    "gt_image = np.array(gt_image) / 255.0\n",
    "\n",
    "output_custom = create_image_covariance_test(camera, gaussian, height, width)\n",
    "plt.imshow(output.detach().numpy())"
   ]
  }
 ],
 "metadata": {
  "kernelspec": {
   "display_name": ".venv",
   "language": "python",
   "name": "python3"
  },
  "language_info": {
   "codemirror_mode": {
    "name": "ipython",
    "version": 3
   },
   "file_extension": ".py",
   "mimetype": "text/x-python",
   "name": "python",
   "nbconvert_exporter": "python",
   "pygments_lexer": "ipython3",
   "version": "3.10.14"
  }
 },
 "nbformat": 4,
 "nbformat_minor": 2
}
