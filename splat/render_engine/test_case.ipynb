{
 "cells": [
  {
   "cell_type": "code",
   "execution_count": 1,
   "metadata": {},
   "outputs": [
    {
     "name": "stderr",
     "output_type": "stream",
     "text": [
      "/var/folders/s3/bqcdtp2s6652tsxqm4hhv4gr0000gn/T/ipykernel_29795/823832121.py:30: UserWarning: Creating a tensor from a list of numpy.ndarrays is extremely slow. Please consider converting the list to a single numpy.ndarray with numpy.array() before converting to a tensor. (Triggered internally at /Users/runner/work/pytorch/pytorch/pytorch/torch/csrc/utils/tensor_new.cpp:278.)\n",
      "  torch.Tensor(all_points3d),\n"
     ]
    }
   ],
   "source": [
    "import numpy as np\n",
    "import pycolmap\n",
    "import torch\n",
    "import torch.nn as nn\n",
    "\n",
    "from splat.gaussians import Gaussians\n",
    "from splat.utils import read_images_binary, read_images_text\n",
    "\n",
    "stem = \"/Users/derek/Desktop/intro_to_gaussian_splatting\"\n",
    "# stem = \"/home/da2986/intro_to_gaussian_splatting\"\n",
    "\n",
    "\n",
    "colmap_path = f\"{stem}/data/treehill/sparse/0\"\n",
    "reconstruction = pycolmap.Reconstruction(colmap_path)\n",
    "\n",
    "points3d = reconstruction.points3D\n",
    "images = read_images_binary(f\"{colmap_path}/images.bin\")\n",
    "cameras = reconstruction.cameras\n",
    "\n",
    "all_points3d = []\n",
    "all_point_colors = []\n",
    "\n",
    "\n",
    "for idx, point in enumerate(points3d.values()):\n",
    "    if point.track.length() >= 2:\n",
    "        all_points3d.append(point.xyz)\n",
    "        all_point_colors.append(point.color)\n",
    "\n",
    "gaussians = Gaussians(\n",
    "    torch.Tensor(all_points3d),\n",
    "    torch.Tensor(all_point_colors),\n",
    "    model_path=f\"{stem}/data/point_clouds\",\n",
    ")"
   ]
  },
  {
   "cell_type": "code",
   "execution_count": 2,
   "metadata": {},
   "outputs": [],
   "source": [
    "from splat.image import GaussianImage\n",
    "from splat.render_engine.gaussianScene2 import GaussianScene2\n",
    "from splat.utils import (\n",
    "    build_rotation,\n",
    "    get_extrinsic_matrix,\n",
    "    getIntinsicMatrix,\n",
    "    read_camera_file,\n",
    "    read_image_file,\n",
    ")\n",
    "\n",
    "camera_dict = read_camera_file(colmap_path)\n",
    "image_dict = read_image_file(colmap_path)\n",
    "images = {}\n",
    "for idx in image_dict.keys():\n",
    "    image = image_dict[idx]\n",
    "    camera = camera_dict[image.camera_id]\n",
    "    image = GaussianImage(camera=camera, image=image)\n",
    "    images[idx] = image\n",
    "\n",
    "\n",
    "image_num = 100\n",
    "rotation_matrix = build_rotation(torch.Tensor(image_dict[image_num].qvec).unsqueeze(0))\n",
    "translation = torch.Tensor(image_dict[image_num].tvec).unsqueeze(0)\n",
    "extrinsic_matrix = get_extrinsic_matrix(rotation_matrix, translation).T\n",
    "focal_x, focal_y = camera_dict[image_dict[image_num].camera_id].params[:2]\n",
    "c_x, c_y = camera_dict[image_dict[image_num].camera_id].params[2:4]\n",
    "width = camera_dict[image_dict[image_num].camera_id].width\n",
    "wdith = 1000\n",
    "height = camera_dict[image_dict[image_num].camera_id].height\n",
    "height = 750\n",
    "intrinsic_matrix = getIntinsicMatrix(focal_x, focal_y, height, width).T\n",
    "\n",
    "\n",
    "\n",
    "scene = GaussianScene2(gaussians=gaussians)\n",
    "scene.device = \"cpu\"\n",
    "TILE_SIZE = 16"
   ]
  },
  {
   "cell_type": "code",
   "execution_count": 3,
   "metadata": {},
   "outputs": [
    {
     "name": "stdout",
     "output_type": "stream",
     "text": [
      "starting sum\n",
      "ending sum\n"
     ]
    },
    {
     "name": "stderr",
     "output_type": "stream",
     "text": [
      "  0%|          | 0/3 [00:00<?, ?it/s]"
     ]
    },
    {
     "name": "stdout",
     "output_type": "stream",
     "text": [
      "> \u001b[0;32m/Users/derek/Desktop/intro_to_gaussian_splatting/splat/utils.py\u001b[0m(92)\u001b[0;36mextract_gaussian_weight\u001b[0;34m()\u001b[0m\n",
      "\u001b[0;32m     90 \u001b[0;31m    \u001b[0;32mif\u001b[0m \u001b[0mpdb\u001b[0m\u001b[0;34m:\u001b[0m\u001b[0;34m\u001b[0m\u001b[0;34m\u001b[0m\u001b[0m\n",
      "\u001b[0m\u001b[0;32m     91 \u001b[0;31m        \u001b[0;32mimport\u001b[0m \u001b[0mpdb\u001b[0m\u001b[0;34m;\u001b[0m \u001b[0mpdb\u001b[0m\u001b[0;34m.\u001b[0m\u001b[0mset_trace\u001b[0m\u001b[0;34m(\u001b[0m\u001b[0;34m)\u001b[0m\u001b[0;34m\u001b[0m\u001b[0;34m\u001b[0m\u001b[0m\n",
      "\u001b[0m\u001b[0;32m---> 92 \u001b[0;31m    \u001b[0;32mreturn\u001b[0m \u001b[0mtorch\u001b[0m\u001b[0;34m.\u001b[0m\u001b[0mexp\u001b[0m\u001b[0;34m(\u001b[0m\u001b[0;34m-\u001b[0m\u001b[0;36m0.5\u001b[0m \u001b[0;34m*\u001b[0m \u001b[0mtorch\u001b[0m\u001b[0;34m.\u001b[0m\u001b[0mmatmul\u001b[0m\u001b[0;34m(\u001b[0m\u001b[0mdiff\u001b[0m\u001b[0;34m,\u001b[0m \u001b[0mtorch\u001b[0m\u001b[0;34m.\u001b[0m\u001b[0mmatmul\u001b[0m\u001b[0;34m(\u001b[0m\u001b[0minv_covariance\u001b[0m\u001b[0;34m,\u001b[0m \u001b[0mdiff\u001b[0m\u001b[0;34m.\u001b[0m\u001b[0mt\u001b[0m\u001b[0;34m(\u001b[0m\u001b[0;34m)\u001b[0m\u001b[0;34m)\u001b[0m\u001b[0;34m)\u001b[0m\u001b[0;34m)\u001b[0m\u001b[0;34m\u001b[0m\u001b[0;34m\u001b[0m\u001b[0m\n",
      "\u001b[0m\u001b[0;32m     93 \u001b[0;31m\u001b[0;34m\u001b[0m\u001b[0m\n",
      "\u001b[0m\u001b[0;32m     94 \u001b[0;31m\u001b[0;34m\u001b[0m\u001b[0m\n",
      "\u001b[0m\n",
      "tensor([0., 0.])\n",
      "tensor(0.)\n",
      "*** TypeError: exp(): argument 'input' (position 1) must be Tensor, not float\n",
      "tensor([[4., 2.],\n",
      "        [2., 4.]])\n"
     ]
    },
    {
     "name": "stderr",
     "output_type": "stream",
     "text": [
      "  0%|          | 0/3 [03:03<?, ?it/s]\n"
     ]
    }
   ],
   "source": [
    "import torch\n",
    "\n",
    "height = 750\n",
    "width = 1000\n",
    "\n",
    "\n",
    "with torch.no_grad():\n",
    "    output_image = scene.render(\n",
    "        preprocessed_gaussians=None, height=height, width=width, tile_size=TILE_SIZE, test=True\n",
    "    )\n",
    "    \n",
    "import matplotlib.pyplot as plt\n",
    "plt.imshow(output_image)\n",
    "plt.show()"
   ]
  },
  {
   "cell_type": "code",
   "execution_count": 5,
   "metadata": {},
   "outputs": [
    {
     "name": "stdout",
     "output_type": "stream",
     "text": [
      "starting sum\n",
      "ending sum\n",
      "tensor(3, device='cuda:0') 3\n",
      "1 1\n",
      "cuda:0\n",
      "Starting render\n",
      "> \u001b[0;32m/home/da2986/intro_to_gaussian_splatting/splat/render_engine/gaussianScene2.py\u001b[0m(468)\u001b[0;36mrender_cuda\u001b[0;34m()\u001b[0m\n",
      "\u001b[0;32m    466 \u001b[0;31m        \u001b[0;32mimport\u001b[0m \u001b[0mpdb\u001b[0m\u001b[0;34m;\u001b[0m \u001b[0mpdb\u001b[0m\u001b[0;34m.\u001b[0m\u001b[0mset_trace\u001b[0m\u001b[0;34m(\u001b[0m\u001b[0;34m)\u001b[0m\u001b[0;34m\u001b[0m\u001b[0;34m\u001b[0m\u001b[0m\n",
      "\u001b[0m\u001b[0;32m    467 \u001b[0;31m\u001b[0;34m\u001b[0m\u001b[0m\n",
      "\u001b[0m\u001b[0;32m--> 468 \u001b[0;31m        image = render_tile_cuda.render_tile_cuda(\n",
      "\u001b[0m\u001b[0;32m    469 \u001b[0;31m            \u001b[0mtile_size\u001b[0m\u001b[0;34m,\u001b[0m\u001b[0;34m\u001b[0m\u001b[0;34m\u001b[0m\u001b[0m\n",
      "\u001b[0m\u001b[0;32m    470 \u001b[0;31m            \u001b[0mpreprocessed_gaussians\u001b[0m\u001b[0;34m.\u001b[0m\u001b[0mmeans_3d\u001b[0m\u001b[0;34m.\u001b[0m\u001b[0mcontiguous\u001b[0m\u001b[0;34m(\u001b[0m\u001b[0;34m)\u001b[0m\u001b[0;34m,\u001b[0m\u001b[0;34m\u001b[0m\u001b[0;34m\u001b[0m\u001b[0m\n",
      "\u001b[0m\n",
      "Number of elements in image tensor: 48\n"
     ]
    },
    {
     "data": {
      "image/png": "[encoded data removed]",
      "text/plain": [
       "<Figure size 640x480 with 1 Axes>"
      ]
     },
     "metadata": {},
     "output_type": "display_data"
    }
   ],
   "source": [
    "import torch\n",
    "\n",
    "height = 750\n",
    "width = 1000\n",
    "\n",
    "scene.device = \"cuda\"\n",
    "with torch.no_grad():\n",
    "    output_image = scene.render_cuda(\n",
    "        preprocessed_gaussians=None, height=height, width=width, tile_size=TILE_SIZE, test=True\n",
    "    )\n",
    "    \n",
    "import matplotlib.pyplot as plt\n",
    "plt.imshow(output_image.cpu().numpy())\n",
    "plt.show()"
   ]
  }
 ],
 "metadata": {
  "kernelspec": {
   "display_name": ".venv",
   "language": "python",
   "name": "python3"
  },
  "language_info": {
   "codemirror_mode": {
    "name": "ipython",
    "version": 3
   },
   "file_extension": ".py",
   "mimetype": "text/x-python",
   "name": "python",
   "nbconvert_exporter": "python",
   "pygments_lexer": "ipython3",
   "version": "3.10.14"
  }
 },
 "nbformat": 4,
 "nbformat_minor": 2
}
