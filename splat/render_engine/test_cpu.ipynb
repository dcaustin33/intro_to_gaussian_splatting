{
 "cells": [
  {
   "cell_type": "code",
   "execution_count": 6,
   "metadata": {},
   "outputs": [],
   "source": [
    "import numpy as np\n",
    "import pycolmap\n",
    "import torch\n",
    "import torch.nn as nn\n",
    "\n",
    "from splat.gaussians import Gaussians\n",
    "from splat.utils import read_images_binary, read_images_text\n",
    "\n",
    "stem = \"/Users/derek/Desktop/intro_to_gaussian_splatting\"\n",
    "# stem = \"/home/da2986/intro_to_gaussian_splatting\"\n",
    "\n",
    "\n",
    "colmap_path = f\"{stem}/data/treehill/sparse/0\"\n",
    "reconstruction = pycolmap.Reconstruction(colmap_path)\n",
    "\n",
    "points3d = reconstruction.points3D\n",
    "images = read_images_binary(f\"{colmap_path}/images.bin\")\n",
    "cameras = reconstruction.cameras\n",
    "\n",
    "all_points3d = []\n",
    "all_point_colors = []\n",
    "\n",
    "\n",
    "for idx, point in enumerate(points3d.values()):\n",
    "    if point.track.length() >= 2:\n",
    "        all_points3d.append(point.xyz)\n",
    "        all_point_colors.append(point.color)\n",
    "\n",
    "gaussians = Gaussians(\n",
    "    torch.Tensor(all_points3d),\n",
    "    torch.Tensor(all_point_colors),\n",
    "    model_path=f\"{stem}/data/point_clouds\",\n",
    ")"
   ]
  },
  {
   "cell_type": "code",
   "execution_count": 7,
   "metadata": {},
   "outputs": [],
   "source": [
    "from splat.image import GaussianImage\n",
    "from splat.utils import (\n",
    "    build_rotation,\n",
    "    get_extrinsic_matrix,\n",
    "    getIntinsicMatrix,\n",
    "    read_camera_file,\n",
    "    read_image_file,\n",
    ")\n",
    "\n",
    "camera_dict = read_camera_file(colmap_path)\n",
    "image_dict = read_image_file(colmap_path)\n",
    "images = {}\n",
    "for idx in image_dict.keys():\n",
    "    image = image_dict[idx]\n",
    "    camera = camera_dict[image.camera_id]\n",
    "    image = GaussianImage(camera=camera, image=image)\n",
    "    images[idx] = image\n",
    "\n",
    "\n",
    "image_num = 100\n",
    "rotation_matrix = build_rotation(torch.Tensor(image_dict[image_num].qvec).unsqueeze(0))\n",
    "translation = torch.Tensor(image_dict[image_num].tvec).unsqueeze(0)\n",
    "extrinsic_matrix = get_extrinsic_matrix(rotation_matrix, translation).T\n",
    "focal_x, focal_y = camera_dict[image_dict[image_num].camera_id].params[:2]\n",
    "c_x, c_y = camera_dict[image_dict[image_num].camera_id].params[2:4]\n",
    "width = camera_dict[image_dict[image_num].camera_id].width\n",
    "wdith = 1000\n",
    "height = camera_dict[image_dict[image_num].camera_id].height\n",
    "height = 750\n",
    "intrinsic_matrix = getIntinsicMatrix(focal_x, focal_y, height, width).T"
   ]
  },
  {
   "cell_type": "code",
   "execution_count": 8,
   "metadata": {},
   "outputs": [],
   "source": [
    "from splat.render_engine.gaussianScene2 import GaussianScene2\n",
    "\n",
    "scene = GaussianScene2(gaussians=gaussians)\n",
    "scene.device = \"cpu\"\n",
    "TILE_SIZE = 16"
   ]
  },
  {
   "cell_type": "code",
   "execution_count": 9,
   "metadata": {},
   "outputs": [
    {
     "name": "stdout",
     "output_type": "stream",
     "text": [
      "torch.Size([2, 5682]) torch.Size([2, 5682])\n"
     ]
    }
   ],
   "source": [
    "processed_gaussians = scene.preprocess(\n",
    "    extrinsic_matrix=extrinsic_matrix,\n",
    "    intrinsic_matrix=intrinsic_matrix,\n",
    "    focal_x=focal_x,\n",
    "    focal_y=focal_y,\n",
    "    width=width,\n",
    "    height=height,\n",
    "    \n",
    "    tile_size=TILE_SIZE\n",
    ")"
   ]
  },
  {
   "cell_type": "code",
   "execution_count": 6,
   "metadata": {},
   "outputs": [
    {
     "name": "stdout",
     "output_type": "stream",
     "text": [
      "starting sum\n",
      "ending sum\n"
     ]
    },
    {
     "name": "stderr",
     "output_type": "stream",
     "text": [
      "100%|██████████| 35168/35168 [00:00<00:00, 93282.62it/s]\n"
     ]
    },
    {
     "name": "stdout",
     "output_type": "stream",
     "text": [
      "156 31\n"
     ]
    },
    {
     "name": "stderr",
     "output_type": "stream",
     "text": [
      " 66%|██████▋   | 23376/35168 [00:00<00:00, 67464.04it/s]"
     ]
    },
    {
     "name": "stdout",
     "output_type": "stream",
     "text": [
      "x_value: 2500, y_value: 500, gaussian_strength: 0.0017302853520959616, alpha: tensor([0.0017]), test_t: tensor([0.9983]), mean_2d: tensor([2513.1323,  512.9888])\n",
      "x_value: 2500, y_value: 500, gaussian_strength: 0.0027158588636666536, alpha: tensor([0.0027]), test_t: tensor([0.9956]), mean_2d: tensor([2492.6787,  516.1900])\n",
      "x_value: 2500, y_value: 500, gaussian_strength: 9.859375859377906e-05, alpha: tensor([9.8584e-05]), test_t: tensor([0.9955]), mean_2d: tensor([2512.4011,  524.4392])\n",
      "x_value: 2500, y_value: 500, gaussian_strength: 1.159387963411973e-07, alpha: tensor([1.1593e-07]), test_t: tensor([0.9955]), mean_2d: tensor([2529.3064,  521.1459])\n"
     ]
    },
    {
     "name": "stderr",
     "output_type": "stream",
     "text": [
      "100%|██████████| 35168/35168 [00:00<00:00, 70714.60it/s]\n"
     ]
    }
   ],
   "source": [
    "height = 3400\n",
    "width = 5100\n",
    "with torch.no_grad():\n",
    "    output_image = scene.render(\n",
    "        preprocessed_gaussians=processed_gaussians, height=height, width=width, tile_size=TILE_SIZE\n",
    "    )"
   ]
  },
  {
   "cell_type": "code",
   "execution_count": 7,
   "metadata": {},
   "outputs": [
    {
     "data": {
      "text/plain": [
       "tensor([0.0010, 0.0008, 0.0006])"
      ]
     },
     "execution_count": 7,
     "metadata": {},
     "output_type": "execute_result"
    }
   ],
   "source": [
    "output_image[500, 2500]"
   ]
  },
  {
   "cell_type": "code",
   "execution_count": 8,
   "metadata": {},
   "outputs": [
    {
     "data": {
      "image/png": "[encoded data removed]",
      "text/plain": [
       "<Figure size 640x480 with 1 Axes>"
      ]
     },
     "metadata": {},
     "output_type": "display_data"
    }
   ],
   "source": [
    "import matplotlib.pyplot as plt\n",
    "\n",
    "plt.imshow(output_image[450: 550, 2450: 2550].cpu().detach())\n",
    "plt.show()"
   ]
  }
 ],
 "metadata": {
  "kernelspec": {
   "display_name": ".venv",
   "language": "python",
   "name": "python3"
  },
  "language_info": {
   "codemirror_mode": {
    "name": "ipython",
    "version": 3
   },
   "file_extension": ".py",
   "mimetype": "text/x-python",
   "name": "python",
   "nbconvert_exporter": "python",
   "pygments_lexer": "ipython3",
   "version": "3.10.14"
  }
 },
 "nbformat": 4,
 "nbformat_minor": 2
}
