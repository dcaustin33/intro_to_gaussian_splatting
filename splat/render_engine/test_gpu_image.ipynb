{
 "cells": [
  {
   "cell_type": "code",
   "execution_count": 1,
   "metadata": {},
   "outputs": [
    {
     "name": "stdout",
     "output_type": "stream",
     "text": [
      "Vertex Count: 2399849\n",
      "Properties: [('float', 'x'), ('float', 'y'), ('float', 'z'), ('float', 'nx'), ('float', 'ny'), ('float', 'nz'), ('float', 'f_dc_0'), ('float', 'f_dc_1'), ('float', 'f_dc_2'), ('float', 'f_rest_0'), ('float', 'f_rest_1'), ('float', 'f_rest_2'), ('float', 'f_rest_3'), ('float', 'f_rest_4'), ('float', 'f_rest_5'), ('float', 'f_rest_6'), ('float', 'f_rest_7'), ('float', 'f_rest_8'), ('float', 'f_rest_9'), ('float', 'f_rest_10'), ('float', 'f_rest_11'), ('float', 'f_rest_12'), ('float', 'f_rest_13'), ('float', 'f_rest_14'), ('float', 'f_rest_15'), ('float', 'f_rest_16'), ('float', 'f_rest_17'), ('float', 'f_rest_18'), ('float', 'f_rest_19'), ('float', 'f_rest_20'), ('float', 'f_rest_21'), ('float', 'f_rest_22'), ('float', 'f_rest_23'), ('float', 'f_rest_24'), ('float', 'f_rest_25'), ('float', 'f_rest_26'), ('float', 'f_rest_27'), ('float', 'f_rest_28'), ('float', 'f_rest_29'), ('float', 'f_rest_30'), ('float', 'f_rest_31'), ('float', 'f_rest_32'), ('float', 'f_rest_33'), ('float', 'f_rest_34'), ('float', 'f_rest_35'), ('float', 'f_rest_36'), ('float', 'f_rest_37'), ('float', 'f_rest_38'), ('float', 'f_rest_39'), ('float', 'f_rest_40'), ('float', 'f_rest_41'), ('float', 'f_rest_42'), ('float', 'f_rest_43'), ('float', 'f_rest_44'), ('float', 'opacity'), ('float', 'scale_0'), ('float', 'scale_1'), ('float', 'scale_2'), ('float', 'rot_0'), ('float', 'rot_1'), ('float', 'rot_2'), ('float', 'rot_3')]\n"
     ]
    },
    {
     "name": "stderr",
     "output_type": "stream",
     "text": [
      "100%|██████████| 2399849/2399849 [00:24<00:00, 99239.07it/s] \n"
     ]
    },
    {
     "name": "stdout",
     "output_type": "stream",
     "text": [
      "[-1.1610279083251953, -1.2550954818725586, -1.4310321807861328]\n",
      "tensor([0.1725, 0.1459, 0.0963])\n"
     ]
    }
   ],
   "source": [
    "import numpy as np\n",
    "import pycolmap\n",
    "import torch\n",
    "import torch.nn as nn\n",
    "\n",
    "from splat.gaussians import Gaussians\n",
    "from splat.read_utils.read_gs_ply_files import convert_to_gaussian_schema, read_ply_file\n",
    "from splat.utils import read_images_binary, read_images_text\n",
    "\n",
    "# stem = \"/Users/derek/Desktop/intro_to_gaussian_splatting\"\n",
    "stem = \"/home/da2986/intro_to_gaussian_splatting\"\n",
    "\n",
    "# models_path = \"/Users/derek/Downloads/models/\"\n",
    "models_path = \"/home/da2986/intro_to_gaussian_splatting/models\"\n",
    "ply_path = f\"{models_path}/treehill/point_cloud/iteration_7000/point_cloud.ply\"\n",
    "vertices = read_ply_file(ply_path)\n",
    "gaussians = convert_to_gaussian_schema(vertices)\n",
    "\n",
    "colmap_path = f\"{stem}/data/treehill/sparse/0\"\n",
    "reconstruction = pycolmap.Reconstruction(colmap_path)\n",
    "\n",
    "points3d = reconstruction.points3D\n",
    "images = read_images_binary(f\"{colmap_path}/images.bin\")\n",
    "cameras = reconstruction.cameras"
   ]
  },
  {
   "cell_type": "code",
   "execution_count": 5,
   "metadata": {},
   "outputs": [
    {
     "ename": "NameError",
     "evalue": "name 'colmap_path' is not defined",
     "output_type": "error",
     "traceback": [
      "\u001b[0;31m---------------------------------------------------------------------------\u001b[0m",
      "\u001b[0;31mNameError\u001b[0m                                 Traceback (most recent call last)",
      "Cell \u001b[0;32mIn[5], line 10\u001b[0m\n\u001b[1;32m      1\u001b[0m \u001b[38;5;28;01mfrom\u001b[39;00m \u001b[38;5;21;01msplat\u001b[39;00m\u001b[38;5;21;01m.\u001b[39;00m\u001b[38;5;21;01mimage\u001b[39;00m \u001b[38;5;28;01mimport\u001b[39;00m GaussianImage\n\u001b[1;32m      2\u001b[0m \u001b[38;5;28;01mfrom\u001b[39;00m \u001b[38;5;21;01msplat\u001b[39;00m\u001b[38;5;21;01m.\u001b[39;00m\u001b[38;5;21;01mutils\u001b[39;00m \u001b[38;5;28;01mimport\u001b[39;00m (\n\u001b[1;32m      3\u001b[0m     build_rotation,\n\u001b[1;32m      4\u001b[0m     get_extrinsic_matrix,\n\u001b[0;32m   (...)\u001b[0m\n\u001b[1;32m      7\u001b[0m     read_image_file,\n\u001b[1;32m      8\u001b[0m )\n\u001b[0;32m---> 10\u001b[0m camera_dict \u001b[38;5;241m=\u001b[39m read_camera_file(\u001b[43mcolmap_path\u001b[49m)\n\u001b[1;32m     11\u001b[0m image_dict \u001b[38;5;241m=\u001b[39m read_image_file(colmap_path)\n\u001b[1;32m     12\u001b[0m images \u001b[38;5;241m=\u001b[39m {}\n",
      "\u001b[0;31mNameError\u001b[0m: name 'colmap_path' is not defined"
     ]
    }
   ],
   "source": [
    "from splat.image import GaussianImage\n",
    "from splat.utils import (\n",
    "    build_rotation,\n",
    "    get_extrinsic_matrix,\n",
    "    getIntinsicMatrix,\n",
    "    read_camera_file,\n",
    "    read_image_file,\n",
    ")\n",
    "\n",
    "camera_dict = read_camera_file(colmap_path)\n",
    "image_dict = read_image_file(colmap_path)\n",
    "images = {}\n",
    "for idx in image_dict.keys():\n",
    "    image = image_dict[idx]\n",
    "    camera = camera_dict[image.camera_id]\n",
    "    image = GaussianImage(camera=camera, image=image)\n",
    "    images[idx] = image\n",
    "\n",
    "\n",
    "image_num = 100\n",
    "rotation_matrix = build_rotation(torch.Tensor(image_dict[image_num].qvec).unsqueeze(0))\n",
    "translation = torch.Tensor(image_dict[image_num].tvec).unsqueeze(0)\n",
    "extrinsic_matrix = get_extrinsic_matrix(rotation_matrix, translation).T\n",
    "focal_x, focal_y = camera_dict[image_dict[image_num].camera_id].params[:2]\n",
    "c_x, c_y = camera_dict[image_dict[image_num].camera_id].params[2:4]\n",
    "width = camera_dict[image_dict[image_num].camera_id].width\n",
    "height = camera_dict[image_dict[image_num].camera_id].height\n",
    "intrinsic_matrix = getIntinsicMatrix(focal_x, focal_y, height, width).T"
   ]
  },
  {
   "cell_type": "code",
   "execution_count": 4,
   "metadata": {},
   "outputs": [
    {
     "ename": "NameError",
     "evalue": "name 'gaussians' is not defined",
     "output_type": "error",
     "traceback": [
      "\u001b[0;31m---------------------------------------------------------------------------\u001b[0m",
      "\u001b[0;31mNameError\u001b[0m                                 Traceback (most recent call last)",
      "Cell \u001b[0;32mIn[4], line 3\u001b[0m\n\u001b[1;32m      1\u001b[0m \u001b[38;5;28;01mfrom\u001b[39;00m \u001b[38;5;21;01msplat\u001b[39;00m\u001b[38;5;21;01m.\u001b[39;00m\u001b[38;5;21;01mrender_engine\u001b[39;00m\u001b[38;5;21;01m.\u001b[39;00m\u001b[38;5;21;01mgaussianScene2\u001b[39;00m \u001b[38;5;28;01mimport\u001b[39;00m GaussianScene2\n\u001b[0;32m----> 3\u001b[0m scene \u001b[38;5;241m=\u001b[39m GaussianScene2(gaussians\u001b[38;5;241m=\u001b[39m\u001b[43mgaussians\u001b[49m)\n\u001b[1;32m      4\u001b[0m scene\u001b[38;5;241m.\u001b[39mdevice \u001b[38;5;241m=\u001b[39m \u001b[38;5;124m\"\u001b[39m\u001b[38;5;124mcuda\u001b[39m\u001b[38;5;124m\"\u001b[39m\n\u001b[1;32m      5\u001b[0m TILE_SIZE \u001b[38;5;241m=\u001b[39m \u001b[38;5;241m16\u001b[39m\n",
      "\u001b[0;31mNameError\u001b[0m: name 'gaussians' is not defined"
     ]
    }
   ],
   "source": [
    "from splat.render_engine.gaussianScene2 import GaussianScene2\n",
    "\n",
    "scene = GaussianScene2(gaussians=gaussians)\n",
    "scene.device = \"cuda\"\n",
    "TILE_SIZE = 16\n",
    "\n",
    "processed_gaussians = scene.preprocess(\n",
    "    extrinsic_matrix=extrinsic_matrix,\n",
    "    intrinsic_matrix=intrinsic_matrix,\n",
    "    focal_x=focal_x,\n",
    "    focal_y=focal_y,\n",
    "    width=width,\n",
    "    height=height,\n",
    "    tile_size=TILE_SIZE\n",
    ")"
   ]
  },
  {
   "cell_type": "code",
   "execution_count": 5,
   "metadata": {},
   "outputs": [
    {
     "name": "stdout",
     "output_type": "stream",
     "text": [
      "317 208\n"
     ]
    },
    {
     "ename": "OutOfMemoryError",
     "evalue": "CUDA out of memory. Tried to allocate 177.40 GiB. GPU 0 has a total capacity of 14.57 GiB of which 13.91 GiB is free. Including non-PyTorch memory, this process has 670.00 MiB memory in use. Of the allocated memory 368.21 MiB is allocated by PyTorch, and 143.79 MiB is reserved by PyTorch but unallocated. If reserved but unallocated memory is large try setting PYTORCH_CUDA_ALLOC_CONF=expandable_segments:True to avoid fragmentation.  See documentation for Memory Management  (https://pytorch.org/docs/stable/notes/cuda.html#environment-variables)",
     "output_type": "error",
     "traceback": [
      "\u001b[0;31m---------------------------------------------------------------------------\u001b[0m",
      "\u001b[0;31mOutOfMemoryError\u001b[0m                          Traceback (most recent call last)",
      "Cell \u001b[0;32mIn[5], line 2\u001b[0m\n\u001b[1;32m      1\u001b[0m \u001b[38;5;28;01mwith\u001b[39;00m torch\u001b[38;5;241m.\u001b[39mno_grad():\n\u001b[0;32m----> 2\u001b[0m     output_image \u001b[38;5;241m=\u001b[39m \u001b[43mscene\u001b[49m\u001b[38;5;241;43m.\u001b[39;49m\u001b[43mrender_cuda\u001b[49m\u001b[43m(\u001b[49m\n\u001b[1;32m      3\u001b[0m \u001b[43m        \u001b[49m\u001b[43mpreprocessed_gaussians\u001b[49m\u001b[38;5;241;43m=\u001b[39;49m\u001b[43mprocessed_gaussians\u001b[49m\u001b[43m,\u001b[49m\u001b[43m \u001b[49m\u001b[43mheight\u001b[49m\u001b[38;5;241;43m=\u001b[39;49m\u001b[43mheight\u001b[49m\u001b[43m,\u001b[49m\u001b[43m \u001b[49m\u001b[43mwidth\u001b[49m\u001b[38;5;241;43m=\u001b[39;49m\u001b[43mwidth\u001b[49m\u001b[43m,\u001b[49m\u001b[43m \u001b[49m\u001b[43mtile_size\u001b[49m\u001b[38;5;241;43m=\u001b[39;49m\u001b[43mTILE_SIZE\u001b[49m\n\u001b[1;32m      4\u001b[0m \u001b[43m    \u001b[49m\u001b[43m)\u001b[49m\n",
      "File \u001b[0;32m~/intro_to_gaussian_splatting/splat/render_engine/gaussianScene2.py:442\u001b[0m, in \u001b[0;36mGaussianScene2.render_cuda\u001b[0;34m(self, preprocessed_gaussians, height, width, tile_size, test)\u001b[0m\n\u001b[1;32m    438\u001b[0m prefix_sum \u001b[38;5;241m=\u001b[39m torch\u001b[38;5;241m.\u001b[39mcumsum(preprocessed_gaussians\u001b[38;5;241m.\u001b[39mtiles_touched\u001b[38;5;241m.\u001b[39mto(torch\u001b[38;5;241m.\u001b[39mint64), dim\u001b[38;5;241m=\u001b[39m\u001b[38;5;241m0\u001b[39m)\n\u001b[1;32m    440\u001b[0m \u001b[38;5;28mprint\u001b[39m(math\u001b[38;5;241m.\u001b[39mceil(width \u001b[38;5;241m/\u001b[39m tile_size), math\u001b[38;5;241m.\u001b[39mceil(height \u001b[38;5;241m/\u001b[39m tile_size))\n\u001b[0;32m--> 442\u001b[0m array \u001b[38;5;241m=\u001b[39m \u001b[43mtorch\u001b[49m\u001b[38;5;241;43m.\u001b[39;49m\u001b[43mzeros\u001b[49m\u001b[43m(\u001b[49m\n\u001b[1;32m    443\u001b[0m \u001b[43m    \u001b[49m\u001b[43m(\u001b[49m\u001b[43mprefix_sum\u001b[49m\u001b[43m[\u001b[49m\u001b[38;5;241;43m-\u001b[39;49m\u001b[38;5;241;43m1\u001b[39;49m\u001b[43m]\u001b[49m\u001b[43m,\u001b[49m\u001b[43m \u001b[49m\u001b[38;5;241;43m4\u001b[39;49m\u001b[43m)\u001b[49m\u001b[43m,\u001b[49m\u001b[43m \u001b[49m\u001b[43mdevice\u001b[49m\u001b[38;5;241;43m=\u001b[39;49m\u001b[38;5;28;43mself\u001b[39;49m\u001b[38;5;241;43m.\u001b[39;49m\u001b[43mdevice\u001b[49m\u001b[43m,\u001b[49m\u001b[43m \u001b[49m\u001b[43mdtype\u001b[49m\u001b[38;5;241;43m=\u001b[39;49m\u001b[43mtorch\u001b[49m\u001b[38;5;241;43m.\u001b[39;49m\u001b[43mfloat16\u001b[49m\n\u001b[1;32m    444\u001b[0m \u001b[43m\u001b[49m\u001b[43m)\u001b[49m\n\u001b[1;32m    445\u001b[0m \u001b[38;5;66;03m# the first 32 bits will be the x_index of the tile\u001b[39;00m\n\u001b[1;32m    446\u001b[0m \u001b[38;5;66;03m# the next 32 bits will be the y_index of the tile\u001b[39;00m\n\u001b[1;32m    447\u001b[0m \u001b[38;5;66;03m# the last 32 bits will be the z depth of the gaussian\u001b[39;00m\n\u001b[1;32m    448\u001b[0m array \u001b[38;5;241m=\u001b[39m preprocessing\u001b[38;5;241m.\u001b[39mcreate_key_to_tile_map_cuda(\n\u001b[1;32m    449\u001b[0m     array,\n\u001b[1;32m    450\u001b[0m     preprocessed_gaussians\u001b[38;5;241m.\u001b[39mmeans_3d\u001b[38;5;241m.\u001b[39mcontiguous(),\n\u001b[0;32m   (...)\u001b[0m\n\u001b[1;32m    453\u001b[0m     prefix_sum,\n\u001b[1;32m    454\u001b[0m )\n",
      "\u001b[0;31mOutOfMemoryError\u001b[0m: CUDA out of memory. Tried to allocate 177.40 GiB. GPU 0 has a total capacity of 14.57 GiB of which 13.91 GiB is free. Including non-PyTorch memory, this process has 670.00 MiB memory in use. Of the allocated memory 368.21 MiB is allocated by PyTorch, and 143.79 MiB is reserved by PyTorch but unallocated. If reserved but unallocated memory is large try setting PYTORCH_CUDA_ALLOC_CONF=expandable_segments:True to avoid fragmentation.  See documentation for Memory Management  (https://pytorch.org/docs/stable/notes/cuda.html#environment-variables)"
     ]
    }
   ],
   "source": [
    "with torch.no_grad():\n",
    "    output_image = scene.render_cuda(\n",
    "        preprocessed_gaussians=processed_gaussians, height=height, width=width, tile_size=TILE_SIZE\n",
    "    )"
   ]
  },
  {
   "cell_type": "code",
   "execution_count": 8,
   "metadata": {},
   "outputs": [],
   "source": [
    "from PIL import Image\n",
    "\n",
    "image = output_image.cpu().numpy() * 255\n",
    "image = Image.fromarray(image.astype(np.uint8))\n",
    "image.save(\"test_output.jpg\")"
   ]
  },
  {
   "cell_type": "code",
   "execution_count": null,
   "metadata": {},
   "outputs": [],
   "source": [
    "from PIL import Image\n",
    "\n",
    "image_path = \"/Users/derek/Desktop/intro_to_gaussian_splatting/data/treehill/images/_DSC8973.JPG\"\n",
    "image = Image.open(image_path)\n",
    "\n",
    "plt.imshow(image)\n",
    "plt.show()"
   ]
  }
 ],
 "metadata": {
  "kernelspec": {
   "display_name": ".venv",
   "language": "python",
   "name": "python3"
  },
  "language_info": {
   "codemirror_mode": {
    "name": "ipython",
    "version": 3
   },
   "file_extension": ".py",
   "mimetype": "text/x-python",
   "name": "python",
   "nbconvert_exporter": "python",
   "pygments_lexer": "ipython3",
   "version": "3.10.15"
  }
 },
 "nbformat": 4,
 "nbformat_minor": 2
}
