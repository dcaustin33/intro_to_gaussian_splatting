{
 "cells": [
  {
   "cell_type": "code",
   "execution_count": 3,
   "metadata": {},
   "outputs": [
    {
     "name": "stdout",
     "output_type": "stream",
     "text": [
      "Vertex Count: 2541226\n",
      "Properties: [('float', 'x'), ('float', 'y'), ('float', 'z'), ('float', 'nx'), ('float', 'ny'), ('float', 'nz'), ('float', 'f_dc_0'), ('float', 'f_dc_1'), ('float', 'f_dc_2'), ('float', 'f_rest_0'), ('float', 'f_rest_1'), ('float', 'f_rest_2'), ('float', 'f_rest_3'), ('float', 'f_rest_4'), ('float', 'f_rest_5'), ('float', 'f_rest_6'), ('float', 'f_rest_7'), ('float', 'f_rest_8'), ('float', 'f_rest_9'), ('float', 'f_rest_10'), ('float', 'f_rest_11'), ('float', 'f_rest_12'), ('float', 'f_rest_13'), ('float', 'f_rest_14'), ('float', 'f_rest_15'), ('float', 'f_rest_16'), ('float', 'f_rest_17'), ('float', 'f_rest_18'), ('float', 'f_rest_19'), ('float', 'f_rest_20'), ('float', 'f_rest_21'), ('float', 'f_rest_22'), ('float', 'f_rest_23'), ('float', 'f_rest_24'), ('float', 'f_rest_25'), ('float', 'f_rest_26'), ('float', 'f_rest_27'), ('float', 'f_rest_28'), ('float', 'f_rest_29'), ('float', 'f_rest_30'), ('float', 'f_rest_31'), ('float', 'f_rest_32'), ('float', 'f_rest_33'), ('float', 'f_rest_34'), ('float', 'f_rest_35'), ('float', 'f_rest_36'), ('float', 'f_rest_37'), ('float', 'f_rest_38'), ('float', 'f_rest_39'), ('float', 'f_rest_40'), ('float', 'f_rest_41'), ('float', 'f_rest_42'), ('float', 'f_rest_43'), ('float', 'f_rest_44'), ('float', 'opacity'), ('float', 'scale_0'), ('float', 'scale_1'), ('float', 'scale_2'), ('float', 'rot_0'), ('float', 'rot_1'), ('float', 'rot_2'), ('float', 'rot_3')]\n"
     ]
    },
    {
     "name": "stderr",
     "output_type": "stream",
     "text": [
      "100%|██████████| 1000/1000 [00:00<00:00, 97099.36it/s]"
     ]
    },
    {
     "name": "stdout",
     "output_type": "stream",
     "text": [
      "[-0.37234583497047424, -0.41850927472114563, -0.25019344687461853]\n",
      "tensor([0.3950, 0.3819, 0.4294])\n"
     ]
    },
    {
     "name": "stderr",
     "output_type": "stream",
     "text": [
      "\n"
     ]
    }
   ],
   "source": [
    "import numpy as np\n",
    "import pycolmap\n",
    "import torch\n",
    "import torch.nn as nn\n",
    "\n",
    "from splat.gaussians import Gaussians\n",
    "from splat.read_utils.read_gs_ply_files import convert_to_gaussian_schema, read_ply_file\n",
    "from splat.utils import read_images_binary, read_images_text\n",
    "\n",
    "# stem = \"/Users/derek/Desktop/intro_to_gaussian_splatting\"\n",
    "stem = \"/home/da2986/intro_to_gaussian_splatting\"\n",
    "\n",
    "# models_path = \"/Users/derek/Downloads/models/\"\n",
    "models_path = \"/home/da2986/intro_to_gaussian_splatting/models\"\n",
    "ply_path = f\"/home/da2986/gaussian-splatting/truck/point_cloud/iteration_30000/point_cloud.ply\"\n",
    "vertices = read_ply_file(ply_path)\n",
    "gaussians = convert_to_gaussian_schema(vertices[:5])\n",
    "\n",
    "colmap_path = f\"{stem}/data/treehill/sparse/0\"\n",
    "colmap_path = f\"/home/da2986/gaussian-splatting/tandt/truck/sparse/0\"\n",
    "reconstruction = pycolmap.Reconstruction(colmap_path)\n",
    "\n",
    "points3d = reconstruction.points3D\n",
    "images = read_images_binary(f\"{colmap_path}/images.bin\")\n",
    "cameras = reconstruction.cameras"
   ]
  },
  {
   "cell_type": "code",
   "execution_count": 10,
   "metadata": {},
   "outputs": [],
   "source": [
    "from splat.image import GaussianImage\n",
    "from splat.utils import (\n",
    "    build_rotation,\n",
    "    get_extrinsic_matrix,\n",
    "    getIntinsicMatrix,\n",
    "    read_camera_file,\n",
    "    read_image_file,\n",
    ")\n",
    "\n",
    "camera_dict = read_camera_file(colmap_path)\n",
    "image_dict = read_image_file(colmap_path)\n",
    "images = {}\n",
    "for idx in image_dict.keys():\n",
    "    image = image_dict[idx]\n",
    "    camera = camera_dict[image.camera_id]\n",
    "    image = GaussianImage(camera=camera, image=image)\n",
    "    images[idx] = image\n",
    "\n",
    "\n",
    "image_num = 2\n",
    "rotation_matrix = build_rotation(torch.Tensor(image_dict[image_num].qvec).unsqueeze(0))\n",
    "translation = torch.Tensor(image_dict[image_num].tvec).unsqueeze(0)\n",
    "extrinsic_matrix = get_extrinsic_matrix(rotation_matrix, translation).T\n",
    "focal_x, focal_y = camera_dict[image_dict[image_num].camera_id].params[:2] / 2\n",
    "focal_x = int(focal_x)\n",
    "focal_y = int(focal_y)\n",
    "c_x, c_y = camera_dict[image_dict[image_num].camera_id].params[2:4]\n",
    "width = camera_dict[image_dict[image_num].camera_id].width / 2\n",
    "width = int(width)\n",
    "height = camera_dict[image_dict[image_num].camera_id].height / 2\n",
    "height = int(height)\n",
    "intrinsic_matrix = getIntinsicMatrix(focal_x, focal_y, height, width).T"
   ]
  },
  {
   "cell_type": "code",
   "execution_count": 11,
   "metadata": {},
   "outputs": [],
   "source": [
    "from splat.render_engine.gaussianScene2 import GaussianScene2\n",
    "\n",
    "scene = GaussianScene2(gaussians=gaussians)\n",
    "scene.device = \"cpu\"\n",
    "TILE_SIZE = 16"
   ]
  },
  {
   "cell_type": "code",
   "execution_count": 12,
   "metadata": {},
   "outputs": [
    {
     "name": "stdout",
     "output_type": "stream",
     "text": [
      "covariance_2d tensor([[[ 5.2790, -1.3900],\n",
      "         [-1.3900,  0.7212]]])\n",
      "mid tensor([3.0001])\n",
      "det tensor([1.8751])\n",
      "lambda1, lambda2 tensor([5.6695]) tensor([0.3307])\n",
      "torch.Size([2, 5]) torch.Size([2, 5])\n"
     ]
    }
   ],
   "source": [
    "processed_gaussians = scene.preprocess(\n",
    "    extrinsic_matrix=extrinsic_matrix,\n",
    "    intrinsic_matrix=intrinsic_matrix,\n",
    "    focal_x=focal_x,\n",
    "    focal_y=focal_y,\n",
    "    width=width,\n",
    "    height=height,\n",
    "    tile_size=TILE_SIZE\n",
    ")"
   ]
  },
  {
   "cell_type": "code",
   "execution_count": 13,
   "metadata": {},
   "outputs": [
    {
     "data": {
      "image/png": "[encoded data removed]",
      "text/plain": [
       "<Figure size 640x480 with 1 Axes>"
      ]
     },
     "metadata": {},
     "output_type": "display_data"
    }
   ],
   "source": [
    "import matplotlib.pyplot as plt\n",
    "\n",
    "plt.scatter(\n",
    "    processed_gaussians.means_3d[:, 0].detach().cpu(),\n",
    "    processed_gaussians.means_3d[:, 1].detach().cpu(),\n",
    "    c=processed_gaussians.color.detach().cpu(),\n",
    "    s=1,\n",
    ")\n",
    "\n",
    "plt.xlim(0, height)\n",
    "plt.ylim(0, width)\n",
    "plt.gca().invert_yaxis()\n",
    "plt.show()"
   ]
  },
  {
   "cell_type": "code",
   "execution_count": 14,
   "metadata": {},
   "outputs": [
    {
     "name": "stdout",
     "output_type": "stream",
     "text": [
      "starting sum\n",
      "ending sum\n"
     ]
    },
    {
     "name": "stderr",
     "output_type": "stream",
     "text": [
      "100%|██████████| 16/16 [00:00<00:00, 13135.42it/s]\n"
     ]
    },
    {
     "name": "stdout",
     "output_type": "stream",
     "text": [
      "156 31\n"
     ]
    },
    {
     "name": "stderr",
     "output_type": "stream",
     "text": [
      "100%|██████████| 16/16 [00:00<00:00, 10869.59it/s]\n"
     ]
    },
    {
     "data": {
      "image/png": "[encoded data removed]",
      "text/plain": [
       "<Figure size 640x480 with 1 Axes>"
      ]
     },
     "metadata": {},
     "output_type": "display_data"
    }
   ],
   "source": [
    "with torch.no_grad():\n",
    "    output_image = scene.render(\n",
    "        preprocessed_gaussians=processed_gaussians, height=height, width=width, tile_size=TILE_SIZE\n",
    "    )\n",
    "\n",
    "plt.imshow(output_image.cpu().numpy())\n",
    "plt.show()"
   ]
  },
  {
   "cell_type": "code",
   "execution_count": 15,
   "metadata": {},
   "outputs": [
    {
     "name": "stdout",
     "output_type": "stream",
     "text": [
      "Found 0 non-zero pixels at coordinates:\n"
     ]
    },
    {
     "data": {
      "image/png": "[encoded data removed]",
      "text/plain": [
       "<Figure size 1000x1000 with 1 Axes>"
      ]
     },
     "metadata": {},
     "output_type": "display_data"
    }
   ],
   "source": [
    "import numpy as np\n",
    "import matplotlib.pyplot as plt\n",
    "\n",
    "# Convert output image to numpy and find non-zero pixels\n",
    "image_np = output_image.cpu().numpy()\n",
    "nonzero_pixels = np.argwhere(image_np > 1e-3)\n",
    "\n",
    "print(f\"Found {len(nonzero_pixels)} non-zero pixels at coordinates:\")\n",
    "for y, x, c in nonzero_pixels:\n",
    "    print(f\"Position (y={y}, x={x}, channel={c}), Value={image_np[y,x,c]}\")\n",
    "\n",
    "# Optional visualization of non-zero pixel locations\n",
    "plt.figure(figsize=(10,10))\n",
    "plt.scatter(nonzero_pixels[:,1], nonzero_pixels[:,0], c='red', s=1, alpha=0.1)\n",
    "plt.title(\"Non-zero pixel locations\")\n",
    "plt.xlabel(\"X coordinate\") \n",
    "plt.ylabel(\"Y coordinate\")\n",
    "plt.gca().invert_yaxis() # Invert Y axis to match image coordinates\n",
    "plt.show()\n"
   ]
  }
 ],
 "metadata": {
  "kernelspec": {
   "display_name": ".venv",
   "language": "python",
   "name": "python3"
  },
  "language_info": {
   "codemirror_mode": {
    "name": "ipython",
    "version": 3
   },
   "file_extension": ".py",
   "mimetype": "text/x-python",
   "name": "python",
   "nbconvert_exporter": "python",
   "pygments_lexer": "ipython3",
   "version": "3.10.14"
  }
 },
 "nbformat": 4,
 "nbformat_minor": 2
}
