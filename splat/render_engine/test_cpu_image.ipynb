{
 "cells": [
  {
   "cell_type": "code",
   "execution_count": null,
   "metadata": {},
   "outputs": [],
   "source": [
    "import numpy as np\n",
    "import pycolmap\n",
    "import torch\n",
    "import torch.nn as nn\n",
    "\n",
    "from splat.gaussians import Gaussians\n",
    "from splat.read_utils.read_gs_ply_files import convert_to_gaussian_schema, read_ply_file\n",
    "from splat.utils import read_images_binary, read_images_text\n",
    "\n",
    "stem = \"/Users/derek/Desktop/intro_to_gaussian_splatting\"\n",
    "# stem = \"/home/da2986/intro_to_gaussian_splatting\"\n",
    "\n",
    "models_path = \"/Users/derek/Downloads/models/\"\n",
    "ply_path = f\"{models_path}/treehill/point_cloud/iteration_7000/point_cloud.ply\"\n",
    "vertices = read_ply_file(ply_path)\n",
    "gaussians = convert_to_gaussian_schema(vertices)\n",
    "\n",
    "colmap_path = f\"{stem}/data/treehill/sparse/0\"\n",
    "reconstruction = pycolmap.Reconstruction(colmap_path)\n",
    "\n",
    "points3d = reconstruction.points3D\n",
    "images = read_images_binary(f\"{colmap_path}/images.bin\")\n",
    "cameras = reconstruction.cameras"
   ]
  },
  {
   "cell_type": "code",
   "execution_count": 2,
   "metadata": {},
   "outputs": [],
   "source": [
    "from splat.image import GaussianImage\n",
    "from splat.utils import (\n",
    "    build_rotation,\n",
    "    get_extrinsic_matrix,\n",
    "    getIntinsicMatrix,\n",
    "    read_camera_file,\n",
    "    read_image_file,\n",
    ")\n",
    "\n",
    "camera_dict = read_camera_file(colmap_path)\n",
    "image_dict = read_image_file(colmap_path)\n",
    "images = {}\n",
    "for idx in image_dict.keys():\n",
    "    image = image_dict[idx]\n",
    "    camera = camera_dict[image.camera_id]\n",
    "    image = GaussianImage(camera=camera, image=image)\n",
    "    images[idx] = image\n",
    "\n",
    "\n",
    "image_num = 100\n",
    "rotation_matrix = build_rotation(torch.Tensor(image_dict[image_num].qvec).unsqueeze(0))\n",
    "translation = torch.Tensor(image_dict[image_num].tvec).unsqueeze(0)\n",
    "extrinsic_matrix = get_extrinsic_matrix(rotation_matrix, translation).T\n",
    "focal_x, focal_y = camera_dict[image_dict[image_num].camera_id].params[:2]\n",
    "c_x, c_y = camera_dict[image_dict[image_num].camera_id].params[2:4]\n",
    "width = camera_dict[image_dict[image_num].camera_id].width\n",
    "height = camera_dict[image_dict[image_num].camera_id].height\n",
    "intrinsic_matrix = getIntinsicMatrix(focal_x, focal_y, height, width).T"
   ]
  },
  {
   "cell_type": "code",
   "execution_count": null,
   "metadata": {},
   "outputs": [],
   "source": [
    "from splat.render_engine.utils import compute_fov_from_focal\n",
    "import math\n",
    "\n",
    "covariance = gaussians.get_3d_covariance_matrix()[0:1]\n",
    "mean = gaussians.points[0:1]\n",
    "t = torch.concat([mean, torch.ones((1, 1))], dim=1)\n",
    "output = t @ extrinsic_matrix\n",
    "x = output[:, 0] / output[:, 2]\n",
    "y = output[:, 1] / output[:, 2]\n",
    "z = output[:, 2]\n",
    "\n",
    "print(mean, output, x, y, z)\n",
    "\n",
    "fovX = compute_fov_from_focal(focal_x, width)\n",
    "fovY = compute_fov_from_focal(focal_y, height)\n",
    "\n",
    "tan_fovX = math.tan(fovX / 2)\n",
    "tan_fovY = math.tan(fovY / 2)\n",
    "\n",
    "x = torch.clamp(x, -1.3 * tan_fovX, 1.3 * tan_fovX) * output[:, 2]\n",
    "y = torch.clamp(y, -1.3 * tan_fovY, 1.3 * tan_fovY) * output[:, 2]\n",
    "\n",
    "j = torch.zeros(1, 3, 3)\n",
    "j[:, 0, 0] = focal_x / z\n",
    "j[:, 0, 2] = -(focal_x * x) / (z ** 2)\n",
    "j[:, 1, 1] = focal_y / z\n",
    "j[:, 1, 2] = -(focal_y * y) / (z ** 2)\n",
    "\n",
    "t = extrinsic_matrix[:3, :3].T @ j\n",
    "print(j)"
   ]
  },
  {
   "cell_type": "code",
   "execution_count": 4,
   "metadata": {},
   "outputs": [],
   "source": [
    "from splat.render_engine.gaussianScene2 import GaussianScene2\n",
    "\n",
    "scene = GaussianScene2(gaussians=gaussians)\n",
    "scene.device = \"cpu\"\n",
    "TILE_SIZE = 16"
   ]
  },
  {
   "cell_type": "code",
   "execution_count": null,
   "metadata": {},
   "outputs": [],
   "source": [
    "processed_gaussians = scene.preprocess(\n",
    "    extrinsic_matrix=extrinsic_matrix,\n",
    "    intrinsic_matrix=intrinsic_matrix,\n",
    "    focal_x=focal_x,\n",
    "    focal_y=focal_y,\n",
    "    width=width,\n",
    "    height=height,\n",
    "    tile_size=TILE_SIZE\n",
    ")"
   ]
  },
  {
   "cell_type": "code",
   "execution_count": null,
   "metadata": {},
   "outputs": [],
   "source": [
    "processed_gaussians.radius"
   ]
  },
  {
   "cell_type": "code",
   "execution_count": null,
   "metadata": {},
   "outputs": [],
   "source": [
    "import matplotlib.pyplot as plt\n",
    "\n",
    "plt.scatter(\n",
    "    processed_gaussians.means_3d[:, 0].detach().cpu(),\n",
    "    processed_gaussians.means_3d[:, 1].detach().cpu(),\n",
    "    c=processed_gaussians.color.detach().cpu(),\n",
    "    s=1,\n",
    ")\n",
    "\n",
    "plt.xlim(0, 6000)\n",
    "plt.ylim(0, 3744)\n",
    "plt.gca().invert_yaxis()\n",
    "plt.show()"
   ]
  },
  {
   "cell_type": "code",
   "execution_count": null,
   "metadata": {},
   "outputs": [],
   "source": [
    "from PIL import Image\n",
    "\n",
    "image_path = \"/Users/derek/Desktop/intro_to_gaussian_splatting/data/treehill/images/_DSC8973.JPG\"\n",
    "image = Image.open(image_path)\n",
    "\n",
    "plt.imshow(image)\n",
    "plt.show()"
   ]
  }
 ],
 "metadata": {
  "kernelspec": {
   "display_name": ".venv",
   "language": "python",
   "name": "python3"
  },
  "language_info": {
   "codemirror_mode": {
    "name": "ipython",
    "version": 3
   },
   "file_extension": ".py",
   "mimetype": "text/x-python",
   "name": "python",
   "nbconvert_exporter": "python",
   "pygments_lexer": "ipython3",
   "version": "3.10.15"
  }
 },
 "nbformat": 4,
 "nbformat_minor": 2
}
