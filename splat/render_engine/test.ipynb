{
 "cells": [
  {
   "cell_type": "code",
   "execution_count": 3,
   "metadata": {},
   "outputs": [],
   "source": [
    "from splat.gaussians import Gaussians\n",
    "from splat.gaussian_scene import GaussianScene\n",
    "import pycolmap\n",
    "import torch\n",
    "import torch.nn as nn\n",
    "import numpy as np\n",
    "\n",
    "from splat.utils import read_images_text, read_images_binary\n",
    "\n",
    "colmap_path = \"/Users/derek/Desktop/intro_to_gaussian_splatting/data/treehill/sparse/0\"\n",
    "reconstruction = pycolmap.Reconstruction(colmap_path)\n",
    "\n",
    "points3d = reconstruction.points3D\n",
    "images = read_images_binary(f\"{colmap_path}/images.bin\")\n",
    "cameras = reconstruction.cameras\n",
    "\n",
    "all_points3d = []\n",
    "all_point_colors = []\n",
    "\n",
    "for idx, point in enumerate(points3d.values()):\n",
    "    if point.track.length() >= 2:\n",
    "        all_points3d.append(point.xyz)\n",
    "        all_point_colors.append(point.color)\n",
    "\n",
    "gaussians = Gaussians(\n",
    "    torch.Tensor(all_points3d),\n",
    "    torch.Tensor(all_point_colors),\n",
    "    model_path=\"/Users/derek/Desktop/intro_to_gaussian_splatting/data/point_clouds\",\n",
    ")\n",
    "\n",
    "gaussian_scene = GaussianScene(gaussians)"
   ]
  },
  {
   "cell_type": "code",
   "execution_count": null,
   "metadata": {},
   "outputs": [],
   "source": []
  }
 ],
 "metadata": {
  "kernelspec": {
   "display_name": ".venv",
   "language": "python",
   "name": "python3"
  },
  "language_info": {
   "codemirror_mode": {
    "name": "ipython",
    "version": 3
   },
   "file_extension": ".py",
   "mimetype": "text/x-python",
   "name": "python",
   "nbconvert_exporter": "python",
   "pygments_lexer": "ipython3",
   "version": "3.10.14"
  }
 },
 "nbformat": 4,
 "nbformat_minor": 2
}
