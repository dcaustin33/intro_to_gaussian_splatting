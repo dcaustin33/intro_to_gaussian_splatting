{
 "cells": [
  {
   "cell_type": "code",
   "execution_count": 10,
   "metadata": {},
   "outputs": [
    {
     "data": {
      "text/plain": [
       "tensor([[  0.,   0., 100.,   1.]])"
      ]
     },
     "execution_count": 10,
     "metadata": {},
     "output_type": "execute_result"
    }
   ],
   "source": [
    "import torch\n",
    "\n",
    "\n",
    "points = torch.Tensor([[0, 0, 0]])\n",
    "rotation = torch.eye(3)\n",
    "translation = torch.Tensor([0, 0, 100])\n",
    "extrinsic_matrix = torch.cat([rotation, translation.unsqueeze(1)], dim=1)\n",
    "extrinsic_matrix = torch.cat([extrinsic_matrix, torch.Tensor([[0, 0, 0, 1]])], dim=0)\n",
    "\n",
    "points_homogeneous = torch.cat([points, torch.ones(points.shape[0], 1)], dim=1)\n",
    "points_camera_space = points_homogeneous @ extrinsic_matrix.T\n",
    "\n",
    "points_camera_space"
   ]
  },
  {
   "cell_type": "code",
   "execution_count": 18,
   "metadata": {},
   "outputs": [
    {
     "name": "stdout",
     "output_type": "stream",
     "text": [
      "tensor([3.4091e-05]) tensor([-3.4091e-05]) tensor([2.2727e-05]) tensor([-2.2727e-05]) tensor([0.0010]) tensor([100.])\n",
      "tensor([0.]) tensor([0.]) tensor([100.])\n"
     ]
    },
    {
     "data": {
      "text/plain": [
       "tensor([[[1936.,    0.],\n",
       "         [   0., 1936.]]])"
      ]
     },
     "execution_count": 18,
     "metadata": {},
     "output_type": "execute_result"
    }
   ],
   "source": [
    "import math\n",
    "from typing import Tuple\n",
    "from splat.render_engine.utils import compute_fov_from_focal\n",
    "from splat.utils import getIntinsicMatrix\n",
    "\n",
    "far_clipping_plane = 10000.0\n",
    "near_clipping_plane = 0.001\n",
    "\n",
    "focal_x = 4400\n",
    "focal_y = 4400\n",
    "height = 200\n",
    "width = 300\n",
    "\n",
    "intrinsic_matrix = getIntinsicMatrix(focal_x, focal_y, height, width)\n",
    "\n",
    "def compute_2d_covariance(\n",
    "    points_homogeneous: torch.Tensor,\n",
    "    covariance_3d: torch.Tensor,\n",
    "    extrinsic_matrix: torch.Tensor,\n",
    "    tan_fovX: float,\n",
    "    tan_fovY: float,\n",
    "    focal_x: float,\n",
    "    focal_y: float,\n",
    ") -> Tuple[torch.Tensor, torch.Tensor]:\n",
    "    \"\"\"Make sure the extrinsic matrix has the translation in the last row\"\"\"\n",
    "\n",
    "    points_camera_space = points_homogeneous @ extrinsic_matrix\n",
    "    x = points_camera_space[:, 0] / points_camera_space[:, 2]\n",
    "    y = points_camera_space[:, 1] / points_camera_space[:, 2]\n",
    "    x = torch.clamp(x, -1.3 * tan_fovX, 1.3 * tan_fovX) * points_camera_space[:, 2]\n",
    "    y = torch.clamp(y, -1.3 * tan_fovY, 1.3 * tan_fovY) * points_camera_space[:, 2]\n",
    "    z = points_camera_space[:, 2]\n",
    "    print(x, y, z)\n",
    "\n",
    "    j = torch.zeros((points_camera_space.shape[0], 2, 3)).to(\"cpu\")\n",
    "    j[:, 0, 0] = focal_x / z\n",
    "    j[:, 0, 2] = -(focal_x * x) / (z**2)\n",
    "    j[:, 1, 1] = focal_y / z\n",
    "    j[:, 1, 2] = -(focal_y * y) / (z**2)\n",
    "\n",
    "    # we assume our extrinsic matrix has the translation in the last row\n",
    "    # so it is already transposed so we transpose back\n",
    "    # overall formula for a normal extrinsic matrix is\n",
    "    # J @ W @ covariance_3d @ W.T @ J.T\n",
    "    covariance2d = (\n",
    "        j\n",
    "        @ extrinsic_matrix[:3, :3].T\n",
    "        @ covariance_3d\n",
    "        @ extrinsic_matrix[:3, :3]\n",
    "        @ j.transpose(1, 2)\n",
    "    )\n",
    "    return covariance2d, points_camera_space\n",
    "\n",
    "covariance_3d = torch.eye(3)\n",
    "\n",
    "fovX = compute_fov_from_focal(focal_x, width)\n",
    "fovY = compute_fov_from_focal(focal_y, height)\n",
    "tan_fovX = math.tan(fovX / 2)\n",
    "tan_fovY = math.tan(fovY / 2)\n",
    "\n",
    "covariance2d, points_camera_space = compute_2d_covariance(points_homogeneous, covariance_3d, extrinsic_matrix.T, tan_fovX, tan_fovY, focal_x, focal_y)\n",
    "\n",
    "covariance2d"
   ]
  },
  {
   "cell_type": "code",
   "execution_count": null,
   "metadata": {},
   "outputs": [],
   "source": []
  }
 ],
 "metadata": {
  "kernelspec": {
   "display_name": ".venv",
   "language": "python",
   "name": "python3"
  },
  "language_info": {
   "codemirror_mode": {
    "name": "ipython",
    "version": 3
   },
   "file_extension": ".py",
   "mimetype": "text/x-python",
   "name": "python",
   "nbconvert_exporter": "python",
   "pygments_lexer": "ipython3",
   "version": "3.10.14"
  }
 },
 "nbformat": 4,
 "nbformat_minor": 2
}
