{
 "cells": [
  {
   "cell_type": "code",
   "execution_count": 1,
   "metadata": {},
   "outputs": [],
   "source": [
    "\n",
    "from splat.read_colmap import read_images_text, qvec2rotmat\n",
    "from splat.scene import GaussianScene\n",
    "import pycolmap\n",
    "import torch \n",
    "import torch.nn as nn\n",
    "import numpy as np\n",
    "\n",
    "reconstruction = pycolmap.Reconstruction(\"/Users/derek/Desktop/colmap/gerrard-hall/sparse/0\")\n",
    "\n",
    "points3d = reconstruction.points3D\n",
    "images = read_images_text(\"/Users/derek/Desktop/colmap/gerrard-hall/sparse/images.txt\")\n",
    "cameras = reconstruction.cameras\n",
    "\n",
    "all_points3d = []\n",
    "all_point_colors = []\n",
    "for point in points3d.values():\n",
    "    # I would assume this is seeing it from multiple images\n",
    "    if point.track.length() >= 5:\n",
    "        all_points3d.append(point.xyz)\n",
    "        all_point_colors.append(point.color / 256)\n",
    "        \n",
    "scene = GaussianScene(torch.Tensor(np.array(all_points3d)[:10000]), torch.Tensor(np.array(all_point_colors)))"
   ]
  },
  {
   "cell_type": "code",
   "execution_count": 2,
   "metadata": {},
   "outputs": [],
   "source": [
    "# project all points to 2d\n",
    "from splat.utils import get_intrinsic_matrix, get_extrinsic_matrix\n",
    "\n",
    "image_num = 14\n",
    "\n",
    "fx, fy, cx, cy = cameras[1].params[:4]\n",
    "intrinsic_homogeneous = get_intrinsic_matrix(fx, fy, cx, cy)\n",
    "image_qvec = images[image_num].qvec\n",
    "image_tvec = images[image_num].tvec\n",
    "# normalize the qvec\n",
    "# image_qvec = image_qvec / np.linalg.norm(image_qvec)\n",
    "image_rotation_matrix = qvec2rotmat(image_qvec)\n",
    "image_translation = torch.Tensor(image_tvec)\n",
    "extrinsic_matrix = get_extrinsic_matrix(image_rotation_matrix, image_translation)\n",
    "\n",
    "points, z, covariances = scene.get_points_and_covariance(extrinsic_matrix=extrinsic_matrix, intrinsic_matrix=intrinsic_homogeneous)"
   ]
  },
  {
   "cell_type": "code",
   "execution_count": 3,
   "metadata": {},
   "outputs": [
    {
     "data": {
      "text/plain": [
       "tensor([[[ 782.2245,   99.8242],\n",
       "         [  99.8242,  602.5770]],\n",
       "\n",
       "        [[7099.2739, -536.1555],\n",
       "         [-536.1555, 5643.7432]],\n",
       "\n",
       "        [[ 445.1354,   58.2010],\n",
       "         [  58.2010,  342.7206]],\n",
       "\n",
       "        ...,\n",
       "\n",
       "        [[1967.9679,  130.8376],\n",
       "         [ 130.8376, 1661.1034]],\n",
       "\n",
       "        [[1886.1122,  139.9867],\n",
       "         [ 139.9867, 1589.6194]],\n",
       "\n",
       "        [[2658.3203,  190.9201],\n",
       "         [ 190.9201, 2215.4553]]], grad_fn=<StackBackward0>)"
      ]
     },
     "execution_count": 3,
     "metadata": {},
     "output_type": "execute_result"
    }
   ],
   "source": [
    "covariances"
   ]
  },
  {
   "cell_type": "code",
   "execution_count": 3,
   "metadata": {},
   "outputs": [
    {
     "data": {
      "text/plain": [
       "tensor([[[0.0100, 0.0000, 0.0000],\n",
       "         [0.0000, 0.0100, 0.0000],\n",
       "         [0.0000, 0.0000, 0.0100]],\n",
       "\n",
       "        [[0.0100, 0.0000, 0.0000],\n",
       "         [0.0000, 0.0100, 0.0000],\n",
       "         [0.0000, 0.0000, 0.0100]],\n",
       "\n",
       "        [[0.0100, 0.0000, 0.0000],\n",
       "         [0.0000, 0.0100, 0.0000],\n",
       "         [0.0000, 0.0000, 0.0100]],\n",
       "\n",
       "        [[0.0100, 0.0000, 0.0000],\n",
       "         [0.0000, 0.0100, 0.0000],\n",
       "         [0.0000, 0.0000, 0.0100]],\n",
       "\n",
       "        [[0.0100, 0.0000, 0.0000],\n",
       "         [0.0000, 0.0100, 0.0000],\n",
       "         [0.0000, 0.0000, 0.0100]]], grad_fn=<UnsafeViewBackward0>)"
      ]
     },
     "execution_count": 3,
     "metadata": {},
     "output_type": "execute_result"
    }
   ],
   "source": [
    "camera_coord_points = torch.concatenate([points, z], dim=1)\n",
    "three_dim_cov = scene.get_3d_covariance_matrix()\n",
    "three_dim_cov"
   ]
  },
  {
   "cell_type": "code",
   "execution_count": 4,
   "metadata": {},
   "outputs": [
    {
     "data": {
      "text/plain": [
       "tensor([[[ 1.1425e+10, -6.4468e+09,  0.0000e+00],\n",
       "         [-6.4468e+09,  3.6376e+09,  0.0000e+00],\n",
       "         [ 0.0000e+00,  0.0000e+00,  0.0000e+00]],\n",
       "\n",
       "        [[ 1.1425e+10, -6.4468e+09,  0.0000e+00],\n",
       "         [-6.4468e+09,  3.6376e+09,  0.0000e+00],\n",
       "         [ 0.0000e+00,  0.0000e+00,  0.0000e+00]],\n",
       "\n",
       "        [[ 1.1425e+10, -6.4468e+09,  0.0000e+00],\n",
       "         [-6.4468e+09,  3.6376e+09,  0.0000e+00],\n",
       "         [ 0.0000e+00,  0.0000e+00,  0.0000e+00]],\n",
       "\n",
       "        [[ 1.1425e+10, -6.4468e+09,  0.0000e+00],\n",
       "         [-6.4468e+09,  3.6376e+09,  0.0000e+00],\n",
       "         [ 0.0000e+00,  0.0000e+00,  0.0000e+00]],\n",
       "\n",
       "        [[ 1.1425e+10, -6.4468e+09,  0.0000e+00],\n",
       "         [-6.4468e+09,  3.6376e+09,  0.0000e+00],\n",
       "         [ 0.0000e+00,  0.0000e+00,  0.0000e+00]]],\n",
       "       grad_fn=<UnsafeViewBackward0>)"
      ]
     },
     "execution_count": 4,
     "metadata": {},
     "output_type": "execute_result"
    }
   ],
   "source": [
    "intrinsic_matrix = intrinsic_homogeneous\n",
    "\n",
    "fx = intrinsic_matrix[0, 0]\n",
    "fy = fx\n",
    "W = extrinsic_matrix[:3, :3].transpose(0, 1)\n",
    "camera_coords_x = camera_coord_points[:, 0] / camera_coord_points[:, 2]\n",
    "camera_coords_y = camera_coord_points[:, 1] / camera_coord_points[:, 2]\n",
    "camera_coords_z = camera_coord_points[:, 2]\n",
    "\n",
    "jacobian = torch.zeros((3, 3))\n",
    "jacobian[0, 0] = (fx.item() / camera_coords_z)[0]\n",
    "jacobian[1, 1] = (fy.item() / camera_coords_z)[0]\n",
    "jacobian[0, 2] = -(fx.item() * camera_coords_x / (camera_coords_z ** 2))[0]\n",
    "jacobian[1, 2] = (fy.item() * camera_coords_y / (camera_coords_z ** 2))[0]\n",
    "\n",
    "variance = jacobian @ W @ three_dim_cov @ W.T @ jacobian.T\n",
    "variance"
   ]
  },
  {
   "cell_type": "code",
   "execution_count": 58,
   "metadata": {},
   "outputs": [
    {
     "data": {
      "text/plain": [
       "tensor([5238.3228,  713.4075, 5254.3169, 4824.4849,  712.8593],\n",
       "       grad_fn=<SelectBackward0>)"
      ]
     },
     "execution_count": 58,
     "metadata": {},
     "output_type": "execute_result"
    }
   ],
   "source": [
    "camera_coords_x"
   ]
  },
  {
   "cell_type": "code",
   "execution_count": 3,
   "metadata": {},
   "outputs": [
    {
     "name": "stdout",
     "output_type": "stream",
     "text": [
      "torch.Size([5064, 1064, 3]) 78 15\n"
     ]
    },
    {
     "name": "stderr",
     "output_type": "stream",
     "text": [
      "100%|██████████| 78/78 [01:06<00:00,  1.17it/s]\n"
     ]
    }
   ],
   "source": [
    "import torch\n",
    "\n",
    "with torch.no_grad():\n",
    "    output_scene = scene.render_scene(\n",
    "        projected_points=points,\n",
    "        projected_covariances=covariances,\n",
    "        z_component=z,\n",
    "        height = 1000,\n",
    "        width = 5000,\n",
    "        tile_size=64\n",
    "    )"
   ]
  },
  {
   "cell_type": "code",
   "execution_count": 4,
   "metadata": {},
   "outputs": [
    {
     "data": {
      "text/plain": [
       "<matplotlib.image.AxesImage at 0x2cf7d57b0>"
      ]
     },
     "execution_count": 4,
     "metadata": {},
     "output_type": "execute_result"
    },
    {
     "data": {
      "image/png": "[encoded data removed]",
      "text/plain": [
       "<Figure size 640x480 with 1 Axes>"
      ]
     },
     "metadata": {},
     "output_type": "display_data"
    }
   ],
   "source": [
    "from matplotlib import pyplot as plt\n",
    "\n",
    "plt.imshow(output_scene.detach().numpy().transpose(1, 0, 2))"
   ]
  },
  {
   "cell_type": "code",
   "execution_count": 4,
   "metadata": {},
   "outputs": [
    {
     "data": {
      "text/plain": [
       "<matplotlib.image.AxesImage at 0x2c9d11930>"
      ]
     },
     "execution_count": 4,
     "metadata": {},
     "output_type": "execute_result"
    },
    {
     "data": {
      "image/png": "[encoded data removed]",
      "text/plain": [
       "<Figure size 640x480 with 1 Axes>"
      ]
     },
     "metadata": {},
     "output_type": "display_data"
    }
   ],
   "source": [
    "from matplotlib import pyplot as plt\n",
    "\n",
    "plt.imshow(output_scene.detach().numpy().transpose(1, 0, 2))"
   ]
  },
  {
   "cell_type": "code",
   "execution_count": 10,
   "metadata": {},
   "outputs": [
    {
     "data": {
      "text/plain": [
       "torch.Size([5016, 1016, 3])"
      ]
     },
     "execution_count": 10,
     "metadata": {},
     "output_type": "execute_result"
    }
   ],
   "source": [
    "output_scene.shape"
   ]
  },
  {
   "cell_type": "code",
   "execution_count": null,
   "metadata": {},
   "outputs": [],
   "source": [
    "truth = points"
   ]
  },
  {
   "cell_type": "code",
   "execution_count": 50,
   "metadata": {},
   "outputs": [
    {
     "data": {
      "image/png": "[encoded data removed]",
      "text/plain": [
       "<Figure size 1200x700 with 1 Axes>"
      ]
     },
     "metadata": {},
     "output_type": "display_data"
    }
   ],
   "source": [
    "import numpy as np\n",
    "import matplotlib.pyplot as plt\n",
    "points2d = np.array(points.cpu().detach())\n",
    "colors2d = np.array(scene.colors.cpu().detach())\n",
    "\n",
    "# Plot points\n",
    "plt.figure(figsize=(12, 7))\n",
    "plt.scatter(points2d[:, 0], points2d[:, 1], c=colors2d[:5])\n",
    "plt.xlim(0, 6000)\n",
    "plt.ylim(0, 3500)\n",
    "plt.gca().invert_yaxis()  # Invert the y-axis to match the image coordinates\n",
    "plt.title('Projected Points on Camera Image Plane')\n",
    "plt.show()\n"
   ]
  }
 ],
 "metadata": {
  "kernelspec": {
   "display_name": ".venv",
   "language": "python",
   "name": "python3"
  },
  "language_info": {
   "codemirror_mode": {
    "name": "ipython",
    "version": 3
   },
   "file_extension": ".py",
   "mimetype": "text/x-python",
   "name": "python",
   "nbconvert_exporter": "python",
   "pygments_lexer": "ipython3",
   "version": "3.10.14"
  }
 },
 "nbformat": 4,
 "nbformat_minor": 2
}
