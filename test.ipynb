{
 "cells": [
  {
   "cell_type": "code",
   "execution_count": null,
   "metadata": {},
   "outputs": [],
   "source": [
    "from splat.read_colmap import read_images_text, qvec2rotmat\n",
    "from splat.gaussians import Gaussians\n",
    "from splat.gaussian_scene import GaussianScene\n",
    "import pycolmap\n",
    "import torch \n",
    "import torch.nn as nn\n",
    "import numpy as np\n",
    "\n",
    "from splat.utils import read_images_text, read_images_binary\n",
    "\n",
    "# colmap_path = \"/Users/derek/Desktop/colmap/360_extra_scenes/treehill/sparse/0\"\n",
    "colmap_path = \"360_extra_scenes/treehill/sparse/0\"\n",
    "\n",
    "reconstruction = pycolmap.Reconstruction(colmap_path)\n",
    "test = False\n",
    "\n",
    "points3d = reconstruction.points3D\n",
    "images = read_images_binary(f\"{colmap_path}/images.bin\")\n",
    "cameras = reconstruction.cameras\n",
    "\n",
    "all_points3d = []\n",
    "all_point_colors = []\n",
    "image_num = 100\n",
    "\n",
    "for idx, point in enumerate(points3d.values()):\n",
    "    # I would assume this is seeing it from multiple images\n",
    "    if point.track.length() >= 2:\n",
    "        all_points3d.append(point.xyz)\n",
    "        all_point_colors.append(point.color)\n",
    "        \n",
    "image = images[image_num]\n",
    "points_in_3d = []\n",
    "points2d = []\n",
    "colors2d = []\n",
    "for idx, point in enumerate(image.xys):\n",
    "    point3d_id = image.point3D_ids[idx]\n",
    "    if point3d_id > 0:\n",
    "        try:\n",
    "            color = points3d[point3d_id].color\n",
    "            points_in_3d.append(points3d[point3d_id].xyz)\n",
    "            points2d.append(point)\n",
    "            colors2d.append(color)\n",
    "        except:\n",
    "            pass\n",
    "        \n",
    "all_points3d = np.array(all_points3d)\n",
    "all_point_colors = np.array(all_point_colors)\n",
    "points_in_3d = np.array(points_in_3d)\n",
    "points2d = np.array(points2d)\n",
    "colors2d = np.array(colors2d)\n",
    "\n",
    "print(all_points3d.shape, points_in_3d.shape)\n",
    "gaussians = Gaussians(\n",
    "    torch.Tensor(points_in_3d), \n",
    "    torch.Tensor(colors2d),\n",
    "    model_path=\"./point_clouds\"\n",
    ")"
   ]
  },
  {
   "cell_type": "code",
   "execution_count": null,
   "metadata": {},
   "outputs": [],
   "source": [
    "import matplotlib.pyplot as plt\n",
    "\n",
    "scene = GaussianScene(\n",
    "    colmap_path=colmap_path,\n",
    "    gaussians=gaussians,\n",
    ")\n",
    "\n",
    "plt.scatter(points2d[:, 0], points2d[:, 1], c=colors2d / 256, s=1)\n",
    "plt.xlim(0, 6000)\n",
    "plt.ylim(0, 3744)\n",
    "plt.gca().invert_yaxis() "
   ]
  },
  {
   "cell_type": "code",
   "execution_count": null,
   "metadata": {},
   "outputs": [],
   "source": [
    "with torch.no_grad():\n",
    "    points, colors = scene.render_points_image(image_num)\n",
    "\n",
    "print(points.shape)\n",
    "plt.scatter(points[:, 0], points[:, 1], c=colors, s=1)\n",
    "plt.xlim(0, 6000)\n",
    "plt.ylim(0, 3744)\n",
    "plt.gca().invert_yaxis() "
   ]
  },
  {
   "cell_type": "code",
   "execution_count": null,
   "metadata": {},
   "outputs": [],
   "source": [
    "processed_scene = scene.preprocess(image_num)\n",
    "print(points.shape)\n",
    "plt.scatter(processed_scene.points_xy[:, 0].detach(), processed_scene.points_xy[:, 1].detach(), c=processed_scene.colors.detach(), s=1)\n",
    "plt.xlim(0, 6000)\n",
    "plt.ylim(0, 3744)\n",
    "plt.gca().invert_yaxis() "
   ]
  },
  {
   "cell_type": "code",
   "execution_count": null,
   "metadata": {},
   "outputs": [],
   "source": [
    "image = scene.render_image(image_num)"
   ]
  },
  {
   "cell_type": "code",
   "execution_count": null,
   "metadata": {},
   "outputs": [],
   "source": [
    "image.max()"
   ]
  },
  {
   "cell_type": "code",
   "execution_count": null,
   "metadata": {},
   "outputs": [],
   "source": [
    "from matplotlib import pyplot as plt\n",
    "plt.imshow(image.detach().transpose(0, 1))"
   ]
  }
 ],
 "metadata": {
  "kernelspec": {
   "display_name": ".venv",
   "language": "python",
   "name": "python3"
  },
  "language_info": {
   "codemirror_mode": {
    "name": "ipython",
    "version": 3
   },
   "file_extension": ".py",
   "mimetype": "text/x-python",
   "name": "python",
   "nbconvert_exporter": "python",
   "pygments_lexer": "ipython3",
   "version": "3.10.13"
  }
 },
 "nbformat": 4,
 "nbformat_minor": 2
}
