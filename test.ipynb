{
 "cells": [
  {
   "cell_type": "code",
   "execution_count": 4,
   "metadata": {},
   "outputs": [],
   "source": [
    "import open3d as o3d\n",
    "\n",
    "# Replace 'your_file.ply' with the path to your .ply file\n",
    "ply_file_path = 'luma.ply'\n",
    "\n",
    "# Load the point cloud from the .ply file\n",
    "point_cloud = o3d.io.read_point_cloud(ply_file_path)\n",
    "colmap_path = \"360_extra_scenes/treehill/sparse/0\"\n"
   ]
  },
  {
   "cell_type": "code",
   "execution_count": null,
   "metadata": {},
   "outputs": [],
   "source": [
    "from splat.read_colmap import read_images_text, qvec2rotmat\n",
    "from splat.gaussians import Gaussians\n",
    "from splat.gaussian_scene import GaussianScene\n",
    "import pycolmap\n",
    "import torch \n",
    "import torch.nn as nn\n",
    "import numpy as np\n",
    "\n",
    "from splat.utils import read_images_text, read_images_binary\n",
    "import open3d as o3d\n",
    "\n",
    "# Replace 'your_file.ply' with the path to your .ply file\n",
    "ply_file_path = 'luma.ply'\n",
    "point_cloud = o3d.io.read_point_cloud(ply_file_path)\n",
    "colmap_path = \"360_extra_scenes/treehill/sparse/0\"\n",
    "\n",
    "reconstruction = pycolmap.Reconstruction(colmap_path)\n",
    "test = False\n",
    "\n",
    "points3d = reconstruction.points3D\n",
    "images = read_images_binary(f\"{colmap_path}/images.bin\")\n",
    "cameras = reconstruction.cameras\n",
    "\n",
    "image_num = 100\n",
    "image = images[image_num]\n",
    "\n",
    "gaussians = Gaussians(\n",
    "    torch.Tensor(point_cloud.points), \n",
    "    torch.Tensor(point_cloud.colors),\n",
    "    model_path=\"./point_clouds\"\n",
    ")"
   ]
  },
  {
   "cell_type": "code",
   "execution_count": 10,
   "metadata": {},
   "outputs": [
    {
     "data": {
      "text/plain": [
       "['HalfEdgeTriangleMesh',\n",
       " 'Image',\n",
       " 'LineSet',\n",
       " 'PointCloud',\n",
       " 'RGBDImage',\n",
       " 'TetraMesh',\n",
       " 'TriangleMesh',\n",
       " 'Type',\n",
       " 'Unspecified',\n",
       " 'VoxelGrid',\n",
       " '__add__',\n",
       " '__class__',\n",
       " '__copy__',\n",
       " '__deepcopy__',\n",
       " '__delattr__',\n",
       " '__dir__',\n",
       " '__doc__',\n",
       " '__eq__',\n",
       " '__format__',\n",
       " '__ge__',\n",
       " '__getattribute__',\n",
       " '__gt__',\n",
       " '__hash__',\n",
       " '__iadd__',\n",
       " '__init__',\n",
       " '__init_subclass__',\n",
       " '__le__',\n",
       " '__lt__',\n",
       " '__module__',\n",
       " '__ne__',\n",
       " '__new__',\n",
       " '__reduce__',\n",
       " '__reduce_ex__',\n",
       " '__repr__',\n",
       " '__setattr__',\n",
       " '__sizeof__',\n",
       " '__str__',\n",
       " '__subclasshook__',\n",
       " 'clear',\n",
       " 'cluster_dbscan',\n",
       " 'colors',\n",
       " 'compute_convex_hull',\n",
       " 'compute_mahalanobis_distance',\n",
       " 'compute_mean_and_covariance',\n",
       " 'compute_nearest_neighbor_distance',\n",
       " 'compute_point_cloud_distance',\n",
       " 'covariances',\n",
       " 'create_from_depth_image',\n",
       " 'create_from_rgbd_image',\n",
       " 'crop',\n",
       " 'detect_planar_patches',\n",
       " 'dimension',\n",
       " 'estimate_covariances',\n",
       " 'estimate_normals',\n",
       " 'estimate_point_covariances',\n",
       " 'farthest_point_down_sample',\n",
       " 'get_axis_aligned_bounding_box',\n",
       " 'get_center',\n",
       " 'get_geometry_type',\n",
       " 'get_max_bound',\n",
       " 'get_min_bound',\n",
       " 'get_minimal_oriented_bounding_box',\n",
       " 'get_oriented_bounding_box',\n",
       " 'get_rotation_matrix_from_axis_angle',\n",
       " 'get_rotation_matrix_from_quaternion',\n",
       " 'get_rotation_matrix_from_xyz',\n",
       " 'get_rotation_matrix_from_xzy',\n",
       " 'get_rotation_matrix_from_yxz',\n",
       " 'get_rotation_matrix_from_yzx',\n",
       " 'get_rotation_matrix_from_zxy',\n",
       " 'get_rotation_matrix_from_zyx',\n",
       " 'has_colors',\n",
       " 'has_covariances',\n",
       " 'has_normals',\n",
       " 'has_points',\n",
       " 'hidden_point_removal',\n",
       " 'is_empty',\n",
       " 'normalize_normals',\n",
       " 'normals',\n",
       " 'orient_normals_consistent_tangent_plane',\n",
       " 'orient_normals_to_align_with_direction',\n",
       " 'orient_normals_towards_camera_location',\n",
       " 'paint_uniform_color',\n",
       " 'points',\n",
       " 'random_down_sample',\n",
       " 'remove_duplicated_points',\n",
       " 'remove_non_finite_points',\n",
       " 'remove_radius_outlier',\n",
       " 'remove_statistical_outlier',\n",
       " 'rotate',\n",
       " 'scale',\n",
       " 'segment_plane',\n",
       " 'select_by_index',\n",
       " 'transform',\n",
       " 'translate',\n",
       " 'uniform_down_sample',\n",
       " 'voxel_down_sample',\n",
       " 'voxel_down_sample_and_trace']"
      ]
     },
     "execution_count": 10,
     "metadata": {},
     "output_type": "execute_result"
    }
   ],
   "source": [
    "dir(point_cloud)"
   ]
  },
  {
   "cell_type": "code",
   "execution_count": 17,
   "metadata": {},
   "outputs": [
    {
     "data": {
      "text/plain": [
       "array([-0.30839244,  0.15411164,  0.53241785])"
      ]
     },
     "execution_count": 17,
     "metadata": {},
     "output_type": "execute_result"
    }
   ],
   "source": [
    "import numpy as np\n",
    "points = np.asarray(point_cloud.points)\n",
    "colors = np.asarray(point_cloud.colors)\n",
    "\n"
   ]
  }
 ],
 "metadata": {
  "kernelspec": {
   "display_name": ".venv",
   "language": "python",
   "name": "python3"
  },
  "language_info": {
   "codemirror_mode": {
    "name": "ipython",
    "version": 3
   },
   "file_extension": ".py",
   "mimetype": "text/x-python",
   "name": "python",
   "nbconvert_exporter": "python",
   "pygments_lexer": "ipython3",
   "version": "3.10.13"
  }
 },
 "nbformat": 4,
 "nbformat_minor": 2
}
