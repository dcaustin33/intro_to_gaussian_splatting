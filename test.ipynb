{
 "cells": [
  {
   "cell_type": "code",
   "execution_count": 101,
   "metadata": {},
   "outputs": [],
   "source": [
    "\n",
    "from splat.read_colmap import read_images_text, qvec2rotmat\n",
    "from splat.scene import GaussianScene\n",
    "import pycolmap\n",
    "import torch \n",
    "import torch.nn as nn\n",
    "import numpy as np\n",
    "\n",
    "reconstruction = pycolmap.Reconstruction(\"/Users/derek/Desktop/colmap/gerrard-hall/sparse/0\")\n",
    "\n",
    "points3d = reconstruction.points3D\n",
    "images = read_images_text(\"/Users/derek/Desktop/colmap/gerrard-hall/sparse/images.txt\")\n",
    "cameras = reconstruction.cameras\n",
    "\n",
    "all_points3d = []\n",
    "all_point_colors = []\n",
    "for idx, point in enumerate(points3d.values()):\n",
    "    # I would assume this is seeing it from multiple images\n",
    "    if point.track.length() >= 5:\n",
    "        all_points3d.append(point.xyz)\n",
    "        all_point_colors.append(point.color / 256)\n",
    "    # if idx == 10000: break\n",
    "        \n",
    "scene = GaussianScene(torch.Tensor(np.array(all_points3d)), torch.Tensor(np.array(all_point_colors)))"
   ]
  },
  {
   "cell_type": "code",
   "execution_count": 102,
   "metadata": {},
   "outputs": [],
   "source": [
    "with torch.no_grad():\n",
    "    covariance_3d = scene.get_3d_covariance_matrix()\n",
    "    # gets around the 99% mark\n",
    "    point = scene.points\n",
    "    point[:, 0] = point[:, 0] + 2.5 * covariance_3d[:, 0, 0]\n",
    "    point[:, 1] = point[:, 1] + 2.5 * covariance_3d[:, 1, 1]\n",
    "    point[:, 2] = point[:, 2] + 2.5 * covariance_3d[:, 2, 2]\n"
   ]
  },
  {
   "cell_type": "code",
   "execution_count": 103,
   "metadata": {},
   "outputs": [],
   "source": [
    "# project all points to 2d\n",
    "from splat.utils import get_intrinsic_matrix, get_extrinsic_matrix\n",
    "\n",
    "image_num = 14\n",
    "\n",
    "fx, fy, cx, cy = cameras[1].params[:4]\n",
    "intrinsic_homogeneous = get_intrinsic_matrix(fx, fy, cx, cy)\n",
    "image_qvec = images[image_num].qvec\n",
    "image_tvec = images[image_num].tvec\n",
    "# normalize the qvec\n",
    "# image_qvec = image_qvec / np.linalg.norm(image_qvec)\n",
    "image_rotation_matrix = qvec2rotmat(image_qvec)\n",
    "image_translation = torch.Tensor(image_tvec)\n",
    "extrinsic_matrix = get_extrinsic_matrix(image_rotation_matrix, image_translation)\n",
    "\n",
    "points, z, covariances = scene.get_points_and_covariance(extrinsic_matrix=extrinsic_matrix, intrinsic_matrix=intrinsic_homogeneous)"
   ]
  },
  {
   "cell_type": "code",
   "execution_count": 105,
   "metadata": {},
   "outputs": [],
   "source": [
    "point = scene.points[:1]\n",
    "covariance = scene.get_3d_covariance_matrix()[:1]"
   ]
  },
  {
   "cell_type": "code",
   "execution_count": 107,
   "metadata": {},
   "outputs": [
    {
     "data": {
      "text/plain": [
       "tensor([[[ 5.5805e+02, -2.6979e-05,  0.0000e+00],\n",
       "         [-4.3600e-05,  5.5805e+02,  0.0000e+00],\n",
       "         [ 0.0000e+00,  0.0000e+00,  0.0000e+00]]],\n",
       "       grad_fn=<UnsafeViewBackward0>)"
      ]
     },
     "execution_count": 107,
     "metadata": {},
     "output_type": "execute_result"
    }
   ],
   "source": [
    "import math\n",
    "new_point = torch.cat([point, torch.ones(point.shape[0], 1)], dim=1)\n",
    "points_in_camera_coords = extrinsic_matrix @ new_point.T\n",
    "W = extrinsic_matrix[:3, :3]\n",
    "x_comp = points_in_camera_coords[0, 0]\n",
    "y_comp = points_in_camera_coords[1, 0]\n",
    "z_comp = points_in_camera_coords[2, 0]\n",
    "f_x = intrinsic_homogeneous[0, 0]\n",
    "f_y = intrinsic_homogeneous[1, 1]\n",
    "\n",
    "def clamp(value, min_value, max_value):\n",
    "    return max(min_value, min(value, max_value))\n",
    "\n",
    "aspect = f_x / f_y\n",
    "# tanfovx = math.tan(viewpoint_camera.FoVx * 0.5)\n",
    "# tanfovy = math.tan(viewpoint_camera.FoVy * 0.5)\n",
    "tanFovX = 1 / f_x\n",
    "tanFovY = 1 / (fy * aspect)\n",
    "limX = 1.3 * tanFovX\n",
    "limY = 1.3 * tanFovY\n",
    "x_comp = clamp(x_comp / z_comp, -limX, limX) * z_comp\n",
    "y_comp = clamp(y_comp / z_comp, -limY, limY) * z_comp\n",
    "\n",
    "\n",
    "covariance = W @ covariance @ W.T\n",
    "f = f_x\n",
    "\n",
    "\n",
    "jacobian = torch.zeros((3, 3), device=points.device)\n",
    "jacobian[0, 0] = f / z_comp\n",
    "jacobian[1, 1] = f / z_comp\n",
    "jacobian[0, 2] = -f * x_comp / (z_comp**2)\n",
    "jacobian[1, 2] = -f * y_comp / (z_comp**2)\n",
    "\n",
    "cov = jacobian @ W @ covariance @ W.T @ jacobian.T\n",
    "cov"
   ]
  },
  {
   "cell_type": "code",
   "execution_count": 96,
   "metadata": {},
   "outputs": [
    {
     "data": {
      "text/plain": [
       "tensor([[ 5.5743e+02, -1.9657e-04],\n",
       "        [-1.9368e-04,  5.5743e+02]], grad_fn=<SliceBackward0>)"
      ]
     },
     "execution_count": 96,
     "metadata": {},
     "output_type": "execute_result"
    }
   ],
   "source": [
    "cov[0, :2, :2]"
   ]
  },
  {
   "cell_type": "code",
   "execution_count": 92,
   "metadata": {},
   "outputs": [
    {
     "data": {
      "text/plain": [
       "tensor(1.6829, grad_fn=<SelectBackward0>)"
      ]
     },
     "execution_count": 92,
     "metadata": {},
     "output_type": "execute_result"
    }
   ],
   "source": [
    "x_comp"
   ]
  },
  {
   "cell_type": "code",
   "execution_count": 70,
   "metadata": {},
   "outputs": [
    {
     "data": {
      "text/plain": [
       "tensor([[-2914.3435,     0.0000,     0.0000],\n",
       "        [    0.0000, -2913.5732,     0.0000],\n",
       "        [ 3142.5115,  -303.4549,     0.0000]], grad_fn=<PermuteBackward0>)"
      ]
     },
     "execution_count": 70,
     "metadata": {},
     "output_type": "execute_result"
    }
   ],
   "source": [
    "jacobian.T"
   ]
  },
  {
   "cell_type": "code",
   "execution_count": 67,
   "metadata": {},
   "outputs": [
    {
     "data": {
      "text/plain": [
       "tensor([[-2914.3435,     0.0000,  3142.5115],\n",
       "        [    0.0000, -2913.5732,  -303.4549],\n",
       "        [    0.0000,     0.0000,     0.0000]], grad_fn=<CopySlices>)"
      ]
     },
     "execution_count": 67,
     "metadata": {},
     "output_type": "execute_result"
    }
   ],
   "source": [
    "jacobian"
   ]
  },
  {
   "cell_type": "code",
   "execution_count": 62,
   "metadata": {},
   "outputs": [
    {
     "data": {
      "text/plain": [
       "torch.Size([3])"
      ]
     },
     "execution_count": 62,
     "metadata": {},
     "output_type": "execute_result"
    }
   ],
   "source": [
    "W.shape"
   ]
  },
  {
   "cell_type": "code",
   "execution_count": 58,
   "metadata": {},
   "outputs": [
    {
     "data": {
      "text/plain": [
       "tensor([[1.6829],\n",
       "        [0.7535],\n",
       "        [2.6617],\n",
       "        [1.0000]], grad_fn=<MmBackward0>)"
      ]
     },
     "execution_count": 58,
     "metadata": {},
     "output_type": "execute_result"
    }
   ],
   "source": [
    "points_in_camera_coords"
   ]
  },
  {
   "cell_type": "code",
   "execution_count": 55,
   "metadata": {},
   "outputs": [
    {
     "data": {
      "text/plain": [
       "tensor([[[ 7.8222e+02,  9.9824e+01],\n",
       "         [ 9.9824e+01,  6.0258e+02]],\n",
       "\n",
       "        [[ 4.8849e+02, -3.6892e+01],\n",
       "         [-3.6892e+01,  3.8834e+02]],\n",
       "\n",
       "        [[ 4.4514e+02,  5.8201e+01],\n",
       "         [ 5.8201e+01,  3.4272e+02]],\n",
       "\n",
       "        ...,\n",
       "\n",
       "        [[ 1.2684e+03, -3.0435e+01],\n",
       "         [-3.0435e+01,  1.2224e+03]],\n",
       "\n",
       "        [[ 4.2450e+02, -3.5269e+01],\n",
       "         [-3.5269e+01,  4.8587e+02]],\n",
       "\n",
       "        [[ 1.0212e+02,  1.0920e+00],\n",
       "         [ 1.0920e+00,  9.7914e+01]]], grad_fn=<StackBackward0>)"
      ]
     },
     "execution_count": 55,
     "metadata": {},
     "output_type": "execute_result"
    }
   ],
   "source": [
    "covariances"
   ]
  },
  {
   "cell_type": "code",
   "execution_count": 4,
   "metadata": {},
   "outputs": [
    {
     "name": "stdout",
     "output_type": "stream",
     "text": [
      "torch.Size([3064, 1064, 3]) 46 15\n"
     ]
    },
    {
     "name": "stderr",
     "output_type": "stream",
     "text": [
      "100%|██████████| 46/46 [00:17<00:00,  2.68it/s]\n"
     ]
    }
   ],
   "source": [
    "import torch\n",
    "\n",
    "with torch.no_grad():\n",
    "    output_scene = scene.render_scene(\n",
    "        projected_points=points,\n",
    "        projected_covariances=covariances,\n",
    "        z_component=z,\n",
    "        height = 1000,\n",
    "        width = 3000,\n",
    "        tile_size=64\n",
    "    )"
   ]
  },
  {
   "cell_type": "code",
   "execution_count": 5,
   "metadata": {},
   "outputs": [
    {
     "data": {
      "text/plain": [
       "<matplotlib.image.AxesImage at 0x4b2c19930>"
      ]
     },
     "execution_count": 5,
     "metadata": {},
     "output_type": "execute_result"
    },
    {
     "data": {
      "image/png": "[encoded data removed]",
      "text/plain": [
       "<Figure size 640x480 with 1 Axes>"
      ]
     },
     "metadata": {},
     "output_type": "display_data"
    }
   ],
   "source": [
    "from matplotlib import pyplot as plt\n",
    "\n",
    "plt.imshow(output_scene.detach().numpy().transpose(1, 0, 2))"
   ]
  },
  {
   "cell_type": "code",
   "execution_count": 5,
   "metadata": {},
   "outputs": [
    {
     "data": {
      "text/plain": [
       "<matplotlib.image.AxesImage at 0x283d19840>"
      ]
     },
     "execution_count": 5,
     "metadata": {},
     "output_type": "execute_result"
    },
    {
     "data": {
      "image/png": "[encoded data removed]",
      "text/plain": [
       "<Figure size 640x480 with 1 Axes>"
      ]
     },
     "metadata": {},
     "output_type": "display_data"
    }
   ],
   "source": [
    "from matplotlib import pyplot as plt\n",
    "\n",
    "plt.imshow(output_scene.detach().numpy().transpose(1, 0, 2))"
   ]
  },
  {
   "cell_type": "code",
   "execution_count": 4,
   "metadata": {},
   "outputs": [
    {
     "data": {
      "text/plain": [
       "<matplotlib.image.AxesImage at 0x2c9d11930>"
      ]
     },
     "execution_count": 4,
     "metadata": {},
     "output_type": "execute_result"
    },
    {
     "data": {
      "image/png": "[encoded data removed]",
      "text/plain": [
       "<Figure size 640x480 with 1 Axes>"
      ]
     },
     "metadata": {},
     "output_type": "display_data"
    }
   ],
   "source": [
    "from matplotlib import pyplot as plt\n",
    "\n",
    "plt.imshow(output_scene.detach().numpy().transpose(1, 0, 2))"
   ]
  }
 ],
 "metadata": {
  "kernelspec": {
   "display_name": ".venv",
   "language": "python",
   "name": "python3"
  },
  "language_info": {
   "codemirror_mode": {
    "name": "ipython",
    "version": 3
   },
   "file_extension": ".py",
   "mimetype": "text/x-python",
   "name": "python",
   "nbconvert_exporter": "python",
   "pygments_lexer": "ipython3",
   "version": "3.10.14"
  }
 },
 "nbformat": 4,
 "nbformat_minor": 2
}
