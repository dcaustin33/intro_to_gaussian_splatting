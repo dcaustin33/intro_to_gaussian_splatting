{
 "cells": [
  {
   "cell_type": "code",
   "execution_count": 1,
   "metadata": {},
   "outputs": [
    {
     "name": "stdout",
     "output_type": "stream",
     "text": [
      "Reading camera 141/141\n",
      "Loading Training Cameras\n",
      "Loading Test Cameras\n",
      "Number of points at initialisation :  52363\n"
     ]
    }
   ],
   "source": [
    "from scene.gaussian_model import GaussianModel\n",
    "from scene import Scene\n",
    "\n",
    "gaussians = GaussianModel(2)\n",
    "model_path = \"../point_clouds\"\n",
    "image_path = \"/Users/derek/Desktop/colmap/360_extra_scenes/treehill/images\"\n",
    "source_path = \"/Users/derek/Desktop/colmap/360_extra_scenes/treehill\"\n",
    "eval = False\n",
    "white_background = False\n",
    "\n",
    "\n",
    "\n",
    "scene = Scene(\n",
    "    gaussians=gaussians,\n",
    "    model_path=model_path,\n",
    "    image_path=image_path,\n",
    "    source_path=source_path,\n",
    "    eval=eval,\n",
    "    white_background=white_background\n",
    ")"
   ]
  },
  {
   "cell_type": "code",
   "execution_count": 15,
   "metadata": {},
   "outputs": [
    {
     "data": {
      "text/plain": [
       "1996.9560742681651"
      ]
     },
     "execution_count": 15,
     "metadata": {},
     "output_type": "execute_result"
    }
   ],
   "source": [
    "import math\n",
    "3744 / (2 * math.tan(scene.getTrainCameras()[0].FoVy))\n"
   ]
  },
  {
   "cell_type": "code",
   "execution_count": null,
   "metadata": {},
   "outputs": [],
   "source": []
  }
 ],
 "metadata": {
  "kernelspec": {
   "display_name": ".venv",
   "language": "python",
   "name": "python3"
  },
  "language_info": {
   "codemirror_mode": {
    "name": "ipython",
    "version": 3
   },
   "file_extension": ".py",
   "mimetype": "text/x-python",
   "name": "python",
   "nbconvert_exporter": "python",
   "pygments_lexer": "ipython3",
   "version": "3.10.14"
  }
 },
 "nbformat": 4,
 "nbformat_minor": 2
}
