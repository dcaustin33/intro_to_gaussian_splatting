{
 "cells": [
  {
   "cell_type": "code",
   "execution_count": 1,
   "metadata": {},
   "outputs": [
    {
     "name": "stdout",
     "output_type": "stream",
     "text": [
      "Reading camera 141/141\n",
      "Loading Training Cameras\n",
      "Loading Test Cameras\n",
      "Number of points at initialisation :  52363\n"
     ]
    }
   ],
   "source": [
    "from scene.gaussian_model import GaussianModel\n",
    "from scene import Scene\n",
    "\n",
    "gaussians = GaussianModel(2)\n",
    "model_path = \"../point_clouds\"\n",
    "image_path = \"/Users/derek/Desktop/colmap/360_extra_scenes/treehill/images\"\n",
    "source_path = \"/Users/derek/Desktop/colmap/360_extra_scenes/treehill\"\n",
    "eval = False\n",
    "white_background = False\n",
    "\n",
    "\n",
    "\n",
    "scene = Scene(\n",
    "    gaussians=gaussians,\n",
    "    model_path=model_path,\n",
    "    image_path=image_path,\n",
    "    source_path=source_path,\n",
    "    eval=eval,\n",
    "    white_background=white_background\n",
    ")"
   ]
  },
  {
   "cell_type": "code",
   "execution_count": null,
   "metadata": {},
   "outputs": [
    {
     "data": {
      "text/plain": [
       "torch.Size([38347, 3])"
      ]
     },
     "execution_count": 3,
     "metadata": {},
     "output_type": "execute_result"
    }
   ],
   "source": [
    "scene.gaussians._xyz.shape"
   ]
  }
 ],
 "metadata": {
  "kernelspec": {
   "display_name": ".venv",
   "language": "python",
   "name": "python3"
  },
  "language_info": {
   "codemirror_mode": {
    "name": "ipython",
    "version": 3
   },
   "file_extension": ".py",
   "mimetype": "text/x-python",
   "name": "python",
   "nbconvert_exporter": "python",
   "pygments_lexer": "ipython3",
   "version": "3.10.14"
  }
 },
 "nbformat": 4,
 "nbformat_minor": 2
}
