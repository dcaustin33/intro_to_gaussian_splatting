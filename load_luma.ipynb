{
 "cells": [
  {
   "cell_type": "code",
   "execution_count": 20,
   "metadata": {},
   "outputs": [],
   "source": [
    "from plyfile import PlyData\n",
    "import numpy as np\n",
    "import torch\n",
    "\n",
    "from splat.gaussians import Gaussians\n",
    "\n",
    "xyz = np.load(\"/Users/derek/Desktop/personal_gaussian_splatting/point_clouds/luma/xyz.npy\")\n",
    "colors = np.load(\"/Users/derek/Desktop/personal_gaussian_splatting/point_clouds/luma/rgb_values.npy\")\n",
    "rots = np.load(\"/Users/derek/Desktop/personal_gaussian_splatting/point_clouds/luma/rots.npy\")\n",
    "scales = np.load(\"/Users/derek/Desktop/personal_gaussian_splatting/point_clouds/luma/scales.npy\")\n",
    "opacity = np.load(\"/Users/derek/Desktop/personal_gaussian_splatting/point_clouds/luma/opacities.npy\")\n",
    "\n",
    "gaussians = Gaussians(\n",
    "    points=torch.Tensor(xyz),\n",
    "    colors=torch.Tensor(colors),\n",
    "    opacity=opacity,\n",
    "    scale=scales,\n",
    "    quaternion=rots,\n",
    ")"
   ]
  },
  {
   "cell_type": "code",
   "execution_count": null,
   "metadata": {},
   "outputs": [],
   "source": [
    "import matplotlib.pyplot as plt\n",
    "from splat.gaussian_scene import GaussianScene\n",
    "\n",
    "colmap_path = \"/teamspace/studios/this_studio/personal_gaussian_splatting/treehill/sparse/0\"\n",
    "\n",
    "scene = GaussianScene(\n",
    "    colmap_path=colmap_path,\n",
    "    gaussians=gaussians,\n",
    ")\n"
   ]
  }
 ],
 "metadata": {
  "kernelspec": {
   "display_name": ".venv",
   "language": "python",
   "name": "python3"
  },
  "language_info": {
   "codemirror_mode": {
    "name": "ipython",
    "version": 3
   },
   "file_extension": ".py",
   "mimetype": "text/x-python",
   "name": "python",
   "nbconvert_exporter": "python",
   "pygments_lexer": "ipython3",
   "version": "3.10.14"
  }
 },
 "nbformat": 4,
 "nbformat_minor": 2
}
